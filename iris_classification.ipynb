{
  "nbformat": 4,
  "nbformat_minor": 0,
  "metadata": {
    "colab": {
      "name": "iris_classification.ipynb",
      "provenance": [],
      "collapsed_sections": [],
      "authorship_tag": "ABX9TyPR6Dc7alhtUlkKeGqfJS5e",
      "include_colab_link": true
    },
    "kernelspec": {
      "name": "python3",
      "display_name": "Python 3"
    },
    "language_info": {
      "name": "python"
    }
  },
  "cells": [
    {
      "cell_type": "markdown",
      "metadata": {
        "id": "view-in-github",
        "colab_type": "text"
      },
      "source": [
        "<a href=\"https://colab.research.google.com/github/junanote/test_deeplearning/blob/master/iris_classification.ipynb\" target=\"_parent\"><img src=\"https://colab.research.google.com/assets/colab-badge.svg\" alt=\"Open In Colab\"/></a>"
      ]
    },
    {
      "cell_type": "code",
      "metadata": {
        "id": "m9UXwIQg-3CX"
      },
      "source": [
        "from sklearn import datasets"
      ],
      "execution_count": 1,
      "outputs": []
    },
    {
      "cell_type": "code",
      "metadata": {
        "colab": {
          "base_uri": "https://localhost:8080/"
        },
        "id": "GBmrcJEc_eIA",
        "outputId": "5b7dad70-96f0-4ab1-c7ba-dbc7616cb18d"
      },
      "source": [
        "iris = datasets.load_iris()\n",
        "iris"
      ],
      "execution_count": 2,
      "outputs": [
        {
          "output_type": "execute_result",
          "data": {
            "text/plain": [
              "{'DESCR': '.. _iris_dataset:\\n\\nIris plants dataset\\n--------------------\\n\\n**Data Set Characteristics:**\\n\\n    :Number of Instances: 150 (50 in each of three classes)\\n    :Number of Attributes: 4 numeric, predictive attributes and the class\\n    :Attribute Information:\\n        - sepal length in cm\\n        - sepal width in cm\\n        - petal length in cm\\n        - petal width in cm\\n        - class:\\n                - Iris-Setosa\\n                - Iris-Versicolour\\n                - Iris-Virginica\\n                \\n    :Summary Statistics:\\n\\n    ============== ==== ==== ======= ===== ====================\\n                    Min  Max   Mean    SD   Class Correlation\\n    ============== ==== ==== ======= ===== ====================\\n    sepal length:   4.3  7.9   5.84   0.83    0.7826\\n    sepal width:    2.0  4.4   3.05   0.43   -0.4194\\n    petal length:   1.0  6.9   3.76   1.76    0.9490  (high!)\\n    petal width:    0.1  2.5   1.20   0.76    0.9565  (high!)\\n    ============== ==== ==== ======= ===== ====================\\n\\n    :Missing Attribute Values: None\\n    :Class Distribution: 33.3% for each of 3 classes.\\n    :Creator: R.A. Fisher\\n    :Donor: Michael Marshall (MARSHALL%PLU@io.arc.nasa.gov)\\n    :Date: July, 1988\\n\\nThe famous Iris database, first used by Sir R.A. Fisher. The dataset is taken\\nfrom Fisher\\'s paper. Note that it\\'s the same as in R, but not as in the UCI\\nMachine Learning Repository, which has two wrong data points.\\n\\nThis is perhaps the best known database to be found in the\\npattern recognition literature.  Fisher\\'s paper is a classic in the field and\\nis referenced frequently to this day.  (See Duda & Hart, for example.)  The\\ndata set contains 3 classes of 50 instances each, where each class refers to a\\ntype of iris plant.  One class is linearly separable from the other 2; the\\nlatter are NOT linearly separable from each other.\\n\\n.. topic:: References\\n\\n   - Fisher, R.A. \"The use of multiple measurements in taxonomic problems\"\\n     Annual Eugenics, 7, Part II, 179-188 (1936); also in \"Contributions to\\n     Mathematical Statistics\" (John Wiley, NY, 1950).\\n   - Duda, R.O., & Hart, P.E. (1973) Pattern Classification and Scene Analysis.\\n     (Q327.D83) John Wiley & Sons.  ISBN 0-471-22361-1.  See page 218.\\n   - Dasarathy, B.V. (1980) \"Nosing Around the Neighborhood: A New System\\n     Structure and Classification Rule for Recognition in Partially Exposed\\n     Environments\".  IEEE Transactions on Pattern Analysis and Machine\\n     Intelligence, Vol. PAMI-2, No. 1, 67-71.\\n   - Gates, G.W. (1972) \"The Reduced Nearest Neighbor Rule\".  IEEE Transactions\\n     on Information Theory, May 1972, 431-433.\\n   - See also: 1988 MLC Proceedings, 54-64.  Cheeseman et al\"s AUTOCLASS II\\n     conceptual clustering system finds 3 classes in the data.\\n   - Many, many more ...',\n",
              " 'data': array([[5.1, 3.5, 1.4, 0.2],\n",
              "        [4.9, 3. , 1.4, 0.2],\n",
              "        [4.7, 3.2, 1.3, 0.2],\n",
              "        [4.6, 3.1, 1.5, 0.2],\n",
              "        [5. , 3.6, 1.4, 0.2],\n",
              "        [5.4, 3.9, 1.7, 0.4],\n",
              "        [4.6, 3.4, 1.4, 0.3],\n",
              "        [5. , 3.4, 1.5, 0.2],\n",
              "        [4.4, 2.9, 1.4, 0.2],\n",
              "        [4.9, 3.1, 1.5, 0.1],\n",
              "        [5.4, 3.7, 1.5, 0.2],\n",
              "        [4.8, 3.4, 1.6, 0.2],\n",
              "        [4.8, 3. , 1.4, 0.1],\n",
              "        [4.3, 3. , 1.1, 0.1],\n",
              "        [5.8, 4. , 1.2, 0.2],\n",
              "        [5.7, 4.4, 1.5, 0.4],\n",
              "        [5.4, 3.9, 1.3, 0.4],\n",
              "        [5.1, 3.5, 1.4, 0.3],\n",
              "        [5.7, 3.8, 1.7, 0.3],\n",
              "        [5.1, 3.8, 1.5, 0.3],\n",
              "        [5.4, 3.4, 1.7, 0.2],\n",
              "        [5.1, 3.7, 1.5, 0.4],\n",
              "        [4.6, 3.6, 1. , 0.2],\n",
              "        [5.1, 3.3, 1.7, 0.5],\n",
              "        [4.8, 3.4, 1.9, 0.2],\n",
              "        [5. , 3. , 1.6, 0.2],\n",
              "        [5. , 3.4, 1.6, 0.4],\n",
              "        [5.2, 3.5, 1.5, 0.2],\n",
              "        [5.2, 3.4, 1.4, 0.2],\n",
              "        [4.7, 3.2, 1.6, 0.2],\n",
              "        [4.8, 3.1, 1.6, 0.2],\n",
              "        [5.4, 3.4, 1.5, 0.4],\n",
              "        [5.2, 4.1, 1.5, 0.1],\n",
              "        [5.5, 4.2, 1.4, 0.2],\n",
              "        [4.9, 3.1, 1.5, 0.2],\n",
              "        [5. , 3.2, 1.2, 0.2],\n",
              "        [5.5, 3.5, 1.3, 0.2],\n",
              "        [4.9, 3.6, 1.4, 0.1],\n",
              "        [4.4, 3. , 1.3, 0.2],\n",
              "        [5.1, 3.4, 1.5, 0.2],\n",
              "        [5. , 3.5, 1.3, 0.3],\n",
              "        [4.5, 2.3, 1.3, 0.3],\n",
              "        [4.4, 3.2, 1.3, 0.2],\n",
              "        [5. , 3.5, 1.6, 0.6],\n",
              "        [5.1, 3.8, 1.9, 0.4],\n",
              "        [4.8, 3. , 1.4, 0.3],\n",
              "        [5.1, 3.8, 1.6, 0.2],\n",
              "        [4.6, 3.2, 1.4, 0.2],\n",
              "        [5.3, 3.7, 1.5, 0.2],\n",
              "        [5. , 3.3, 1.4, 0.2],\n",
              "        [7. , 3.2, 4.7, 1.4],\n",
              "        [6.4, 3.2, 4.5, 1.5],\n",
              "        [6.9, 3.1, 4.9, 1.5],\n",
              "        [5.5, 2.3, 4. , 1.3],\n",
              "        [6.5, 2.8, 4.6, 1.5],\n",
              "        [5.7, 2.8, 4.5, 1.3],\n",
              "        [6.3, 3.3, 4.7, 1.6],\n",
              "        [4.9, 2.4, 3.3, 1. ],\n",
              "        [6.6, 2.9, 4.6, 1.3],\n",
              "        [5.2, 2.7, 3.9, 1.4],\n",
              "        [5. , 2. , 3.5, 1. ],\n",
              "        [5.9, 3. , 4.2, 1.5],\n",
              "        [6. , 2.2, 4. , 1. ],\n",
              "        [6.1, 2.9, 4.7, 1.4],\n",
              "        [5.6, 2.9, 3.6, 1.3],\n",
              "        [6.7, 3.1, 4.4, 1.4],\n",
              "        [5.6, 3. , 4.5, 1.5],\n",
              "        [5.8, 2.7, 4.1, 1. ],\n",
              "        [6.2, 2.2, 4.5, 1.5],\n",
              "        [5.6, 2.5, 3.9, 1.1],\n",
              "        [5.9, 3.2, 4.8, 1.8],\n",
              "        [6.1, 2.8, 4. , 1.3],\n",
              "        [6.3, 2.5, 4.9, 1.5],\n",
              "        [6.1, 2.8, 4.7, 1.2],\n",
              "        [6.4, 2.9, 4.3, 1.3],\n",
              "        [6.6, 3. , 4.4, 1.4],\n",
              "        [6.8, 2.8, 4.8, 1.4],\n",
              "        [6.7, 3. , 5. , 1.7],\n",
              "        [6. , 2.9, 4.5, 1.5],\n",
              "        [5.7, 2.6, 3.5, 1. ],\n",
              "        [5.5, 2.4, 3.8, 1.1],\n",
              "        [5.5, 2.4, 3.7, 1. ],\n",
              "        [5.8, 2.7, 3.9, 1.2],\n",
              "        [6. , 2.7, 5.1, 1.6],\n",
              "        [5.4, 3. , 4.5, 1.5],\n",
              "        [6. , 3.4, 4.5, 1.6],\n",
              "        [6.7, 3.1, 4.7, 1.5],\n",
              "        [6.3, 2.3, 4.4, 1.3],\n",
              "        [5.6, 3. , 4.1, 1.3],\n",
              "        [5.5, 2.5, 4. , 1.3],\n",
              "        [5.5, 2.6, 4.4, 1.2],\n",
              "        [6.1, 3. , 4.6, 1.4],\n",
              "        [5.8, 2.6, 4. , 1.2],\n",
              "        [5. , 2.3, 3.3, 1. ],\n",
              "        [5.6, 2.7, 4.2, 1.3],\n",
              "        [5.7, 3. , 4.2, 1.2],\n",
              "        [5.7, 2.9, 4.2, 1.3],\n",
              "        [6.2, 2.9, 4.3, 1.3],\n",
              "        [5.1, 2.5, 3. , 1.1],\n",
              "        [5.7, 2.8, 4.1, 1.3],\n",
              "        [6.3, 3.3, 6. , 2.5],\n",
              "        [5.8, 2.7, 5.1, 1.9],\n",
              "        [7.1, 3. , 5.9, 2.1],\n",
              "        [6.3, 2.9, 5.6, 1.8],\n",
              "        [6.5, 3. , 5.8, 2.2],\n",
              "        [7.6, 3. , 6.6, 2.1],\n",
              "        [4.9, 2.5, 4.5, 1.7],\n",
              "        [7.3, 2.9, 6.3, 1.8],\n",
              "        [6.7, 2.5, 5.8, 1.8],\n",
              "        [7.2, 3.6, 6.1, 2.5],\n",
              "        [6.5, 3.2, 5.1, 2. ],\n",
              "        [6.4, 2.7, 5.3, 1.9],\n",
              "        [6.8, 3. , 5.5, 2.1],\n",
              "        [5.7, 2.5, 5. , 2. ],\n",
              "        [5.8, 2.8, 5.1, 2.4],\n",
              "        [6.4, 3.2, 5.3, 2.3],\n",
              "        [6.5, 3. , 5.5, 1.8],\n",
              "        [7.7, 3.8, 6.7, 2.2],\n",
              "        [7.7, 2.6, 6.9, 2.3],\n",
              "        [6. , 2.2, 5. , 1.5],\n",
              "        [6.9, 3.2, 5.7, 2.3],\n",
              "        [5.6, 2.8, 4.9, 2. ],\n",
              "        [7.7, 2.8, 6.7, 2. ],\n",
              "        [6.3, 2.7, 4.9, 1.8],\n",
              "        [6.7, 3.3, 5.7, 2.1],\n",
              "        [7.2, 3.2, 6. , 1.8],\n",
              "        [6.2, 2.8, 4.8, 1.8],\n",
              "        [6.1, 3. , 4.9, 1.8],\n",
              "        [6.4, 2.8, 5.6, 2.1],\n",
              "        [7.2, 3. , 5.8, 1.6],\n",
              "        [7.4, 2.8, 6.1, 1.9],\n",
              "        [7.9, 3.8, 6.4, 2. ],\n",
              "        [6.4, 2.8, 5.6, 2.2],\n",
              "        [6.3, 2.8, 5.1, 1.5],\n",
              "        [6.1, 2.6, 5.6, 1.4],\n",
              "        [7.7, 3. , 6.1, 2.3],\n",
              "        [6.3, 3.4, 5.6, 2.4],\n",
              "        [6.4, 3.1, 5.5, 1.8],\n",
              "        [6. , 3. , 4.8, 1.8],\n",
              "        [6.9, 3.1, 5.4, 2.1],\n",
              "        [6.7, 3.1, 5.6, 2.4],\n",
              "        [6.9, 3.1, 5.1, 2.3],\n",
              "        [5.8, 2.7, 5.1, 1.9],\n",
              "        [6.8, 3.2, 5.9, 2.3],\n",
              "        [6.7, 3.3, 5.7, 2.5],\n",
              "        [6.7, 3. , 5.2, 2.3],\n",
              "        [6.3, 2.5, 5. , 1.9],\n",
              "        [6.5, 3. , 5.2, 2. ],\n",
              "        [6.2, 3.4, 5.4, 2.3],\n",
              "        [5.9, 3. , 5.1, 1.8]]),\n",
              " 'feature_names': ['sepal length (cm)',\n",
              "  'sepal width (cm)',\n",
              "  'petal length (cm)',\n",
              "  'petal width (cm)'],\n",
              " 'filename': '/usr/local/lib/python3.7/dist-packages/sklearn/datasets/data/iris.csv',\n",
              " 'target': array([0, 0, 0, 0, 0, 0, 0, 0, 0, 0, 0, 0, 0, 0, 0, 0, 0, 0, 0, 0, 0, 0,\n",
              "        0, 0, 0, 0, 0, 0, 0, 0, 0, 0, 0, 0, 0, 0, 0, 0, 0, 0, 0, 0, 0, 0,\n",
              "        0, 0, 0, 0, 0, 0, 1, 1, 1, 1, 1, 1, 1, 1, 1, 1, 1, 1, 1, 1, 1, 1,\n",
              "        1, 1, 1, 1, 1, 1, 1, 1, 1, 1, 1, 1, 1, 1, 1, 1, 1, 1, 1, 1, 1, 1,\n",
              "        1, 1, 1, 1, 1, 1, 1, 1, 1, 1, 1, 1, 2, 2, 2, 2, 2, 2, 2, 2, 2, 2,\n",
              "        2, 2, 2, 2, 2, 2, 2, 2, 2, 2, 2, 2, 2, 2, 2, 2, 2, 2, 2, 2, 2, 2,\n",
              "        2, 2, 2, 2, 2, 2, 2, 2, 2, 2, 2, 2, 2, 2, 2, 2, 2, 2]),\n",
              " 'target_names': array(['setosa', 'versicolor', 'virginica'], dtype='<U10')}"
            ]
          },
          "metadata": {
            "tags": []
          },
          "execution_count": 2
        }
      ]
    },
    {
      "cell_type": "code",
      "metadata": {
        "colab": {
          "base_uri": "https://localhost:8080/"
        },
        "id": "OCN8rpYr_3Sb",
        "outputId": "1414f9e1-33fa-4626-dbf4-139ee115db76"
      },
      "source": [
        "import pandas as pd\n",
        "df_iris = pd.DataFrame(iris.data)\n",
        "df_iris.info()"
      ],
      "execution_count": 3,
      "outputs": [
        {
          "output_type": "stream",
          "text": [
            "<class 'pandas.core.frame.DataFrame'>\n",
            "RangeIndex: 150 entries, 0 to 149\n",
            "Data columns (total 4 columns):\n",
            " #   Column  Non-Null Count  Dtype  \n",
            "---  ------  --------------  -----  \n",
            " 0   0       150 non-null    float64\n",
            " 1   1       150 non-null    float64\n",
            " 2   2       150 non-null    float64\n",
            " 3   3       150 non-null    float64\n",
            "dtypes: float64(4)\n",
            "memory usage: 4.8 KB\n"
          ],
          "name": "stdout"
        }
      ]
    },
    {
      "cell_type": "code",
      "metadata": {
        "id": "NyR0H6hCAU7I"
      },
      "source": [
        "import sqlite3\n",
        "connect = sqlite3.connect('./db.sqlite3')\n",
        "df_iris.to_sql('iris_resource', connect, if_exists='append', index=False)\n"
      ],
      "execution_count": 4,
      "outputs": []
    },
    {
      "cell_type": "code",
      "metadata": {
        "colab": {
          "base_uri": "https://localhost:8080/",
          "height": 174
        },
        "id": "3bT6PmhEBp0D",
        "outputId": "9dd73158-250a-4bdc-eb64-fe229ba2375d"
      },
      "source": [
        "df_load = pd.read_sql_query('select * from iris_resource', connect)\n",
        "df_load.head(4)"
      ],
      "execution_count": 5,
      "outputs": [
        {
          "output_type": "execute_result",
          "data": {
            "text/html": [
              "<div>\n",
              "<style scoped>\n",
              "    .dataframe tbody tr th:only-of-type {\n",
              "        vertical-align: middle;\n",
              "    }\n",
              "\n",
              "    .dataframe tbody tr th {\n",
              "        vertical-align: top;\n",
              "    }\n",
              "\n",
              "    .dataframe thead th {\n",
              "        text-align: right;\n",
              "    }\n",
              "</style>\n",
              "<table border=\"1\" class=\"dataframe\">\n",
              "  <thead>\n",
              "    <tr style=\"text-align: right;\">\n",
              "      <th></th>\n",
              "      <th>0</th>\n",
              "      <th>1</th>\n",
              "      <th>2</th>\n",
              "      <th>3</th>\n",
              "    </tr>\n",
              "  </thead>\n",
              "  <tbody>\n",
              "    <tr>\n",
              "      <th>0</th>\n",
              "      <td>5.1</td>\n",
              "      <td>3.5</td>\n",
              "      <td>1.4</td>\n",
              "      <td>0.2</td>\n",
              "    </tr>\n",
              "    <tr>\n",
              "      <th>1</th>\n",
              "      <td>4.9</td>\n",
              "      <td>3.0</td>\n",
              "      <td>1.4</td>\n",
              "      <td>0.2</td>\n",
              "    </tr>\n",
              "    <tr>\n",
              "      <th>2</th>\n",
              "      <td>4.7</td>\n",
              "      <td>3.2</td>\n",
              "      <td>1.3</td>\n",
              "      <td>0.2</td>\n",
              "    </tr>\n",
              "    <tr>\n",
              "      <th>3</th>\n",
              "      <td>4.6</td>\n",
              "      <td>3.1</td>\n",
              "      <td>1.5</td>\n",
              "      <td>0.2</td>\n",
              "    </tr>\n",
              "  </tbody>\n",
              "</table>\n",
              "</div>"
            ],
            "text/plain": [
              "     0    1    2    3\n",
              "0  5.1  3.5  1.4  0.2\n",
              "1  4.9  3.0  1.4  0.2\n",
              "2  4.7  3.2  1.3  0.2\n",
              "3  4.6  3.1  1.5  0.2"
            ]
          },
          "metadata": {
            "tags": []
          },
          "execution_count": 5
        }
      ]
    },
    {
      "cell_type": "code",
      "metadata": {
        "colab": {
          "base_uri": "https://localhost:8080/"
        },
        "id": "86RNflFrDY6h",
        "outputId": "0351331c-0108-4c52-e87a-d7d99cd1860d"
      },
      "source": [
        "x_data = df_load.to_numpy()\n",
        "x_data.shape\n"
      ],
      "execution_count": 6,
      "outputs": [
        {
          "output_type": "execute_result",
          "data": {
            "text/plain": [
              "(150, 4)"
            ]
          },
          "metadata": {
            "tags": []
          },
          "execution_count": 6
        }
      ]
    },
    {
      "cell_type": "code",
      "metadata": {
        "id": "yxC_7Y8Yuc9c"
      },
      "source": [
        "import numpy as np\n"
      ],
      "execution_count": 7,
      "outputs": []
    },
    {
      "cell_type": "code",
      "metadata": {
        "colab": {
          "base_uri": "https://localhost:8080/"
        },
        "id": "vichSxRnDwc3",
        "outputId": "a17cc5ac-f6a0-4317-d8e8-284d005e3265"
      },
      "source": [
        "y_data = iris.target\n",
        "y_data, np.unique(y_data)"
      ],
      "execution_count": 8,
      "outputs": [
        {
          "output_type": "execute_result",
          "data": {
            "text/plain": [
              "(array([0, 0, 0, 0, 0, 0, 0, 0, 0, 0, 0, 0, 0, 0, 0, 0, 0, 0, 0, 0, 0, 0,\n",
              "        0, 0, 0, 0, 0, 0, 0, 0, 0, 0, 0, 0, 0, 0, 0, 0, 0, 0, 0, 0, 0, 0,\n",
              "        0, 0, 0, 0, 0, 0, 1, 1, 1, 1, 1, 1, 1, 1, 1, 1, 1, 1, 1, 1, 1, 1,\n",
              "        1, 1, 1, 1, 1, 1, 1, 1, 1, 1, 1, 1, 1, 1, 1, 1, 1, 1, 1, 1, 1, 1,\n",
              "        1, 1, 1, 1, 1, 1, 1, 1, 1, 1, 1, 1, 2, 2, 2, 2, 2, 2, 2, 2, 2, 2,\n",
              "        2, 2, 2, 2, 2, 2, 2, 2, 2, 2, 2, 2, 2, 2, 2, 2, 2, 2, 2, 2, 2, 2,\n",
              "        2, 2, 2, 2, 2, 2, 2, 2, 2, 2, 2, 2, 2, 2, 2, 2, 2, 2]),\n",
              " array([0, 1, 2]))"
            ]
          },
          "metadata": {
            "tags": []
          },
          "execution_count": 8
        }
      ]
    },
    {
      "cell_type": "code",
      "metadata": {
        "id": "WnVmODYnI5Hs"
      },
      "source": [
        "from sklearn.model_selection import train_test_split"
      ],
      "execution_count": 9,
      "outputs": []
    },
    {
      "cell_type": "code",
      "metadata": {
        "id": "0a5t72S4JXKh"
      },
      "source": [
        "x_train, x_val, y_train, y_val = train_test_split(x_data, y_data)"
      ],
      "execution_count": 10,
      "outputs": []
    },
    {
      "cell_type": "code",
      "metadata": {
        "id": "9Jc24rMZD82G"
      },
      "source": [
        "import tensorflow as tf\n"
      ],
      "execution_count": 11,
      "outputs": []
    },
    {
      "cell_type": "code",
      "metadata": {
        "colab": {
          "base_uri": "https://localhost:8080/"
        },
        "id": "sy-1Ya-nD8pG",
        "outputId": "139ef5ec-1684-4e3e-dd84-9b997ae0cd30"
      },
      "source": [
        "model = tf.keras.Sequential()\n",
        "\n",
        "model.add(tf.keras.Input(shape=(4,))) # input layer\n",
        "\n",
        "model.add(tf.keras.layers.Dense(64, activation='relu')) # hidden layer\n",
        "model.add(tf.keras.layers.Dense(24, activation='relu')) # hidden layer\n",
        "\n",
        "model.add(tf.keras.layers.Dense(3, activation='softmax')) # output layer\n",
        "\n",
        "\n",
        "model.compile(optimizer='adam', loss='mse', metrics=['acc'], ) # gadget\n",
        "\n",
        "\n",
        "model.summary()\n"
      ],
      "execution_count": 12,
      "outputs": [
        {
          "output_type": "stream",
          "text": [
            "WARNING:tensorflow:Please add `keras.layers.InputLayer` instead of `keras.Input` to Sequential model. `keras.Input` is intended to be used by Functional model.\n",
            "Model: \"sequential\"\n",
            "_________________________________________________________________\n",
            "Layer (type)                 Output Shape              Param #   \n",
            "=================================================================\n",
            "dense (Dense)                (None, 64)                320       \n",
            "_________________________________________________________________\n",
            "dense_1 (Dense)              (None, 24)                1560      \n",
            "_________________________________________________________________\n",
            "dense_2 (Dense)              (None, 3)                 75        \n",
            "=================================================================\n",
            "Total params: 1,955\n",
            "Trainable params: 1,955\n",
            "Non-trainable params: 0\n",
            "_________________________________________________________________\n"
          ],
          "name": "stdout"
        }
      ]
    },
    {
      "cell_type": "code",
      "metadata": {
        "colab": {
          "base_uri": "https://localhost:8080/"
        },
        "id": "-UpBzBTeKKhh",
        "outputId": "5b5bb7ee-35e4-4970-ae91-e1a21b9af74b"
      },
      "source": [
        "#model.fit(x_data, y_data, epochs=50, validation_split=0.3) \n",
        "model.fit(x_train, y_train, epochs=50, validation_data=(x_val,y_val))\n",
        "\n",
        " "
      ],
      "execution_count": 13,
      "outputs": [
        {
          "output_type": "stream",
          "text": [
            "Epoch 1/50\n",
            "4/4 [==============================] - 1s 94ms/step - loss: 1.1414 - acc: 0.3839 - val_loss: 1.0624 - val_acc: 0.3158\n",
            "Epoch 2/50\n",
            "4/4 [==============================] - 0s 9ms/step - loss: 1.1321 - acc: 0.1339 - val_loss: 1.0614 - val_acc: 0.0000e+00\n",
            "Epoch 3/50\n",
            "4/4 [==============================] - 0s 7ms/step - loss: 1.1318 - acc: 0.1161 - val_loss: 1.0615 - val_acc: 0.2105\n",
            "Epoch 4/50\n",
            "4/4 [==============================] - 0s 8ms/step - loss: 1.1311 - acc: 0.2857 - val_loss: 1.0593 - val_acc: 0.1579\n",
            "Epoch 5/50\n",
            "4/4 [==============================] - 0s 9ms/step - loss: 1.1294 - acc: 0.3036 - val_loss: 1.0589 - val_acc: 0.5000\n",
            "Epoch 6/50\n",
            "4/4 [==============================] - 0s 8ms/step - loss: 1.1296 - acc: 0.5714 - val_loss: 1.0594 - val_acc: 0.5526\n",
            "Epoch 7/50\n",
            "4/4 [==============================] - 0s 8ms/step - loss: 1.1297 - acc: 0.5179 - val_loss: 1.0590 - val_acc: 0.3947\n",
            "Epoch 8/50\n",
            "4/4 [==============================] - 0s 7ms/step - loss: 1.1293 - acc: 0.2946 - val_loss: 1.0587 - val_acc: 0.2105\n",
            "Epoch 9/50\n",
            "4/4 [==============================] - 0s 8ms/step - loss: 1.1292 - acc: 0.2679 - val_loss: 1.0589 - val_acc: 0.1579\n",
            "Epoch 10/50\n",
            "4/4 [==============================] - 0s 8ms/step - loss: 1.1293 - acc: 0.2857 - val_loss: 1.0588 - val_acc: 0.1316\n",
            "Epoch 11/50\n",
            "4/4 [==============================] - 0s 10ms/step - loss: 1.1292 - acc: 0.1696 - val_loss: 1.0587 - val_acc: 0.1579\n",
            "Epoch 12/50\n",
            "4/4 [==============================] - 0s 9ms/step - loss: 1.1292 - acc: 0.1339 - val_loss: 1.0588 - val_acc: 0.1316\n",
            "Epoch 13/50\n",
            "4/4 [==============================] - 0s 9ms/step - loss: 1.1292 - acc: 0.1875 - val_loss: 1.0587 - val_acc: 0.1842\n",
            "Epoch 14/50\n",
            "4/4 [==============================] - 0s 9ms/step - loss: 1.1291 - acc: 0.2321 - val_loss: 1.0587 - val_acc: 0.3158\n",
            "Epoch 15/50\n",
            "4/4 [==============================] - 0s 9ms/step - loss: 1.1291 - acc: 0.2768 - val_loss: 1.0587 - val_acc: 0.3158\n",
            "Epoch 16/50\n",
            "4/4 [==============================] - 0s 10ms/step - loss: 1.1291 - acc: 0.2946 - val_loss: 1.0587 - val_acc: 0.3158\n",
            "Epoch 17/50\n",
            "4/4 [==============================] - 0s 10ms/step - loss: 1.1291 - acc: 0.2589 - val_loss: 1.0587 - val_acc: 0.3158\n",
            "Epoch 18/50\n",
            "4/4 [==============================] - 0s 9ms/step - loss: 1.1291 - acc: 0.2946 - val_loss: 1.0587 - val_acc: 0.2632\n",
            "Epoch 19/50\n",
            "4/4 [==============================] - 0s 9ms/step - loss: 1.1291 - acc: 0.3036 - val_loss: 1.0587 - val_acc: 0.2632\n",
            "Epoch 20/50\n",
            "4/4 [==============================] - 0s 8ms/step - loss: 1.1291 - acc: 0.2232 - val_loss: 1.0587 - val_acc: 0.2368\n",
            "Epoch 21/50\n",
            "4/4 [==============================] - 0s 8ms/step - loss: 1.1291 - acc: 0.2321 - val_loss: 1.0587 - val_acc: 0.2632\n",
            "Epoch 22/50\n",
            "4/4 [==============================] - 0s 8ms/step - loss: 1.1291 - acc: 0.2589 - val_loss: 1.0587 - val_acc: 0.2632\n",
            "Epoch 23/50\n",
            "4/4 [==============================] - 0s 8ms/step - loss: 1.1291 - acc: 0.2946 - val_loss: 1.0587 - val_acc: 0.2368\n",
            "Epoch 24/50\n",
            "4/4 [==============================] - 0s 8ms/step - loss: 1.1291 - acc: 0.2679 - val_loss: 1.0587 - val_acc: 0.2632\n",
            "Epoch 25/50\n",
            "4/4 [==============================] - 0s 8ms/step - loss: 1.1291 - acc: 0.3125 - val_loss: 1.0587 - val_acc: 0.2895\n",
            "Epoch 26/50\n",
            "4/4 [==============================] - 0s 8ms/step - loss: 1.1291 - acc: 0.2946 - val_loss: 1.0587 - val_acc: 0.2632\n",
            "Epoch 27/50\n",
            "4/4 [==============================] - 0s 8ms/step - loss: 1.1291 - acc: 0.2857 - val_loss: 1.0586 - val_acc: 0.2105\n",
            "Epoch 28/50\n",
            "4/4 [==============================] - 0s 8ms/step - loss: 1.1291 - acc: 0.2321 - val_loss: 1.0586 - val_acc: 0.2105\n",
            "Epoch 29/50\n",
            "4/4 [==============================] - 0s 7ms/step - loss: 1.1291 - acc: 0.2679 - val_loss: 1.0586 - val_acc: 0.3158\n",
            "Epoch 30/50\n",
            "4/4 [==============================] - 0s 9ms/step - loss: 1.1291 - acc: 0.3214 - val_loss: 1.0586 - val_acc: 0.3421\n",
            "Epoch 31/50\n",
            "4/4 [==============================] - 0s 8ms/step - loss: 1.1291 - acc: 0.3214 - val_loss: 1.0586 - val_acc: 0.2632\n",
            "Epoch 32/50\n",
            "4/4 [==============================] - 0s 8ms/step - loss: 1.1291 - acc: 0.3036 - val_loss: 1.0586 - val_acc: 0.2368\n",
            "Epoch 33/50\n",
            "4/4 [==============================] - 0s 8ms/step - loss: 1.1291 - acc: 0.2232 - val_loss: 1.0586 - val_acc: 0.2368\n",
            "Epoch 34/50\n",
            "4/4 [==============================] - 0s 8ms/step - loss: 1.1291 - acc: 0.2857 - val_loss: 1.0586 - val_acc: 0.3158\n",
            "Epoch 35/50\n",
            "4/4 [==============================] - 0s 8ms/step - loss: 1.1291 - acc: 0.3036 - val_loss: 1.0586 - val_acc: 0.2105\n",
            "Epoch 36/50\n",
            "4/4 [==============================] - 0s 8ms/step - loss: 1.1291 - acc: 0.3214 - val_loss: 1.0586 - val_acc: 0.2632\n",
            "Epoch 37/50\n",
            "4/4 [==============================] - 0s 8ms/step - loss: 1.1291 - acc: 0.3482 - val_loss: 1.0586 - val_acc: 0.2632\n",
            "Epoch 38/50\n",
            "4/4 [==============================] - 0s 11ms/step - loss: 1.1291 - acc: 0.3482 - val_loss: 1.0586 - val_acc: 0.3421\n",
            "Epoch 39/50\n",
            "4/4 [==============================] - 0s 8ms/step - loss: 1.1291 - acc: 0.3304 - val_loss: 1.0586 - val_acc: 0.3158\n",
            "Epoch 40/50\n",
            "4/4 [==============================] - 0s 9ms/step - loss: 1.1291 - acc: 0.2946 - val_loss: 1.0586 - val_acc: 0.2368\n",
            "Epoch 41/50\n",
            "4/4 [==============================] - 0s 9ms/step - loss: 1.1291 - acc: 0.2589 - val_loss: 1.0586 - val_acc: 0.2368\n",
            "Epoch 42/50\n",
            "4/4 [==============================] - 0s 9ms/step - loss: 1.1291 - acc: 0.3304 - val_loss: 1.0586 - val_acc: 0.3421\n",
            "Epoch 43/50\n",
            "4/4 [==============================] - 0s 9ms/step - loss: 1.1291 - acc: 0.3571 - val_loss: 1.0586 - val_acc: 0.3158\n",
            "Epoch 44/50\n",
            "4/4 [==============================] - 0s 9ms/step - loss: 1.1291 - acc: 0.3571 - val_loss: 1.0586 - val_acc: 0.2368\n",
            "Epoch 45/50\n",
            "4/4 [==============================] - 0s 9ms/step - loss: 1.1291 - acc: 0.3125 - val_loss: 1.0586 - val_acc: 0.2632\n",
            "Epoch 46/50\n",
            "4/4 [==============================] - 0s 12ms/step - loss: 1.1291 - acc: 0.3304 - val_loss: 1.0586 - val_acc: 0.2895\n",
            "Epoch 47/50\n",
            "4/4 [==============================] - 0s 9ms/step - loss: 1.1291 - acc: 0.2768 - val_loss: 1.0586 - val_acc: 0.2368\n",
            "Epoch 48/50\n",
            "4/4 [==============================] - 0s 11ms/step - loss: 1.1291 - acc: 0.3214 - val_loss: 1.0586 - val_acc: 0.2632\n",
            "Epoch 49/50\n",
            "4/4 [==============================] - 0s 8ms/step - loss: 1.1291 - acc: 0.3839 - val_loss: 1.0586 - val_acc: 0.3158\n",
            "Epoch 50/50\n",
            "4/4 [==============================] - 0s 9ms/step - loss: 1.1291 - acc: 0.3571 - val_loss: 1.0586 - val_acc: 0.3158\n"
          ],
          "name": "stdout"
        },
        {
          "output_type": "execute_result",
          "data": {
            "text/plain": [
              "<tensorflow.python.keras.callbacks.History at 0x7fbeb0c11ad0>"
            ]
          },
          "metadata": {
            "tags": []
          },
          "execution_count": 13
        }
      ]
    },
    {
      "cell_type": "markdown",
      "metadata": {
        "id": "afrYjk_badQm"
      },
      "source": [
        "Evaluation\n"
      ]
    },
    {
      "cell_type": "code",
      "metadata": {
        "colab": {
          "base_uri": "https://localhost:8080/"
        },
        "id": "4QY2BpiiD8bZ",
        "outputId": "ff8042da-4f0d-4f83-d853-1c28504382d3"
      },
      "source": [
        "model.evaluate(x_data, y_data)"
      ],
      "execution_count": 14,
      "outputs": [
        {
          "output_type": "stream",
          "text": [
            "5/5 [==============================] - 0s 2ms/step - loss: 1.1112 - acc: 0.3400\n"
          ],
          "name": "stdout"
        },
        {
          "output_type": "execute_result",
          "data": {
            "text/plain": [
              "[1.1111994981765747, 0.3400000035762787]"
            ]
          },
          "metadata": {
            "tags": []
          },
          "execution_count": 14
        }
      ]
    },
    {
      "cell_type": "code",
      "metadata": {
        "id": "keInw3CSEZ30"
      },
      "source": [
        "from sklearn.metrics import classification_report, confusion_matrix"
      ],
      "execution_count": 15,
      "outputs": []
    },
    {
      "cell_type": "code",
      "metadata": {
        "colab": {
          "base_uri": "https://localhost:8080/"
        },
        "id": "ZSdtN4R_EwgI",
        "outputId": "570e3aab-17fd-4d5c-a006-c931ba71640d"
      },
      "source": [
        "y_pred = model.predict(x_data)\n",
        "y_pred.shape,y_pred[4]"
      ],
      "execution_count": 16,
      "outputs": [
        {
          "output_type": "execute_result",
          "data": {
            "text/plain": [
              "((150, 3), array([0.3332555 , 0.33361372, 0.33313087], dtype=float32))"
            ]
          },
          "metadata": {
            "tags": []
          },
          "execution_count": 16
        }
      ]
    },
    {
      "cell_type": "code",
      "metadata": {
        "colab": {
          "base_uri": "https://localhost:8080/"
        },
        "id": "3NzbRm9aFPie",
        "outputId": "a74da488-6a6b-4c80-88e2-a67892720dd0"
      },
      "source": [
        "import numpy as np\n",
        "y_pred_argmax = np.argmax(y_pred,axis=1)\n",
        "y_pred_argmax.shape, y_pred_argmax[4]"
      ],
      "execution_count": 17,
      "outputs": [
        {
          "output_type": "execute_result",
          "data": {
            "text/plain": [
              "((150,), 1)"
            ]
          },
          "metadata": {
            "tags": []
          },
          "execution_count": 17
        }
      ]
    },
    {
      "cell_type": "code",
      "metadata": {
        "colab": {
          "base_uri": "https://localhost:8080/"
        },
        "id": "1avowLSParFH",
        "outputId": "84bd8bb9-5450-43f0-b14b-0e6d42138791"
      },
      "source": [
        "y_data.shape, y_data[4]"
      ],
      "execution_count": 18,
      "outputs": [
        {
          "output_type": "execute_result",
          "data": {
            "text/plain": [
              "((150,), 0)"
            ]
          },
          "metadata": {
            "tags": []
          },
          "execution_count": 18
        }
      ]
    },
    {
      "cell_type": "code",
      "metadata": {
        "colab": {
          "base_uri": "https://localhost:8080/"
        },
        "id": "BFOTXNlZFzQl",
        "outputId": "77289491-9274-444f-9c50-53b6a945e1a7"
      },
      "source": [
        "print(classification_report(y_data, y_pred_argmax))"
      ],
      "execution_count": 19,
      "outputs": [
        {
          "output_type": "stream",
          "text": [
            "              precision    recall  f1-score   support\n",
            "\n",
            "           0       0.42      0.44      0.43        50\n",
            "           1       0.29      0.28      0.29        50\n",
            "           2       0.31      0.30      0.30        50\n",
            "\n",
            "    accuracy                           0.34       150\n",
            "   macro avg       0.34      0.34      0.34       150\n",
            "weighted avg       0.34      0.34      0.34       150\n",
            "\n"
          ],
          "name": "stdout"
        }
      ]
    },
    {
      "cell_type": "code",
      "metadata": {
        "colab": {
          "base_uri": "https://localhost:8080/"
        },
        "id": "4cYlDkFrG0hx",
        "outputId": "b3d4f237-70be-4979-a612-54823806b7bc"
      },
      "source": [
        "confusion_matrix(y_data, y_pred_argmax)"
      ],
      "execution_count": 20,
      "outputs": [
        {
          "output_type": "execute_result",
          "data": {
            "text/plain": [
              "array([[22, 13, 15],\n",
              "       [17, 14, 19],\n",
              "       [14, 21, 15]])"
            ]
          },
          "metadata": {
            "tags": []
          },
          "execution_count": 20
        }
      ]
    },
    {
      "cell_type": "code",
      "metadata": {
        "colab": {
          "base_uri": "https://localhost:8080/",
          "height": 287
        },
        "id": "AWgnsTcKINt2",
        "outputId": "2e1bd852-ddfe-4719-f61d-f5f8238129d0"
      },
      "source": [
        "import seaborn as sns\n",
        "sns.heatmap(confusion_matrix(y_data, y_pred_argmax), annot=True)"
      ],
      "execution_count": 21,
      "outputs": [
        {
          "output_type": "execute_result",
          "data": {
            "text/plain": [
              "<matplotlib.axes._subplots.AxesSubplot at 0x7fbeb58ea850>"
            ]
          },
          "metadata": {
            "tags": []
          },
          "execution_count": 21
        },
        {
          "output_type": "display_data",
          "data": {
            "image/png": "[encoded data removed]",
            "text/plain": [
              "<Figure size 432x288 with 2 Axes>"
            ]
          },
          "metadata": {
            "tags": [],
            "needs_background": "light"
          }
        }
      ]
    },
    {
      "cell_type": "code",
      "metadata": {
        "colab": {
          "base_uri": "https://localhost:8080/",
          "height": 188
        },
        "id": "Za1g8gxWbB88",
        "outputId": "8af6293d-c8bc-4ecb-9b1e-facf3a0c3a3a"
      },
      "source": [
        "import numpy as np\n",
        "np.argmax(pred)"
      ],
      "execution_count": 23,
      "outputs": [
        {
          "output_type": "error",
          "ename": "NameError",
          "evalue": "ignored",
          "traceback": [
            "\u001b[0;31m---------------------------------------------------------------------------\u001b[0m",
            "\u001b[0;31mNameError\u001b[0m                                 Traceback (most recent call last)",
            "\u001b[0;32m<ipython-input-23-f40e8bc3571a>\u001b[0m in \u001b[0;36m<module>\u001b[0;34m()\u001b[0m\n\u001b[1;32m      1\u001b[0m \u001b[0;32mimport\u001b[0m \u001b[0mnumpy\u001b[0m \u001b[0;32mas\u001b[0m \u001b[0mnp\u001b[0m\u001b[0;34m\u001b[0m\u001b[0;34m\u001b[0m\u001b[0m\n\u001b[0;32m----> 2\u001b[0;31m \u001b[0mnp\u001b[0m\u001b[0;34m.\u001b[0m\u001b[0margmax\u001b[0m\u001b[0;34m(\u001b[0m\u001b[0mpred\u001b[0m\u001b[0;34m)\u001b[0m\u001b[0;34m\u001b[0m\u001b[0;34m\u001b[0m\u001b[0m\n\u001b[0m",
            "\u001b[0;31mNameError\u001b[0m: name 'pred' is not defined"
          ]
        }
      ]
    },
    {
      "cell_type": "code",
      "metadata": {
        "id": "uDo5fWU1bP2D"
      },
      "source": [
        ""
      ],
      "execution_count": null,
      "outputs": []
    },
    {
      "cell_type": "code",
      "metadata": {
        "id": "aWBHOOJaD-fQ"
      },
      "source": [
        "classification_report()"
      ],
      "execution_count": null,
      "outputs": []
    },
    {
      "cell_type": "code",
      "metadata": {
        "id": "X3EOsukxEBgD"
      },
      "source": [
        ""
      ],
      "execution_count": null,
      "outputs": []
    }
  ]
}