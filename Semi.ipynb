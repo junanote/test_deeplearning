{
  "nbformat": 4,
  "nbformat_minor": 0,
  "metadata": {
    "colab": {
      "name": "Semi.ipynb",
      "provenance": [],
      "collapsed_sections": [],
      "authorship_tag": "ABX9TyOF+zjaVTnYX25W2kpDc9jw",
      "include_colab_link": true
    },
    "kernelspec": {
      "name": "python3",
      "display_name": "Python 3"
    },
    "language_info": {
      "name": "python"
    }
  },
  "cells": [
    {
      "cell_type": "markdown",
      "metadata": {
        "id": "view-in-github",
        "colab_type": "text"
      },
      "source": [
        "<a href=\"https://colab.research.google.com/github/junanote/test_deeplearning/blob/master/Semi.ipynb\" target=\"_parent\"><img src=\"https://colab.research.google.com/assets/colab-badge.svg\" alt=\"Open In Colab\"/></a>"
      ]
    },
    {
      "cell_type": "code",
      "metadata": {
        "colab": {
          "base_uri": "https://localhost:8080/"
        },
        "id": "UqAgTWZVAosl",
        "outputId": "a3cdc514-c61b-4387-d239-40f3e540b0da"
      },
      "source": [
        "!python -m pip install konlpy"
      ],
      "execution_count": 210,
      "outputs": [
        {
          "output_type": "stream",
          "text": [
            "Requirement already satisfied: konlpy in /usr/local/lib/python3.7/dist-packages (0.5.2)\n",
            "Requirement already satisfied: tweepy>=3.7.0 in /usr/local/lib/python3.7/dist-packages (from konlpy) (3.10.0)\n",
            "Requirement already satisfied: lxml>=4.1.0 in /usr/local/lib/python3.7/dist-packages (from konlpy) (4.2.6)\n",
            "Requirement already satisfied: beautifulsoup4==4.6.0 in /usr/local/lib/python3.7/dist-packages (from konlpy) (4.6.0)\n",
            "Requirement already satisfied: numpy>=1.6 in /usr/local/lib/python3.7/dist-packages (from konlpy) (1.19.5)\n",
            "Requirement already satisfied: JPype1>=0.7.0 in /usr/local/lib/python3.7/dist-packages (from konlpy) (1.3.0)\n",
            "Requirement already satisfied: colorama in /usr/local/lib/python3.7/dist-packages (from konlpy) (0.4.4)\n",
            "Requirement already satisfied: typing-extensions in /usr/local/lib/python3.7/dist-packages (from JPype1>=0.7.0->konlpy) (3.7.4.3)\n",
            "Requirement already satisfied: six>=1.10.0 in /usr/local/lib/python3.7/dist-packages (from tweepy>=3.7.0->konlpy) (1.15.0)\n",
            "Requirement already satisfied: requests[socks]>=2.11.1 in /usr/local/lib/python3.7/dist-packages (from tweepy>=3.7.0->konlpy) (2.23.0)\n",
            "Requirement already satisfied: requests-oauthlib>=0.7.0 in /usr/local/lib/python3.7/dist-packages (from tweepy>=3.7.0->konlpy) (1.3.0)\n",
            "Requirement already satisfied: oauthlib>=3.0.0 in /usr/local/lib/python3.7/dist-packages (from requests-oauthlib>=0.7.0->tweepy>=3.7.0->konlpy) (3.1.1)\n",
            "Requirement already satisfied: urllib3!=1.25.0,!=1.25.1,<1.26,>=1.21.1 in /usr/local/lib/python3.7/dist-packages (from requests[socks]>=2.11.1->tweepy>=3.7.0->konlpy) (1.24.3)\n",
            "Requirement already satisfied: certifi>=2017.4.17 in /usr/local/lib/python3.7/dist-packages (from requests[socks]>=2.11.1->tweepy>=3.7.0->konlpy) (2021.5.30)\n",
            "Requirement already satisfied: idna<3,>=2.5 in /usr/local/lib/python3.7/dist-packages (from requests[socks]>=2.11.1->tweepy>=3.7.0->konlpy) (2.10)\n",
            "Requirement already satisfied: chardet<4,>=3.0.2 in /usr/local/lib/python3.7/dist-packages (from requests[socks]>=2.11.1->tweepy>=3.7.0->konlpy) (3.0.4)\n",
            "Requirement already satisfied: PySocks!=1.5.7,>=1.5.6 in /usr/local/lib/python3.7/dist-packages (from requests[socks]>=2.11.1->tweepy>=3.7.0->konlpy) (1.7.1)\n"
          ],
          "name": "stdout"
        }
      ]
    },
    {
      "cell_type": "code",
      "metadata": {
        "id": "4Q22Td8pPpcs"
      },
      "source": [
        "import codecs"
      ],
      "execution_count": 211,
      "outputs": []
    },
    {
      "cell_type": "code",
      "metadata": {
        "id": "hudqZWphPtzW"
      },
      "source": [
        "positive= []\n",
        "nagative = []\n",
        "posneg = []"
      ],
      "execution_count": 212,
      "outputs": []
    },
    {
      "cell_type": "code",
      "metadata": {
        "id": "W6Rk4WeHP8mc"
      },
      "source": [
        "pos = codecs.open(\"./positive_words_self.txt\", 'r')\n",
        "positive = pos.readlines()"
      ],
      "execution_count": 213,
      "outputs": []
    },
    {
      "cell_type": "code",
      "metadata": {
        "id": "5xSdcEzQUmag"
      },
      "source": [
        "positive = [pos.replace(\"\\n\",\"\")for pos in positive]"
      ],
      "execution_count": 214,
      "outputs": []
    },
    {
      "cell_type": "code",
      "metadata": {
        "id": "8SBIGqiLT9gB"
      },
      "source": [
        "neg= codecs.open(\"./negative_words_self.txt\", 'r')\n",
        "negative = neg.readlines()"
      ],
      "execution_count": 215,
      "outputs": []
    },
    {
      "cell_type": "code",
      "metadata": {
        "id": "WI8XquUtgy7a"
      },
      "source": [
        "negative = [neg.replace(\"\\n\",\"\")for neg in negative]"
      ],
      "execution_count": 216,
      "outputs": []
    },
    {
      "cell_type": "code",
      "metadata": {
        "id": "_brGz7jKkWaf"
      },
      "source": [
        "import pandas as pd"
      ],
      "execution_count": 217,
      "outputs": []
    },
    {
      "cell_type": "code",
      "metadata": {
        "id": "_n94ykTdkfFL"
      },
      "source": [
        "df = pd.read_excel('./semi.xls', names=['title', 'press', 'category', 'date', 'name', 'text'])\n",
        " "
      ],
      "execution_count": 218,
      "outputs": []
    },
    {
      "cell_type": "code",
      "metadata": {
        "colab": {
          "base_uri": "https://localhost:8080/",
          "height": 929
        },
        "id": "YO0YPUmruDz8",
        "outputId": "a0576e17-2569-4122-981c-cb328c7b657c"
      },
      "source": [
        "df"
      ],
      "execution_count": 219,
      "outputs": [
        {
          "output_type": "execute_result",
          "data": {
            "text/html": [
              "<div>\n",
              "<style scoped>\n",
              "    .dataframe tbody tr th:only-of-type {\n",
              "        vertical-align: middle;\n",
              "    }\n",
              "\n",
              "    .dataframe tbody tr th {\n",
              "        vertical-align: top;\n",
              "    }\n",
              "\n",
              "    .dataframe thead th {\n",
              "        text-align: right;\n",
              "    }\n",
              "</style>\n",
              "<table border=\"1\" class=\"dataframe\">\n",
              "  <thead>\n",
              "    <tr style=\"text-align: right;\">\n",
              "      <th></th>\n",
              "      <th>title</th>\n",
              "      <th>press</th>\n",
              "      <th>category</th>\n",
              "      <th>date</th>\n",
              "      <th>name</th>\n",
              "      <th>text</th>\n",
              "    </tr>\n",
              "  </thead>\n",
              "  <tbody>\n",
              "    <tr>\n",
              "      <th>0</th>\n",
              "      <td>중국에 대립각 세우는 리투아니아…왜?</td>\n",
              "      <td>경향신문</td>\n",
              "      <td>국제&gt;중국 | 정치&gt;외교 | 국제&gt;유럽_EU</td>\n",
              "      <td>2021/08/11</td>\n",
              "      <td>박은하 기자 eunha999@kyunghyang.com</td>\n",
              "      <td>중국에서 6000km 떨어진 발트해 연안 국가 리투아니아가 ‘대만 문제’를 두고 중...</td>\n",
              "    </tr>\n",
              "    <tr>\n",
              "      <th>1</th>\n",
              "      <td>국민의힘, 계속 옮겨붙는 갈등의 불씨...진화할 수 있을까</td>\n",
              "      <td>경향신문</td>\n",
              "      <td>정치&gt;선거 | 정치&gt;국회_정당</td>\n",
              "      <td>2021/08/11</td>\n",
              "      <td>유정인·박순봉 기자 jeongin@kyunghyang.com</td>\n",
              "      <td>국민의힘 내홍이 깊어지고 있다. 이준석 대표와 윤석열 전 검찰총장 등 ‘투스톤(준스...</td>\n",
              "    </tr>\n",
              "    <tr>\n",
              "      <th>2</th>\n",
              "      <td>[단독] 법관이 직원에게 성경 공부·의전 지시, 법원에서도 ‘직장 갑질’ 논란</td>\n",
              "      <td>경향신문</td>\n",
              "      <td>국제&gt;미국_북미 | 국제&gt;유럽_EU | 사회&gt;여성</td>\n",
              "      <td>2021/08/11</td>\n",
              "      <td>이혜리 기자 lhr@kyunghyang.com</td>\n",
              "      <td>법관에게 직장 내 갑질 및 괴롭힘을 당했다며 도움을 호소하는 법원 직원의 글이 법원...</td>\n",
              "    </tr>\n",
              "    <tr>\n",
              "      <th>3</th>\n",
              "      <td>코로나 확진자수 2000명 돌파에 노심초사 여, 공세 강화하는 야</td>\n",
              "      <td>경향신문</td>\n",
              "      <td>정치&gt;국회_정당 | 정치&gt;청와대</td>\n",
              "      <td>2021/08/11</td>\n",
              "      <td>유설희 기자 sorry@kyunghyang.com</td>\n",
              "      <td>코로나19 신규 확진자가 11일 사상 처음으로 2000명을 돌파하자 여권은 ‘노심초...</td>\n",
              "    </tr>\n",
              "    <tr>\n",
              "      <th>4</th>\n",
              "      <td>류호정 \"피해자 보호 못하는 강간죄 개정 위해 '쇼'라도 하겠다\"</td>\n",
              "      <td>경향신문</td>\n",
              "      <td>정치&gt;행정_자치 | 사회&gt;여성 | 정치&gt;국회_정당</td>\n",
              "      <td>2021/08/11</td>\n",
              "      <td>장은교 소통·젠더데스크 indi@kyunghyang.com</td>\n",
              "      <td>류호정 정의당 의원은 새로운 ‘쇼’를 궁리 중이라고 했다. 이번엔 강간죄 개정을 위...</td>\n",
              "    </tr>\n",
              "    <tr>\n",
              "      <th>...</th>\n",
              "      <td>...</td>\n",
              "      <td>...</td>\n",
              "      <td>...</td>\n",
              "      <td>...</td>\n",
              "      <td>...</td>\n",
              "      <td>...</td>\n",
              "    </tr>\n",
              "    <tr>\n",
              "      <th>94</th>\n",
              "      <td>죽파리 자작나무 숲 인근 ‘송하리 졸참나무와 당숲’ 천연기념물 된다</td>\n",
              "      <td>경향신문</td>\n",
              "      <td>문화&gt;학술_문화재 | 문화&gt;미술_건축 | 지역&gt;강원</td>\n",
              "      <td>2021/08/11</td>\n",
              "      <td>김종목 기자 jomo@kyunghyang.com</td>\n",
              "      <td>문화재청이 ‘영양 송하리 졸참나무와 당숲’을 국가지정문화재 천연기념물로 지정 예고했...</td>\n",
              "    </tr>\n",
              "    <tr>\n",
              "      <th>95</th>\n",
              "      <td>섬유·제지 산업도 탄소중립 움직임···\"폐자원을 에너지로\"</td>\n",
              "      <td>경향신문</td>\n",
              "      <td>경제&gt;반도체 | 지역&gt;강원 | 지역&gt;충남</td>\n",
              "      <td>2021/08/11</td>\n",
              "      <td>강연주 기자 play@kyunghyang.com</td>\n",
              "      <td>정부가 섬유·제지 산업에서 탄소배출량을 줄이는 기술 개발에 투자를 강화한다.산업통상...</td>\n",
              "    </tr>\n",
              "    <tr>\n",
              "      <th>96</th>\n",
              "      <td>현대차·BMW·벤츠 등 35개 차종 2만8946대 리콜</td>\n",
              "      <td>경향신문</td>\n",
              "      <td>경제&gt;자동차 | IT_과학&gt;인터넷_SNS | IT_과학&gt;보안</td>\n",
              "      <td>2021/08/11</td>\n",
              "      <td>김희진 기자 hjin@kyunghyang.com</td>\n",
              "      <td>국토교통부는 현대자동차와 BMW 등 35개 차종 총 2만8946대에서 제작결함이 발...</td>\n",
              "    </tr>\n",
              "    <tr>\n",
              "      <th>97</th>\n",
              "      <td>박용진 \"4차 산업혁명 선도하는 '바이미식스' 대통령 되겠다\"</td>\n",
              "      <td>경향신문</td>\n",
              "      <td>정치&gt;국회_정당 | 정치&gt;선거 | 정치&gt;청와대</td>\n",
              "      <td>2021/08/11</td>\n",
              "      <td>탁지영 기자 g0g0@kyunghyang.com</td>\n",
              "      <td>더불어민주당 대선 경선 후보인 박용진 의원은 11일 “4차 산업혁명 대통령이 되겠다...</td>\n",
              "    </tr>\n",
              "    <tr>\n",
              "      <th>98</th>\n",
              "      <td>이준석 '친윤석열계' 겨냥 \"권력욕 부추기는 하이에나\"..정진석 \"참 딱하다\"</td>\n",
              "      <td>경향신문</td>\n",
              "      <td>정치&gt;국회_정당 | 정치&gt;선거</td>\n",
              "      <td>2021/08/11</td>\n",
              "      <td>유정인 기자 jeongin@kyunghyang.com</td>\n",
              "      <td>이준석 국민의힘 대표는 11일 “우리 후보들 곁에 권력욕을 부추기는 하이에나가 아니...</td>\n",
              "    </tr>\n",
              "  </tbody>\n",
              "</table>\n",
              "<p>99 rows × 6 columns</p>\n",
              "</div>"
            ],
            "text/plain": [
              "                                          title  ...                                               text\n",
              "0                          중국에 대립각 세우는 리투아니아…왜?  ...  중국에서 6000km 떨어진 발트해 연안 국가 리투아니아가 ‘대만 문제’를 두고 중...\n",
              "1              국민의힘, 계속 옮겨붙는 갈등의 불씨...진화할 수 있을까  ...  국민의힘 내홍이 깊어지고 있다. 이준석 대표와 윤석열 전 검찰총장 등 ‘투스톤(준스...\n",
              "2   [단독] 법관이 직원에게 성경 공부·의전 지시, 법원에서도 ‘직장 갑질’ 논란  ...  법관에게 직장 내 갑질 및 괴롭힘을 당했다며 도움을 호소하는 법원 직원의 글이 법원...\n",
              "3          코로나 확진자수 2000명 돌파에 노심초사 여, 공세 강화하는 야  ...  코로나19 신규 확진자가 11일 사상 처음으로 2000명을 돌파하자 여권은 ‘노심초...\n",
              "4          류호정 \"피해자 보호 못하는 강간죄 개정 위해 '쇼'라도 하겠다\"  ...  류호정 정의당 의원은 새로운 ‘쇼’를 궁리 중이라고 했다. 이번엔 강간죄 개정을 위...\n",
              "..                                          ...  ...                                                ...\n",
              "94        죽파리 자작나무 숲 인근 ‘송하리 졸참나무와 당숲’ 천연기념물 된다  ...  문화재청이 ‘영양 송하리 졸참나무와 당숲’을 국가지정문화재 천연기념물로 지정 예고했...\n",
              "95             섬유·제지 산업도 탄소중립 움직임···\"폐자원을 에너지로\"  ...  정부가 섬유·제지 산업에서 탄소배출량을 줄이는 기술 개발에 투자를 강화한다.산업통상...\n",
              "96               현대차·BMW·벤츠 등 35개 차종 2만8946대 리콜  ...  국토교통부는 현대자동차와 BMW 등 35개 차종 총 2만8946대에서 제작결함이 발...\n",
              "97           박용진 \"4차 산업혁명 선도하는 '바이미식스' 대통령 되겠다\"  ...  더불어민주당 대선 경선 후보인 박용진 의원은 11일 “4차 산업혁명 대통령이 되겠다...\n",
              "98  이준석 '친윤석열계' 겨냥 \"권력욕 부추기는 하이에나\"..정진석 \"참 딱하다\"  ...  이준석 국민의힘 대표는 11일 “우리 후보들 곁에 권력욕을 부추기는 하이에나가 아니...\n",
              "\n",
              "[99 rows x 6 columns]"
            ]
          },
          "metadata": {
            "tags": []
          },
          "execution_count": 219
        }
      ]
    },
    {
      "cell_type": "code",
      "metadata": {
        "colab": {
          "base_uri": "https://localhost:8080/",
          "height": 459
        },
        "id": "B440XcotlHrW",
        "outputId": "a7f72960-ba89-4810-a4fa-b9b0039c2327"
      },
      "source": [
        "df.head(5) # title, press, category, date, name, text"
      ],
      "execution_count": 220,
      "outputs": [
        {
          "output_type": "execute_result",
          "data": {
            "text/html": [
              "<div>\n",
              "<style scoped>\n",
              "    .dataframe tbody tr th:only-of-type {\n",
              "        vertical-align: middle;\n",
              "    }\n",
              "\n",
              "    .dataframe tbody tr th {\n",
              "        vertical-align: top;\n",
              "    }\n",
              "\n",
              "    .dataframe thead th {\n",
              "        text-align: right;\n",
              "    }\n",
              "</style>\n",
              "<table border=\"1\" class=\"dataframe\">\n",
              "  <thead>\n",
              "    <tr style=\"text-align: right;\">\n",
              "      <th></th>\n",
              "      <th>title</th>\n",
              "      <th>press</th>\n",
              "      <th>category</th>\n",
              "      <th>date</th>\n",
              "      <th>name</th>\n",
              "      <th>text</th>\n",
              "    </tr>\n",
              "  </thead>\n",
              "  <tbody>\n",
              "    <tr>\n",
              "      <th>0</th>\n",
              "      <td>중국에 대립각 세우는 리투아니아…왜?</td>\n",
              "      <td>경향신문</td>\n",
              "      <td>국제&gt;중국 | 정치&gt;외교 | 국제&gt;유럽_EU</td>\n",
              "      <td>2021/08/11</td>\n",
              "      <td>박은하 기자 eunha999@kyunghyang.com</td>\n",
              "      <td>중국에서 6000km 떨어진 발트해 연안 국가 리투아니아가 ‘대만 문제’를 두고 중...</td>\n",
              "    </tr>\n",
              "    <tr>\n",
              "      <th>1</th>\n",
              "      <td>국민의힘, 계속 옮겨붙는 갈등의 불씨...진화할 수 있을까</td>\n",
              "      <td>경향신문</td>\n",
              "      <td>정치&gt;선거 | 정치&gt;국회_정당</td>\n",
              "      <td>2021/08/11</td>\n",
              "      <td>유정인·박순봉 기자 jeongin@kyunghyang.com</td>\n",
              "      <td>국민의힘 내홍이 깊어지고 있다. 이준석 대표와 윤석열 전 검찰총장 등 ‘투스톤(준스...</td>\n",
              "    </tr>\n",
              "    <tr>\n",
              "      <th>2</th>\n",
              "      <td>[단독] 법관이 직원에게 성경 공부·의전 지시, 법원에서도 ‘직장 갑질’ 논란</td>\n",
              "      <td>경향신문</td>\n",
              "      <td>국제&gt;미국_북미 | 국제&gt;유럽_EU | 사회&gt;여성</td>\n",
              "      <td>2021/08/11</td>\n",
              "      <td>이혜리 기자 lhr@kyunghyang.com</td>\n",
              "      <td>법관에게 직장 내 갑질 및 괴롭힘을 당했다며 도움을 호소하는 법원 직원의 글이 법원...</td>\n",
              "    </tr>\n",
              "    <tr>\n",
              "      <th>3</th>\n",
              "      <td>코로나 확진자수 2000명 돌파에 노심초사 여, 공세 강화하는 야</td>\n",
              "      <td>경향신문</td>\n",
              "      <td>정치&gt;국회_정당 | 정치&gt;청와대</td>\n",
              "      <td>2021/08/11</td>\n",
              "      <td>유설희 기자 sorry@kyunghyang.com</td>\n",
              "      <td>코로나19 신규 확진자가 11일 사상 처음으로 2000명을 돌파하자 여권은 ‘노심초...</td>\n",
              "    </tr>\n",
              "    <tr>\n",
              "      <th>4</th>\n",
              "      <td>류호정 \"피해자 보호 못하는 강간죄 개정 위해 '쇼'라도 하겠다\"</td>\n",
              "      <td>경향신문</td>\n",
              "      <td>정치&gt;행정_자치 | 사회&gt;여성 | 정치&gt;국회_정당</td>\n",
              "      <td>2021/08/11</td>\n",
              "      <td>장은교 소통·젠더데스크 indi@kyunghyang.com</td>\n",
              "      <td>류호정 정의당 의원은 새로운 ‘쇼’를 궁리 중이라고 했다. 이번엔 강간죄 개정을 위...</td>\n",
              "    </tr>\n",
              "  </tbody>\n",
              "</table>\n",
              "</div>"
            ],
            "text/plain": [
              "                                         title  ...                                               text\n",
              "0                         중국에 대립각 세우는 리투아니아…왜?  ...  중국에서 6000km 떨어진 발트해 연안 국가 리투아니아가 ‘대만 문제’를 두고 중...\n",
              "1             국민의힘, 계속 옮겨붙는 갈등의 불씨...진화할 수 있을까  ...  국민의힘 내홍이 깊어지고 있다. 이준석 대표와 윤석열 전 검찰총장 등 ‘투스톤(준스...\n",
              "2  [단독] 법관이 직원에게 성경 공부·의전 지시, 법원에서도 ‘직장 갑질’ 논란  ...  법관에게 직장 내 갑질 및 괴롭힘을 당했다며 도움을 호소하는 법원 직원의 글이 법원...\n",
              "3         코로나 확진자수 2000명 돌파에 노심초사 여, 공세 강화하는 야  ...  코로나19 신규 확진자가 11일 사상 처음으로 2000명을 돌파하자 여권은 ‘노심초...\n",
              "4         류호정 \"피해자 보호 못하는 강간죄 개정 위해 '쇼'라도 하겠다\"  ...  류호정 정의당 의원은 새로운 ‘쇼’를 궁리 중이라고 했다. 이번엔 강간죄 개정을 위...\n",
              "\n",
              "[5 rows x 6 columns]"
            ]
          },
          "metadata": {
            "tags": []
          },
          "execution_count": 220
        }
      ]
    },
    {
      "cell_type": "code",
      "metadata": {
        "colab": {
          "base_uri": "https://localhost:8080/"
        },
        "id": "Uzri66jVDIpt",
        "outputId": "5bc3f4b6-86ce-4db9-c5b2-3c24c6c6fb72"
      },
      "source": [
        "df.info()"
      ],
      "execution_count": 221,
      "outputs": [
        {
          "output_type": "stream",
          "text": [
            "<class 'pandas.core.frame.DataFrame'>\n",
            "RangeIndex: 99 entries, 0 to 98\n",
            "Data columns (total 6 columns):\n",
            " #   Column    Non-Null Count  Dtype \n",
            "---  ------    --------------  ----- \n",
            " 0   title     99 non-null     object\n",
            " 1   press     99 non-null     object\n",
            " 2   category  99 non-null     object\n",
            " 3   date      99 non-null     object\n",
            " 4   name      99 non-null     object\n",
            " 5   text      99 non-null     object\n",
            "dtypes: object(6)\n",
            "memory usage: 4.8+ KB\n"
          ],
          "name": "stdout"
        }
      ]
    },
    {
      "cell_type": "code",
      "metadata": {
        "colab": {
          "base_uri": "https://localhost:8080/"
        },
        "id": "QajdfoI_mTcS",
        "outputId": "46410373-6d85-4622-df9c-3582059696b4"
      },
      "source": [
        "df.shape"
      ],
      "execution_count": 222,
      "outputs": [
        {
          "output_type": "execute_result",
          "data": {
            "text/plain": [
              "(99, 6)"
            ]
          },
          "metadata": {
            "tags": []
          },
          "execution_count": 222
        }
      ]
    },
    {
      "cell_type": "code",
      "metadata": {
        "colab": {
          "base_uri": "https://localhost:8080/"
        },
        "id": "33qnCFZRx0--",
        "outputId": "5b73f630-9101-46ed-babc-e10275f3d136"
      },
      "source": [
        "df.columns"
      ],
      "execution_count": 223,
      "outputs": [
        {
          "output_type": "execute_result",
          "data": {
            "text/plain": [
              "Index(['title', 'press', 'category', 'date', 'name', 'text'], dtype='object')"
            ]
          },
          "metadata": {
            "tags": []
          },
          "execution_count": 223
        }
      ]
    },
    {
      "cell_type": "code",
      "metadata": {
        "colab": {
          "base_uri": "https://localhost:8080/",
          "height": 929
        },
        "id": "CQZEsTJcx-5i",
        "outputId": "ac8f4afd-aaba-4eab-bcef-c39e803552dd"
      },
      "source": [
        "pd.DataFrame(df).iloc[1:]"
      ],
      "execution_count": 224,
      "outputs": [
        {
          "output_type": "execute_result",
          "data": {
            "text/html": [
              "<div>\n",
              "<style scoped>\n",
              "    .dataframe tbody tr th:only-of-type {\n",
              "        vertical-align: middle;\n",
              "    }\n",
              "\n",
              "    .dataframe tbody tr th {\n",
              "        vertical-align: top;\n",
              "    }\n",
              "\n",
              "    .dataframe thead th {\n",
              "        text-align: right;\n",
              "    }\n",
              "</style>\n",
              "<table border=\"1\" class=\"dataframe\">\n",
              "  <thead>\n",
              "    <tr style=\"text-align: right;\">\n",
              "      <th></th>\n",
              "      <th>title</th>\n",
              "      <th>press</th>\n",
              "      <th>category</th>\n",
              "      <th>date</th>\n",
              "      <th>name</th>\n",
              "      <th>text</th>\n",
              "    </tr>\n",
              "  </thead>\n",
              "  <tbody>\n",
              "    <tr>\n",
              "      <th>1</th>\n",
              "      <td>국민의힘, 계속 옮겨붙는 갈등의 불씨...진화할 수 있을까</td>\n",
              "      <td>경향신문</td>\n",
              "      <td>정치&gt;선거 | 정치&gt;국회_정당</td>\n",
              "      <td>2021/08/11</td>\n",
              "      <td>유정인·박순봉 기자 jeongin@kyunghyang.com</td>\n",
              "      <td>국민의힘 내홍이 깊어지고 있다. 이준석 대표와 윤석열 전 검찰총장 등 ‘투스톤(준스...</td>\n",
              "    </tr>\n",
              "    <tr>\n",
              "      <th>2</th>\n",
              "      <td>[단독] 법관이 직원에게 성경 공부·의전 지시, 법원에서도 ‘직장 갑질’ 논란</td>\n",
              "      <td>경향신문</td>\n",
              "      <td>국제&gt;미국_북미 | 국제&gt;유럽_EU | 사회&gt;여성</td>\n",
              "      <td>2021/08/11</td>\n",
              "      <td>이혜리 기자 lhr@kyunghyang.com</td>\n",
              "      <td>법관에게 직장 내 갑질 및 괴롭힘을 당했다며 도움을 호소하는 법원 직원의 글이 법원...</td>\n",
              "    </tr>\n",
              "    <tr>\n",
              "      <th>3</th>\n",
              "      <td>코로나 확진자수 2000명 돌파에 노심초사 여, 공세 강화하는 야</td>\n",
              "      <td>경향신문</td>\n",
              "      <td>정치&gt;국회_정당 | 정치&gt;청와대</td>\n",
              "      <td>2021/08/11</td>\n",
              "      <td>유설희 기자 sorry@kyunghyang.com</td>\n",
              "      <td>코로나19 신규 확진자가 11일 사상 처음으로 2000명을 돌파하자 여권은 ‘노심초...</td>\n",
              "    </tr>\n",
              "    <tr>\n",
              "      <th>4</th>\n",
              "      <td>류호정 \"피해자 보호 못하는 강간죄 개정 위해 '쇼'라도 하겠다\"</td>\n",
              "      <td>경향신문</td>\n",
              "      <td>정치&gt;행정_자치 | 사회&gt;여성 | 정치&gt;국회_정당</td>\n",
              "      <td>2021/08/11</td>\n",
              "      <td>장은교 소통·젠더데스크 indi@kyunghyang.com</td>\n",
              "      <td>류호정 정의당 의원은 새로운 ‘쇼’를 궁리 중이라고 했다. 이번엔 강간죄 개정을 위...</td>\n",
              "    </tr>\n",
              "    <tr>\n",
              "      <th>5</th>\n",
              "      <td>[뉴스분석]현실화된 정은경의 예언···확진자 2223명이 정점은 아니다</td>\n",
              "      <td>경향신문</td>\n",
              "      <td>사회&gt;의료_건강</td>\n",
              "      <td>2021/08/11</td>\n",
              "      <td>노도현·김향미·이혜리 기자 hyunee@kyunghyang.com</td>\n",
              "      <td>코로나19 하루 신규 확진자가 2200명을 넘어서며 새로운 국면을 맞고 있다. 20...</td>\n",
              "    </tr>\n",
              "    <tr>\n",
              "      <th>...</th>\n",
              "      <td>...</td>\n",
              "      <td>...</td>\n",
              "      <td>...</td>\n",
              "      <td>...</td>\n",
              "      <td>...</td>\n",
              "      <td>...</td>\n",
              "    </tr>\n",
              "    <tr>\n",
              "      <th>94</th>\n",
              "      <td>죽파리 자작나무 숲 인근 ‘송하리 졸참나무와 당숲’ 천연기념물 된다</td>\n",
              "      <td>경향신문</td>\n",
              "      <td>문화&gt;학술_문화재 | 문화&gt;미술_건축 | 지역&gt;강원</td>\n",
              "      <td>2021/08/11</td>\n",
              "      <td>김종목 기자 jomo@kyunghyang.com</td>\n",
              "      <td>문화재청이 ‘영양 송하리 졸참나무와 당숲’을 국가지정문화재 천연기념물로 지정 예고했...</td>\n",
              "    </tr>\n",
              "    <tr>\n",
              "      <th>95</th>\n",
              "      <td>섬유·제지 산업도 탄소중립 움직임···\"폐자원을 에너지로\"</td>\n",
              "      <td>경향신문</td>\n",
              "      <td>경제&gt;반도체 | 지역&gt;강원 | 지역&gt;충남</td>\n",
              "      <td>2021/08/11</td>\n",
              "      <td>강연주 기자 play@kyunghyang.com</td>\n",
              "      <td>정부가 섬유·제지 산업에서 탄소배출량을 줄이는 기술 개발에 투자를 강화한다.산업통상...</td>\n",
              "    </tr>\n",
              "    <tr>\n",
              "      <th>96</th>\n",
              "      <td>현대차·BMW·벤츠 등 35개 차종 2만8946대 리콜</td>\n",
              "      <td>경향신문</td>\n",
              "      <td>경제&gt;자동차 | IT_과학&gt;인터넷_SNS | IT_과학&gt;보안</td>\n",
              "      <td>2021/08/11</td>\n",
              "      <td>김희진 기자 hjin@kyunghyang.com</td>\n",
              "      <td>국토교통부는 현대자동차와 BMW 등 35개 차종 총 2만8946대에서 제작결함이 발...</td>\n",
              "    </tr>\n",
              "    <tr>\n",
              "      <th>97</th>\n",
              "      <td>박용진 \"4차 산업혁명 선도하는 '바이미식스' 대통령 되겠다\"</td>\n",
              "      <td>경향신문</td>\n",
              "      <td>정치&gt;국회_정당 | 정치&gt;선거 | 정치&gt;청와대</td>\n",
              "      <td>2021/08/11</td>\n",
              "      <td>탁지영 기자 g0g0@kyunghyang.com</td>\n",
              "      <td>더불어민주당 대선 경선 후보인 박용진 의원은 11일 “4차 산업혁명 대통령이 되겠다...</td>\n",
              "    </tr>\n",
              "    <tr>\n",
              "      <th>98</th>\n",
              "      <td>이준석 '친윤석열계' 겨냥 \"권력욕 부추기는 하이에나\"..정진석 \"참 딱하다\"</td>\n",
              "      <td>경향신문</td>\n",
              "      <td>정치&gt;국회_정당 | 정치&gt;선거</td>\n",
              "      <td>2021/08/11</td>\n",
              "      <td>유정인 기자 jeongin@kyunghyang.com</td>\n",
              "      <td>이준석 국민의힘 대표는 11일 “우리 후보들 곁에 권력욕을 부추기는 하이에나가 아니...</td>\n",
              "    </tr>\n",
              "  </tbody>\n",
              "</table>\n",
              "<p>98 rows × 6 columns</p>\n",
              "</div>"
            ],
            "text/plain": [
              "                                          title  ...                                               text\n",
              "1              국민의힘, 계속 옮겨붙는 갈등의 불씨...진화할 수 있을까  ...  국민의힘 내홍이 깊어지고 있다. 이준석 대표와 윤석열 전 검찰총장 등 ‘투스톤(준스...\n",
              "2   [단독] 법관이 직원에게 성경 공부·의전 지시, 법원에서도 ‘직장 갑질’ 논란  ...  법관에게 직장 내 갑질 및 괴롭힘을 당했다며 도움을 호소하는 법원 직원의 글이 법원...\n",
              "3          코로나 확진자수 2000명 돌파에 노심초사 여, 공세 강화하는 야  ...  코로나19 신규 확진자가 11일 사상 처음으로 2000명을 돌파하자 여권은 ‘노심초...\n",
              "4          류호정 \"피해자 보호 못하는 강간죄 개정 위해 '쇼'라도 하겠다\"  ...  류호정 정의당 의원은 새로운 ‘쇼’를 궁리 중이라고 했다. 이번엔 강간죄 개정을 위...\n",
              "5       [뉴스분석]현실화된 정은경의 예언···확진자 2223명이 정점은 아니다  ...  코로나19 하루 신규 확진자가 2200명을 넘어서며 새로운 국면을 맞고 있다. 20...\n",
              "..                                          ...  ...                                                ...\n",
              "94        죽파리 자작나무 숲 인근 ‘송하리 졸참나무와 당숲’ 천연기념물 된다  ...  문화재청이 ‘영양 송하리 졸참나무와 당숲’을 국가지정문화재 천연기념물로 지정 예고했...\n",
              "95             섬유·제지 산업도 탄소중립 움직임···\"폐자원을 에너지로\"  ...  정부가 섬유·제지 산업에서 탄소배출량을 줄이는 기술 개발에 투자를 강화한다.산업통상...\n",
              "96               현대차·BMW·벤츠 등 35개 차종 2만8946대 리콜  ...  국토교통부는 현대자동차와 BMW 등 35개 차종 총 2만8946대에서 제작결함이 발...\n",
              "97           박용진 \"4차 산업혁명 선도하는 '바이미식스' 대통령 되겠다\"  ...  더불어민주당 대선 경선 후보인 박용진 의원은 11일 “4차 산업혁명 대통령이 되겠다...\n",
              "98  이준석 '친윤석열계' 겨냥 \"권력욕 부추기는 하이에나\"..정진석 \"참 딱하다\"  ...  이준석 국민의힘 대표는 11일 “우리 후보들 곁에 권력욕을 부추기는 하이에나가 아니...\n",
              "\n",
              "[98 rows x 6 columns]"
            ]
          },
          "metadata": {
            "tags": []
          },
          "execution_count": 224
        }
      ]
    },
    {
      "cell_type": "code",
      "metadata": {
        "id": "QBgjSnhy06Fv"
      },
      "source": [
        "df.drop_duplicates(subset=None,inplace=True)  # 메서드가 적용되는 원본데이터를 변경할지 여부를 결정 "
      ],
      "execution_count": 225,
      "outputs": []
    },
    {
      "cell_type": "code",
      "metadata": {
        "colab": {
          "base_uri": "https://localhost:8080/"
        },
        "id": "koEoJzAS89mU",
        "outputId": "51e1ca94-fd85-4130-d912-8cae4d5e8307"
      },
      "source": [
        "len(df)"
      ],
      "execution_count": 226,
      "outputs": [
        {
          "output_type": "execute_result",
          "data": {
            "text/plain": [
              "99"
            ]
          },
          "metadata": {
            "tags": []
          },
          "execution_count": 226
        }
      ]
    },
    {
      "cell_type": "code",
      "metadata": {
        "id": "NYG3AtVr9TH9"
      },
      "source": [
        "from sklearn.model_selection import train_test_split"
      ],
      "execution_count": 227,
      "outputs": []
    },
    {
      "cell_type": "code",
      "metadata": {
        "id": "alPIZUhJ9Wgh"
      },
      "source": [
        "x_data = df['title']\n",
        "y_data = df['text']"
      ],
      "execution_count": 228,
      "outputs": []
    },
    {
      "cell_type": "code",
      "metadata": {
        "colab": {
          "base_uri": "https://localhost:8080/"
        },
        "id": "JaF9eh85--In",
        "outputId": "6848da1a-5301-4506-9a0e-56d725ccf04f"
      },
      "source": [
        "x_train, x_test, y_train, y_test = train_test_split(x_data, y_data)\n",
        "x_train.shape, y_train.shape, x_test.shape, y_test.shape\n"
      ],
      "execution_count": 229,
      "outputs": [
        {
          "output_type": "execute_result",
          "data": {
            "text/plain": [
              "((74,), (74,), (25,), (25,))"
            ]
          },
          "metadata": {
            "tags": []
          },
          "execution_count": 229
        }
      ]
    },
    {
      "cell_type": "markdown",
      "metadata": {
        "id": "8-zwr1mzAPGp"
      },
      "source": [
        "# NLP(토큰화)"
      ]
    },
    {
      "cell_type": "code",
      "metadata": {
        "colab": {
          "base_uri": "https://localhost:8080/"
        },
        "id": "-DSC9T3J_5Gi",
        "outputId": "633225c6-47cd-46cc-eee0-4a16afb010c4"
      },
      "source": [
        "type(x_train)\n"
      ],
      "execution_count": 230,
      "outputs": [
        {
          "output_type": "execute_result",
          "data": {
            "text/plain": [
              "pandas.core.series.Series"
            ]
          },
          "metadata": {
            "tags": []
          },
          "execution_count": 230
        }
      ]
    },
    {
      "cell_type": "code",
      "metadata": {
        "colab": {
          "base_uri": "https://localhost:8080/"
        },
        "id": "ISPD3vuYAc0x",
        "outputId": "8a26f2e4-cce1-4aed-baf8-b0e5afeef87e"
      },
      "source": [
        "x_train.str.replace('[^가-힣ㄱ-ㅎㅠ ]','') #[a-zA-Z]]"
      ],
      "execution_count": 231,
      "outputs": [
        {
          "output_type": "execute_result",
          "data": {
            "text/plain": [
              "5                     뉴스분석현실화된 정은경의 예언확진자 명이 정점은 아니다\n",
              "1                       국민의힘 계속 옮겨붙는 갈등의 불씨진화할 수 있을까\n",
              "40    서울국제여성영화제 일 개막개막작은 무민 작가 토베 얀손의 퀴어 예술가 삶 조명 다큐\n",
              "17                     집단면역 불가능영국싱가포르의 코로나와 함께 살기 실험\n",
              "8                             김여정 주한미군 철수 주장 담화의 의미는\n",
              "                           ...                      \n",
              "9                     인건비 늘고 신작 출시 지연게임  나란히 분기 실적부진\n",
              "52                   여전한 정치권 유리천장국회의원 여성할당제 남녀 의견 판이\n",
              "87                문 대통령 감염 확산 못 막으면 확진자 더 늘어날 중요한 시점\n",
              "63                      이낙연 지방 거점 국립대 등록금 없는 대학 만들겠다\n",
              "41                 뜨거워지는 지구 전 세계 식량 생산도 위태롭다식단 전환 필요\n",
              "Name: title, Length: 74, dtype: object"
            ]
          },
          "metadata": {
            "tags": []
          },
          "execution_count": 231
        }
      ]
    },
    {
      "cell_type": "code",
      "metadata": {
        "colab": {
          "base_uri": "https://localhost:8080/"
        },
        "id": "19Wz5ZapAeP0",
        "outputId": "8b6e3d93-da2c-46a3-b1ed-b9c4e4298a53"
      },
      "source": [
        "!curl -O https://raw.githubusercontent.com/konlpy/konlpy/master/scripts/mecab.sh"
      ],
      "execution_count": 232,
      "outputs": [
        {
          "output_type": "stream",
          "text": [
            "  % Total    % Received % Xferd  Average Speed   Time    Time     Time  Current\n",
            "                                 Dload  Upload   Total   Spent    Left  Speed\n",
            "\r  0     0    0     0    0     0      0      0 --:--:-- --:--:-- --:--:--     0\r100  5064  100  5064    0     0  85830      0 --:--:-- --:--:-- --:--:-- 85830\n"
          ],
          "name": "stdout"
        }
      ]
    },
    {
      "cell_type": "code",
      "metadata": {
        "colab": {
          "base_uri": "https://localhost:8080/"
        },
        "id": "sdWdskosBWFH",
        "outputId": "20492b8f-fe38-49f6-f83d-6b17c16a5efc"
      },
      "source": [
        "!bash ./mecab.sh"
      ],
      "execution_count": 233,
      "outputs": [
        {
          "output_type": "stream",
          "text": [
            "mecab-ko is already installed\n",
            "mecab-ko-dic is already installed\n",
            "mecab-python is already installed\n",
            "Done.\n"
          ],
          "name": "stdout"
        }
      ]
    },
    {
      "cell_type": "code",
      "metadata": {
        "id": "VNs7wa9IBY51"
      },
      "source": [
        "from konlpy.tag import Mecab"
      ],
      "execution_count": 234,
      "outputs": []
    },
    {
      "cell_type": "code",
      "metadata": {
        "colab": {
          "base_uri": "https://localhost:8080/"
        },
        "id": "FpFgPnZcB51G",
        "outputId": "27e7e845-9061-4b3e-a79c-997be6130469"
      },
      "source": [
        "mecab = Mecab()\n",
        "print(mecab.morphs('와 이런 것도 상품이라고 차라리 내가 만드는게 나을 것 같다.'))   #형태소 분석"
      ],
      "execution_count": 235,
      "outputs": [
        {
          "output_type": "stream",
          "text": [
            "['와', '이런', '것', '도', '상품', '이', '라고', '차라리', '내', '가', '만드', '는', '게', '나을', '것', '같', '다', '.']\n"
          ],
          "name": "stdout"
        }
      ]
    },
    {
      "cell_type": "code",
      "metadata": {
        "id": "2R0jUEdwClQE"
      },
      "source": [
        "sentance = list()\n",
        "stopwords = ['도', '는', '다', '의', '가', '이', '은', '한', '에', '하', '고', '을', '를', '인', '듯', '과', '와', '네', '들', '듯', '지', '임', '게']\n"
      ],
      "execution_count": 236,
      "outputs": []
    },
    {
      "cell_type": "code",
      "metadata": {
        "id": "PXIS-A5wB958"
      },
      "source": [
        "for tok in x_train :\n",
        "  encoded = mecab.morphs(tok)\n",
        "  sentance.append([item for item in encoded if item not in stopwords])\n",
        "\n",
        "sentance  "
      ],
      "execution_count": null,
      "outputs": []
    },
    {
      "cell_type": "markdown",
      "metadata": {
        "id": "fOPaJfa4ERDy"
      },
      "source": [
        "# Tokenizer\n"
      ]
    },
    {
      "cell_type": "code",
      "metadata": {
        "colab": {
          "base_uri": "https://localhost:8080/"
        },
        "id": "RrQuFOQ8D_aI",
        "outputId": "e6239095-a689-44ea-82f0-961818e24def"
      },
      "source": [
        "print(sentance)"
      ],
      "execution_count": 238,
      "outputs": [
        {
          "output_type": "stream",
          "text": [
            "[['[', '뉴스', '분석', ']', '현실', '화', '된', '정은경', '예언', '·', '·', '·', '확진', '자', '2223', '명', '정점', '아니'], ['국민', '힘', ',', '계속', '옮겨', '붙', '갈등', '불씨', '.', '..', '진화', '할', '수', '있', '을까'], ['서울', '국제', '여성', '영화제', '26', '일', '개막', '·', '·', '·', '개막', '작', '‘', '무민', '’', '작가', '토베', '얀손', '퀴어', '예술가', '삶', '조명', '다큐'], ['“', '집단', '면역', '불', '가능', '”', '…', '영국', '·', '싱가포르', \"'\", '코로나', '함께', '살', '기', \"'\", '실험'], ['김여정', \"'\", '주한', '미군', '철수', '주장', \"'\", '담화', '의미'], ['\"', '화이자', '·', '모더', '나', '백신', '2', '차접', '종일', '추석', '연휴', '겹치', '면', '5', '일', '씩', '앞당기', '기', '로', '\"'], ['‘', '메타', '버스', '게임', '’', '‘', 'AI', '전자', '’…', '신입', '생', '충원', '율', '떨어진', '특성', '화', ',', '학과', '개편'], ['박용진', '\"', '4', '차', '산업', '혁명', '선도', \"'\", '바', '이미', '식스', \"'\", '대통령', '되', '겠', '\"'], ['BC', '카드', '·', '이마트', '24', ',', '데이터', '협력', 'MOU', '체결'], ['현대', '백화점', ',', '와인', '선물', '종이', '포장재', '로', '바꾼다'], ['양경수', '민주', '노총', '위원장', ',', '구속영장', '심사', '불출석', '…', '“', '문재인', '정부', '·', '민주당', '촛불', '배신', '”'], ['내년', \"'\", '빨간', '날', \"'\", '67', '일', '·', '·', '·', '최장', '연휴', '설날', '전후', \"'\", '닷새', \"'\"], ['가상', '자산', '거래소', \"'\", '불공정', '약관', \"'\", '손질', '소비자', '마음', '못', '놓', '이유', '?'], ['중국', ',', '캐나다인', '사업가', '징역', '11', '년', '선고', '…', '연이', '캐나다인', '중형', '판결'], ['[', '경북', ']', '경북', '농업', '기술원', ',', '25', '일', '까지', '농민', '대상', '디지털', '농업', '교육'], ['소형', 'SUV', '2', '강', '자리', '굳힌', '트레일', '블레이저', ',', '프리미엄', '전략', '통했'], ['[', '경향', '포토', ']', '김학순', '할머니', '위안부', '피해', '공개', '증언', '30', '년', '.', '..', '계속', '되', '수요시위'], ['‘', '명', '·', '낙', '대전', '’', '꺾이', '않', '상호', '비', '방전', '…', '당', '내선', '“', '지도부', '중심', '잡', '아야', '”'], ['[', '경향', '포토', ']', '\"', '입시', '비리', '전부', '유죄', '\"...', '정경', '심', '항소심', '징역', '4', '년'], ['최재형', '“', '여당', '청와대', '출장소', '·', '·', '·', '비서관', '국정', '쥐락펴락', '”', '문', '대통령', '성토'], ['코로나', '19', '재', '확산', '온라인', '유통망', '발달', '까지', '…', '창신동', '문구', '거리', '‘', '깊', '어', '시름', '’'], ['[', '경향', '포토', ']', '경실련', '이재용', '가석방', '반대', '1', '인시', '위'], ['‘', '문', '대통령', '관련', '막말', '’', '소마', '공사', ',', '도쿄', '로', '출국', '·', '·', '·', '“', '사실', '상', '경질', '”'], ['고려대', '“', '조국', '딸', '입시', '비리', '의혹', ',', '후속', '조치', '진행', '할', '것', '”'], ['‘', '끓', '바다', '’', '경남', '양식', '어류', '집단', '폐사', '급증', '·', '·', '·', '477', '만', '마리', '폐사'], ['“', '홍남기', ',', '법무', '장관', '‘', '이재용', '경영', '활동', ',', '불편', '없', '해', '달', '라', '’', '요청', '”'], ['국민', '힘', ',', '대선', '후보', '토론', '만', '20', '회', '·', '·', '·', '흥행', '묘수', '될까', ',', '분란', '씨앗', '될까'], ['쿠오모', '성추행', '스캔들', '…', '최초', '여성', '뉴욕', '주지사', '취임'], ['문', '대통령', ',', '국회', '고승범', '·', '송두환', '후보', '자', '인사', '청문', '요청'], ['선정', '위원', '동일', '기관', '미고', '심사', '대상자', '1', '명', '…', '베니스', '비엔날레', '감독', '재심사', '1', '차', '결과', '발표'], ['\"', '가상', '세계', '건축자', '모여라', '\"…', '과기', '정통부', ',', '메타', '버스', '개발자', '경진', '대회', '개최'], ['연상', '아내', '마지막', '출근길', '·', '·', '·', '가난', '시인', '눈물', '적셔', '편지', '썼'], ['‘', '5', 'G', '덕', '’', '통신', '3', '사', '실적', '날', '았', '는데', '·', '·', '·', '품질', '뿔난', '소비자', '정부', '대책', '촉구'], ['‘', '호프', '알바', '’', '나선', '정의당', '대표', '…', '현장', '행보', '로', '‘', '차별', '화', '’', '면서', '대선', '준비', '시동'], ['미국', ',', '석탄', '→', '신재', '생', '에너지', '‘', '광속', '’', '전환', '…', '풍력', '·', '태양광', '전년', '대비', '2', '배', '성장'], ['섬유', '·', '제지', '산업', '탄소', '중립', '움직임', '·', '··\"', '폐자원', '에너지', '로', '\"'], ['[', '경향', '포토', ']', '세계', '일본군', '위안부', '기림', '일', '앞두', '열린', '수요시위'], ['더', '가까워', '중', '·', '러', ',', '고비', '사막', '에서', '사흘', '째', '합동', '군사', '훈련'], ['중국', '대립각', '세우', '리투', '아니', '아', '…', '왜', '?'], ['“', '국회', '세종', '사당', '위한', '국회법', '개정안', '9', '월', '정기', '국회', '꼭', '처리', '라', '”', '.', '..', '충청', '권', '4', '개', '시도', '지사', '촉구'], ['윤석열', ',', '통신선', '복원', \"'\", '면', '협의', \"'\", '의혹', '제기', ',', '청와대', '\"', '사실', '아니', '\"'], ['김학순', '할머니', '피해', '증언', '30', '주년', '…', '정의', '기억', '연대', '“', '할머니', '용기', '우리', '용기', '돼', '”'], ['김두관', '“', '서울', '공화국', '해체', '”', '균형발전', '공약', '발표', '…', '지자체', '명칭', '지방', '정부', '로'], ['[', '비동', '강간죄', '발', '1', '년', ']', '법', '또', '사라지', '중', '입니까', '?'], ['충주시', '유튜브', '채널', '‘', '충', 'TV', '’', '구독자', '20', '만', '돌파', '·', '·', '·', '전국', '지자체', '유튜브', '중', '최다'], ['[', '단독', ']', '법관', '직원', '에게', '성경', '공부', '·', '의전', '지시', ',', '법원', '에서', '‘', '직장', '갑', '질', '’', '논란'], ['확진', '판정', '20', '대', ',', '백신', '접종', '후', '또', '확진', '·', '·', '·', '전북', '서', '재감염', '첫', '사례'], ['원희룡', '제주지사', '11', '일', '퇴임', '“', '국민', '지키', '기', '위해', '지사', '직', '물러나', '”'], ['상반기', '국내', '은행', '순이익', '10', '조', '8000', '억', '원', '.', '..', '1', '년', '전', '보다', '4', '조', '원', '증가'], ['트위터', '알고리즘', '무슬림', '·', '흑인', '·', '노인', '차별', '한다'], ['[', '인터랙티브', ']', '“', '법', '또', '사라지', '중', '입니까', '”', '…', '비동', '강간죄', '발', '1', '년', ',', '여전히', '계류', '중'], ['2024', '년', \"'\", '달', '착륙', '계획', '’', '지연', '되', '나', '…', '\"', '신', '형', '우주복', '개발', '늦', '어', '져', '\"'], ['아이', '낳', '죽음', '맞이', '14', '세', '소녀', '마차', '야', '남긴', '것', '[', '플랫', ']'], ['‘', '소멸시효', '’', '일본', '전범', '기업', '면죄부', '안', '돼', '·', '·', '·', '시민', '단체', '특별법', '제정', '요구'], ['코로나', '확진', '자수', '2000', '명', '돌파', '노심초사', '여', ',', '공세', '강화', '야'], ['파리바', '뜨', '‘', '노조', '와해', '’', '의혹', '증거인', '멸', '·', '·', '·', '관리자', '카톡', '방', '‘', '폭파', '’', '정황'], ['[', '속보', ']', '정경', '심', \"'\", '입시', '비리', '·', '사모', '펀드', \"'\", '의혹', ',', '2', '심도', '징역', '4', '년'], ['박범계', '‘', '한입', '두말', '’…“', '재벌', '총수', '걱정', '말라', '”', '더니', '이재용', '가석방'], ['김명수', '대법원장', ',', '새', '대법관', '오경미', '고법', '판사', '임명', '제청'], ['올림픽', '망명', '신청', '선수', '‘', '환승', '센터', '’'], ['생활', 'ESG', '영화제', '안치용', '위원장', '“', 'ESG', '생활', '속', '확산', '위한', '첫', '영화제', '9', '월', '남양주', '에서', '개막', '…', '청년', '적극', '참여', '기대', '”'], ['치명률', '낮', '아', '졌', '지만', '시민', '70', '%', '이상', '“', '방역', '전환', '아직', '일러', ',', '백신', '맞', '겠', '”'], ['EU', '아프간', '난민', '고민', '심화', '.', '..', '독일', '등', '6', '개', '회원국', '집', '행위', \"'\", '강제', '추방', \"'\", '보장', '요구'], ['산골', '요양', '암', '환자', '위해', '전신주', '28', '개', '연결', 'LG', '유', '플러스'], ['[', '일상', ',', '___', ']', '끈'], ['수익', '형', '부동산', '투자', '주목', '단지', '어디', '…', '복합', '스트리트', '쇼핑몰', '‘', '시화', 'MTV', '보니타', '’', '분양', '화제'], ['호주', ',', '인공지능', '(', 'AI', ')', \"'\", '발명자', \"'\", '로', '세계', '최초', '인정', '·', '·', '·', '한국', '?'], ['현대차', '·', 'BMW', '·', '벤츠', '등', '35', '개', '차종', '2', '만', '8946', '대', '리콜'], ['\"', '계곡', '자릿세', '요구', '시', '5000', '만', '원', '벌금', '\"', '하천법', '개정안', '발의'], ['인건비', '늘', '신작', '출시', '지연', '·', '·', '·', '게임', \"'\", '3', 'N', \"',\", '나란히', '2', '분기', '실적', '부진'], ['여전', '정치', '권', '‘', '유리', '천장', '’…', '국회의원', '여성', '할', '당제', '남녀', '의견', '판'], ['문', '대통령', '“', '감염', '확산', '못', '막', '으면', '확진', '자', '더', '늘어날', '중요', '시점', '”'], ['이낙연', '“', '지방', '거점', '국립대', ',', '‘', '등록금', '없', '대학', '’', '만들', '겠', '”'], ['뜨거워', '지구', ',', '전', '세계', '식량', '생산', '위태', '롭', '…', '\"', '식단', '전환', '필요', '\"']]\n"
          ],
          "name": "stdout"
        }
      ]
    },
    {
      "cell_type": "code",
      "metadata": {
        "id": "MWxbh7aOEW4X"
      },
      "source": [
        "import tensorflow as tf"
      ],
      "execution_count": 239,
      "outputs": []
    },
    {
      "cell_type": "code",
      "metadata": {
        "id": "eQnZKrZrEY1L"
      },
      "source": [
        "tokenizer = tf.keras.preprocessing.text.Tokenizer()\n",
        "tokenizer.fit_on_texts(sentance)  "
      ],
      "execution_count": 240,
      "outputs": []
    },
    {
      "cell_type": "code",
      "metadata": {
        "id": "2vtYa5vkEbWj"
      },
      "source": [
        "tokenizer.word_index "
      ],
      "execution_count": null,
      "outputs": []
    },
    {
      "cell_type": "code",
      "metadata": {
        "id": "AWr1yPUpEdRP"
      },
      "source": [
        "tokenizer.word_counts "
      ],
      "execution_count": null,
      "outputs": []
    },
    {
      "cell_type": "code",
      "metadata": {
        "id": "btUnMcxREiKI"
      },
      "source": [
        "total_cnt = len(tokenizer.word_index) "
      ],
      "execution_count": 243,
      "outputs": []
    },
    {
      "cell_type": "code",
      "metadata": {
        "id": "k6BOy7JMEmH8"
      },
      "source": [
        "rare_cnt = 0\n",
        "total_freq, rare_freq = 0, 0\n",
        "\n",
        "for key, value in tokenizer.word_counts.items():\n",
        "  total_freq = total_freq + value  # 전체 단어 수\n",
        "  if(value <= 2):\n",
        "    rare_cnt = rare_cnt + 1\n",
        "    rare_freq = rare_freq + value"
      ],
      "execution_count": 244,
      "outputs": []
    },
    {
      "cell_type": "code",
      "metadata": {
        "colab": {
          "base_uri": "https://localhost:8080/"
        },
        "id": "glP9lMRmEqRB",
        "outputId": "361fa61f-aa59-4379-ae33-447e91f5803f"
      },
      "source": [
        "total_cnt, rare_cnt, (rare_cnt/total_cnt)*100, (rare_freq/total_freq)*100"
      ],
      "execution_count": 245,
      "outputs": [
        {
          "output_type": "execute_result",
          "data": {
            "text/plain": [
              "(703, 645, 91.74964438122333, 63.24417601380501)"
            ]
          },
          "metadata": {
            "tags": []
          },
          "execution_count": 245
        }
      ]
    },
    {
      "cell_type": "code",
      "metadata": {
        "id": "90xC7KjYEtBJ"
      },
      "source": [
        "vocab_size = total_cnt - rare_cnt"
      ],
      "execution_count": 246,
      "outputs": []
    },
    {
      "cell_type": "code",
      "metadata": {
        "id": "ZMnmsgK1EwLq"
      },
      "source": [
        "tokenizer = tf.keras.preprocessing.text.Tokenizer(vocab_size, oov_token='OOV')\n",
        "tokenizer.fit_on_texts(sentance)"
      ],
      "execution_count": 247,
      "outputs": []
    },
    {
      "cell_type": "code",
      "metadata": {
        "id": "XTz5uRmEEyPf"
      },
      "source": [
        "tokenizer.index_word "
      ],
      "execution_count": null,
      "outputs": []
    },
    {
      "cell_type": "code",
      "metadata": {
        "id": "2PkD80giE0_S"
      },
      "source": [
        "x_train = tokenizer.texts_to_sequences(sentance)"
      ],
      "execution_count": 249,
      "outputs": []
    },
    {
      "cell_type": "code",
      "metadata": {
        "colab": {
          "base_uri": "https://localhost:8080/"
        },
        "id": "tTO7pLtOE7Ho",
        "outputId": "35641f19-386d-4a5c-b580-dfbf182cf241"
      },
      "source": [
        "print(x_train[0:3]) "
      ],
      "execution_count": 250,
      "outputs": [
        {
          "output_type": "stream",
          "text": [
            "[[11, 1, 1, 12, 1, 33, 1, 1, 1, 2, 2, 2, 18, 34, 1, 25, 1, 35], [36, 1, 3, 1, 1, 1, 1, 1, 19, 20, 1, 37, 1, 1, 1], [1, 1, 38, 39, 1, 15, 40, 2, 2, 2, 40, 1, 4, 1, 6, 1, 1, 1, 1, 1, 1, 1, 1]]\n"
          ],
          "name": "stdout"
        }
      ]
    },
    {
      "cell_type": "code",
      "metadata": {
        "colab": {
          "base_uri": "https://localhost:8080/"
        },
        "id": "nplkk1hyE_yH",
        "outputId": "7a5ee664-4212-4d1e-c901-9e908378d3ab"
      },
      "source": [
        "len(x_train[0]), len(x_train[40]), len(x_train[50])"
      ],
      "execution_count": 251,
      "outputs": [
        {
          "output_type": "execute_result",
          "data": {
            "text/plain": [
              "(18, 16, 20)"
            ]
          },
          "metadata": {
            "tags": []
          },
          "execution_count": 251
        }
      ]
    },
    {
      "cell_type": "code",
      "metadata": {
        "id": "3kiq6oZGFGjl"
      },
      "source": [
        "hist_len = [len(words) for words in x_train]"
      ],
      "execution_count": 252,
      "outputs": []
    },
    {
      "cell_type": "code",
      "metadata": {
        "id": "eBLFVhf-FOL6"
      },
      "source": [
        "import matplotlib.pyplot as plt"
      ],
      "execution_count": 253,
      "outputs": []
    },
    {
      "cell_type": "code",
      "metadata": {
        "colab": {
          "base_uri": "https://localhost:8080/",
          "height": 440
        },
        "id": "EpjM-HDSFQ5P",
        "outputId": "77831e8a-9d9f-415f-ba93-08fe2512556c"
      },
      "source": [
        "plt.hist(hist_len, bins=50)"
      ],
      "execution_count": 254,
      "outputs": [
        {
          "output_type": "execute_result",
          "data": {
            "text/plain": [
              "(array([1., 0., 0., 0., 0., 1., 0., 0., 5., 0., 0., 2., 0., 1., 0., 0., 5.,\n",
              "        0., 0., 6., 0., 0., 8., 0., 0., 7., 0., 3., 0., 0., 8., 0., 0., 7.,\n",
              "        0., 0., 8., 0., 8., 0., 0., 1., 0., 0., 0., 0., 0., 1., 0., 2.]),\n",
              " array([ 6.  ,  6.36,  6.72,  7.08,  7.44,  7.8 ,  8.16,  8.52,  8.88,\n",
              "         9.24,  9.6 ,  9.96, 10.32, 10.68, 11.04, 11.4 , 11.76, 12.12,\n",
              "        12.48, 12.84, 13.2 , 13.56, 13.92, 14.28, 14.64, 15.  , 15.36,\n",
              "        15.72, 16.08, 16.44, 16.8 , 17.16, 17.52, 17.88, 18.24, 18.6 ,\n",
              "        18.96, 19.32, 19.68, 20.04, 20.4 , 20.76, 21.12, 21.48, 21.84,\n",
              "        22.2 , 22.56, 22.92, 23.28, 23.64, 24.  ]),\n",
              " <a list of 50 Patch objects>)"
            ]
          },
          "metadata": {
            "tags": []
          },
          "execution_count": 254
        },
        {
          "output_type": "display_data",
          "data": {
            "image/png": "[encoded data removed]",
            "text/plain": [
              "<Figure size 432x288 with 1 Axes>"
            ]
          },
          "metadata": {
            "tags": [],
            "needs_background": "light"
          }
        }
      ]
    },
    {
      "cell_type": "code",
      "metadata": {
        "colab": {
          "base_uri": "https://localhost:8080/"
        },
        "id": "LAcp0amYFSnR",
        "outputId": "39ae8f19-5bc4-48fa-d0d0-020bb746e0c1"
      },
      "source": [
        "sum(hist_len)/len(x_train)"
      ],
      "execution_count": 255,
      "outputs": [
        {
          "output_type": "execute_result",
          "data": {
            "text/plain": [
              "15.662162162162161"
            ]
          },
          "metadata": {
            "tags": []
          },
          "execution_count": 255
        }
      ]
    },
    {
      "cell_type": "code",
      "metadata": {
        "id": "DG9k03hMFYO6"
      },
      "source": [
        "x_train = tf.keras.preprocessing.sequence.pad_sequences(x_train, maxlen=50)"
      ],
      "execution_count": 256,
      "outputs": []
    },
    {
      "cell_type": "code",
      "metadata": {
        "colab": {
          "base_uri": "https://localhost:8080/"
        },
        "id": "EbrrV-y5FdlV",
        "outputId": "638f4828-02f3-49fa-89ce-99e3dcbe25a8"
      },
      "source": [
        "y_train"
      ],
      "execution_count": 257,
      "outputs": [
        {
          "output_type": "execute_result",
          "data": {
            "text/plain": [
              "5     코로나19 하루 신규 확진자가 2200명을 넘어서며 새로운 국면을 맞고 있다. 20...\n",
              "1     국민의힘 내홍이 깊어지고 있다. 이준석 대표와 윤석열 전 검찰총장 등 ‘투스톤(준스...\n",
              "40    제23회 서울국제여성영화제가 26일~9월1일 서울 마포구 문화비축기지와 메가박스 상...\n",
              "17    코로나19 백신 접종률이 높은 영국과 싱가포르에서 ‘코로나와 함께 살기’ 실험이 이...\n",
              "8     김여정 북한 노동당 부부장이 지난 10일 ‘김정은 국무위원장의 위임에 따라’ 발표한...\n",
              "                            ...                        \n",
              "9     ‘3N’으로 불리는 게임업계의 ‘3강 업체’ 엔씨소프트·넥슨·넷마블이 나란히 기대 ...\n",
              "52    21대 총선에서 거대 양당의 여성 지역구 공천 비율이 13%에 불과한 것으로 나타났...\n",
              "87    문재인 대통령이 11일 국내 코로나19 하루 확진자 수가 역대 최다를 기록한 데 대...\n",
              "63    더불어민주당 대선 경선 후보인 이낙연 전 대표는 11일 지역대학 육성 공약으로 지역...\n",
              "41    기후 변화에 따른 기온 상승으로 전 세계 식량 공급이 어려워질 것이라는 어두운 전망...\n",
              "Name: text, Length: 74, dtype: object"
            ]
          },
          "metadata": {
            "tags": []
          },
          "execution_count": 257
        }
      ]
    },
    {
      "cell_type": "code",
      "metadata": {
        "id": "RiFNyL-UFzIf"
      },
      "source": [
        "import numpy as np"
      ],
      "execution_count": 258,
      "outputs": []
    },
    {
      "cell_type": "code",
      "metadata": {
        "id": "01Qv_P2LFkQz"
      },
      "source": [
        "np.unique(y_train)"
      ],
      "execution_count": null,
      "outputs": []
    },
    {
      "cell_type": "code",
      "metadata": {
        "colab": {
          "base_uri": "https://localhost:8080/"
        },
        "id": "eLj2hhHlFuAL",
        "outputId": "ee7ecc09-5d44-471c-e4fa-0e7d277e6f22"
      },
      "source": [
        "len(x_train),len(y_train)"
      ],
      "execution_count": 260,
      "outputs": [
        {
          "output_type": "execute_result",
          "data": {
            "text/plain": [
              "(74, 74)"
            ]
          },
          "metadata": {
            "tags": []
          },
          "execution_count": 260
        }
      ]
    },
    {
      "cell_type": "code",
      "metadata": {
        "id": "dilnidcqIJiZ"
      },
      "source": [
        ""
      ],
      "execution_count": null,
      "outputs": []
    }
  ]
}