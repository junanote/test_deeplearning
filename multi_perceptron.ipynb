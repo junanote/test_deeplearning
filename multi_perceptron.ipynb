{
  "nbformat": 4,
  "nbformat_minor": 0,
  "metadata": {
    "colab": {
      "name": "multi_perceptron.ipynb",
      "provenance": [],
      "authorship_tag": "ABX9TyPGKxrBVCqW1S168gSMF1OO",
      "include_colab_link": true
    },
    "kernelspec": {
      "name": "python3",
      "display_name": "Python 3"
    },
    "language_info": {
      "name": "python"
    }
  },
  "cells": [
    {
      "cell_type": "markdown",
      "metadata": {
        "id": "view-in-github",
        "colab_type": "text"
      },
      "source": [
        "<a href=\"https://colab.research.google.com/github/junanote/test_deeplearning/blob/master/multi_perceptron.ipynb\" target=\"_parent\"><img src=\"https://colab.research.google.com/assets/colab-badge.svg\" alt=\"Open In Colab\"/></a>"
      ]
    },
    {
      "cell_type": "code",
      "metadata": {
        "id": "aL_HB9-uxVFq"
      },
      "source": [
        "import tensorflow as tf\n"
      ],
      "execution_count": 48,
      "outputs": []
    },
    {
      "cell_type": "code",
      "metadata": {
        "colab": {
          "base_uri": "https://localhost:8080/"
        },
        "id": "TSf5sUfPx7GL",
        "outputId": "f823e18c-bd69-4b9d-f0f6-840c14b7972a"
      },
      "source": [
        "  x_data = [[0,0],[1,0],[0,1], [1,1]]\n",
        "  y_data = [[0],[1], [1], [1]]                     \n",
        "  type(x_data), type(y_data)"
      ],
      "execution_count": 49,
      "outputs": [
        {
          "output_type": "execute_result",
          "data": {
            "text/plain": [
              "(list, list)"
            ]
          },
          "metadata": {
            "tags": []
          },
          "execution_count": 49
        }
      ]
    },
    {
      "cell_type": "code",
      "metadata": {
        "colab": {
          "base_uri": "https://localhost:8080/"
        },
        "id": "N70sUVzk0k6v",
        "outputId": "67886299-3c32-48b3-d913-90caf4d8b535"
      },
      "source": [
        "import numpy as np\n",
        "x_train = np.array(x_data)\n",
        "y_train = np.array(y_data)\n",
        "x_train.shape, y_train.shape "
      ],
      "execution_count": 50,
      "outputs": [
        {
          "output_type": "execute_result",
          "data": {
            "text/plain": [
              "((4, 2), (4, 1))"
            ]
          },
          "metadata": {
            "tags": []
          },
          "execution_count": 50
        }
      ]
    },
    {
      "cell_type": "code",
      "metadata": {
        "colab": {
          "base_uri": "https://localhost:8080/"
        },
        "id": "gekSoins0_Kx",
        "outputId": "ff993101-60ba-47c4-be42-b726e971eda7"
      },
      "source": [
        "model = tf.keras.models.Sequential()\n",
        "\n",
        "# solve XOR model\n",
        "model.add(tf.keras.Input(shape=(2,))) # input layer \n",
        "model.add(tf.keras.layers.Dense(139, activation='sigmoid')) # 기능 layer\n",
        "model.add(tf.keras.layers.Dense(1, activation='sigmoid'))  # output layer\n",
        "\n",
        "model.compile(optimizer='sgd', loss='mse', metrics=['acc'])"
      ],
      "execution_count": 51,
      "outputs": [
        {
          "output_type": "stream",
          "text": [
            "WARNING:tensorflow:Please add `keras.layers.InputLayer` instead of `keras.Input` to Sequential model. `keras.Input` is intended to be used by Functional model.\n"
          ],
          "name": "stdout"
        }
      ]
    },
    {
      "cell_type": "code",
      "metadata": {
        "colab": {
          "base_uri": "https://localhost:8080/",
          "height": 312
        },
        "id": "nftUmmNt85sG",
        "outputId": "6974fce7-bfb1-4529-ecca-45866a1ea853"
      },
      "source": [
        "tf.keras.utils.plot_model(model, show_shapes=True)"
      ],
      "execution_count": 52,
      "outputs": [
        {
          "output_type": "execute_result",
          "data": {
            "image/png": "[encoded data removed]",
            "text/plain": [
              "<IPython.core.display.Image object>"
            ]
          },
          "metadata": {
            "tags": []
          },
          "execution_count": 52
        }
      ]
    },
    {
      "cell_type": "code",
      "metadata": {
        "colab": {
          "base_uri": "https://localhost:8080/"
        },
        "id": "hvq9fknp8Xfi",
        "outputId": "00b56320-e071-4e11-8278-5fd5c6a6065d"
      },
      "source": [
        "model.fit(x_train, y_train, epochs=50)\n"
      ],
      "execution_count": 53,
      "outputs": [
        {
          "output_type": "stream",
          "text": [
            "Epoch 1/50\n",
            "1/1 [==============================] - 0s 361ms/step - loss: 0.5766 - acc: 0.2500\n",
            "Epoch 2/50\n",
            "1/1 [==============================] - 0s 11ms/step - loss: 0.5697 - acc: 0.2500\n",
            "Epoch 3/50\n",
            "1/1 [==============================] - 0s 6ms/step - loss: 0.5624 - acc: 0.2500\n",
            "Epoch 4/50\n",
            "1/1 [==============================] - 0s 13ms/step - loss: 0.5547 - acc: 0.2500\n",
            "Epoch 5/50\n",
            "1/1 [==============================] - 0s 7ms/step - loss: 0.5465 - acc: 0.2500\n",
            "Epoch 6/50\n",
            "1/1 [==============================] - 0s 7ms/step - loss: 0.5380 - acc: 0.2500\n",
            "Epoch 7/50\n",
            "1/1 [==============================] - 0s 5ms/step - loss: 0.5289 - acc: 0.2500\n",
            "Epoch 8/50\n",
            "1/1 [==============================] - 0s 8ms/step - loss: 0.5194 - acc: 0.2500\n",
            "Epoch 9/50\n",
            "1/1 [==============================] - 0s 5ms/step - loss: 0.5095 - acc: 0.2500\n",
            "Epoch 10/50\n",
            "1/1 [==============================] - 0s 10ms/step - loss: 0.4990 - acc: 0.2500\n",
            "Epoch 11/50\n",
            "1/1 [==============================] - 0s 3ms/step - loss: 0.4881 - acc: 0.2500\n",
            "Epoch 12/50\n",
            "1/1 [==============================] - 0s 5ms/step - loss: 0.4768 - acc: 0.2500\n",
            "Epoch 13/50\n",
            "1/1 [==============================] - 0s 8ms/step - loss: 0.4651 - acc: 0.2500\n",
            "Epoch 14/50\n",
            "1/1 [==============================] - 0s 5ms/step - loss: 0.4530 - acc: 0.2500\n",
            "Epoch 15/50\n",
            "1/1 [==============================] - 0s 5ms/step - loss: 0.4406 - acc: 0.2500\n",
            "Epoch 16/50\n",
            "1/1 [==============================] - 0s 6ms/step - loss: 0.4280 - acc: 0.2500\n",
            "Epoch 17/50\n",
            "1/1 [==============================] - 0s 6ms/step - loss: 0.4152 - acc: 0.2500\n",
            "Epoch 18/50\n",
            "1/1 [==============================] - 0s 8ms/step - loss: 0.4023 - acc: 0.2500\n",
            "Epoch 19/50\n",
            "1/1 [==============================] - 0s 5ms/step - loss: 0.3894 - acc: 0.2500\n",
            "Epoch 20/50\n",
            "1/1 [==============================] - 0s 10ms/step - loss: 0.3766 - acc: 0.2500\n",
            "Epoch 21/50\n",
            "1/1 [==============================] - 0s 7ms/step - loss: 0.3640 - acc: 0.2500\n",
            "Epoch 22/50\n",
            "1/1 [==============================] - 0s 6ms/step - loss: 0.3516 - acc: 0.2500\n",
            "Epoch 23/50\n",
            "1/1 [==============================] - 0s 11ms/step - loss: 0.3397 - acc: 0.2500\n",
            "Epoch 24/50\n",
            "1/1 [==============================] - 0s 5ms/step - loss: 0.3282 - acc: 0.2500\n",
            "Epoch 25/50\n",
            "1/1 [==============================] - 0s 5ms/step - loss: 0.3172 - acc: 0.2500\n",
            "Epoch 26/50\n",
            "1/1 [==============================] - 0s 7ms/step - loss: 0.3068 - acc: 0.2500\n",
            "Epoch 27/50\n",
            "1/1 [==============================] - 0s 7ms/step - loss: 0.2969 - acc: 0.2500\n",
            "Epoch 28/50\n",
            "1/1 [==============================] - 0s 6ms/step - loss: 0.2877 - acc: 0.2500\n",
            "Epoch 29/50\n",
            "1/1 [==============================] - 0s 7ms/step - loss: 0.2792 - acc: 0.2500\n",
            "Epoch 30/50\n",
            "1/1 [==============================] - 0s 7ms/step - loss: 0.2712 - acc: 0.2500\n",
            "Epoch 31/50\n",
            "1/1 [==============================] - 0s 8ms/step - loss: 0.2639 - acc: 0.2500\n",
            "Epoch 32/50\n",
            "1/1 [==============================] - 0s 5ms/step - loss: 0.2572 - acc: 0.2500\n",
            "Epoch 33/50\n",
            "1/1 [==============================] - 0s 17ms/step - loss: 0.2510 - acc: 0.5000\n",
            "Epoch 34/50\n",
            "1/1 [==============================] - 0s 6ms/step - loss: 0.2454 - acc: 0.7500\n",
            "Epoch 35/50\n",
            "1/1 [==============================] - 0s 7ms/step - loss: 0.2403 - acc: 0.7500\n",
            "Epoch 36/50\n",
            "1/1 [==============================] - 0s 6ms/step - loss: 0.2356 - acc: 0.7500\n",
            "Epoch 37/50\n",
            "1/1 [==============================] - 0s 7ms/step - loss: 0.2314 - acc: 0.7500\n",
            "Epoch 38/50\n",
            "1/1 [==============================] - 0s 6ms/step - loss: 0.2275 - acc: 0.7500\n",
            "Epoch 39/50\n",
            "1/1 [==============================] - 0s 6ms/step - loss: 0.2240 - acc: 0.7500\n",
            "Epoch 40/50\n",
            "1/1 [==============================] - 0s 12ms/step - loss: 0.2208 - acc: 0.7500\n",
            "Epoch 41/50\n",
            "1/1 [==============================] - 0s 6ms/step - loss: 0.2180 - acc: 0.7500\n",
            "Epoch 42/50\n",
            "1/1 [==============================] - 0s 19ms/step - loss: 0.2154 - acc: 0.7500\n",
            "Epoch 43/50\n",
            "1/1 [==============================] - 0s 11ms/step - loss: 0.2130 - acc: 0.7500\n",
            "Epoch 44/50\n",
            "1/1 [==============================] - 0s 8ms/step - loss: 0.2108 - acc: 0.7500\n",
            "Epoch 45/50\n",
            "1/1 [==============================] - 0s 7ms/step - loss: 0.2089 - acc: 0.7500\n",
            "Epoch 46/50\n",
            "1/1 [==============================] - 0s 6ms/step - loss: 0.2071 - acc: 0.7500\n",
            "Epoch 47/50\n",
            "1/1 [==============================] - 0s 9ms/step - loss: 0.2055 - acc: 0.7500\n",
            "Epoch 48/50\n",
            "1/1 [==============================] - 0s 6ms/step - loss: 0.2040 - acc: 0.7500\n",
            "Epoch 49/50\n",
            "1/1 [==============================] - 0s 11ms/step - loss: 0.2026 - acc: 0.7500\n",
            "Epoch 50/50\n",
            "1/1 [==============================] - 0s 12ms/step - loss: 0.2014 - acc: 0.7500\n"
          ],
          "name": "stdout"
        },
        {
          "output_type": "execute_result",
          "data": {
            "text/plain": [
              "<tensorflow.python.keras.callbacks.History at 0x7f3593846c10>"
            ]
          },
          "metadata": {
            "tags": []
          },
          "execution_count": 53
        }
      ]
    },
    {
      "cell_type": "code",
      "metadata": {
        "colab": {
          "base_uri": "https://localhost:8080/"
        },
        "id": "WsDQtDro9IzM",
        "outputId": "fbf2d671-de0b-4ebb-9439-fefbb2012eb6"
      },
      "source": [
        "model.predict([[0,1]])            #loss 0.2149"
      ],
      "execution_count": 54,
      "outputs": [
        {
          "output_type": "execute_result",
          "data": {
            "text/plain": [
              "array([[0.6377173]], dtype=float32)"
            ]
          },
          "metadata": {
            "tags": []
          },
          "execution_count": 54
        }
      ]
    },
    {
      "cell_type": "code",
      "metadata": {
        "colab": {
          "base_uri": "https://localhost:8080/"
        },
        "id": "SiQ5kXu4-3qb",
        "outputId": "51cedd64-4e3e-41ab-e637-cd114ce0ddd0"
      },
      "source": [
        "model.predict([[0,1]])                      # dense : 139, epochs=50, loss : 0.1873)"
      ],
      "execution_count": 55,
      "outputs": [
        {
          "output_type": "execute_result",
          "data": {
            "text/plain": [
              "array([[0.6377173]], dtype=float32)"
            ]
          },
          "metadata": {
            "tags": []
          },
          "execution_count": 55
        }
      ]
    },
    {
      "cell_type": "code",
      "metadata": {
        "colab": {
          "base_uri": "https://localhost:8080/"
        },
        "id": "dxdlgR3vBzwq",
        "outputId": "54e2e5bb-ee5f-4d9d-db83-fb2d8157262a"
      },
      "source": [
        "model.evaluate(x_train, y_train)"
      ],
      "execution_count": 56,
      "outputs": [
        {
          "output_type": "stream",
          "text": [
            "1/1 [==============================] - 0s 103ms/step - loss: 0.2003 - acc: 0.7500\n"
          ],
          "name": "stdout"
        },
        {
          "output_type": "execute_result",
          "data": {
            "text/plain": [
              "[0.2002798318862915, 0.75]"
            ]
          },
          "metadata": {
            "tags": []
          },
          "execution_count": 56
        }
      ]
    },
    {
      "cell_type": "code",
      "metadata": {
        "id": "q03k91O1CZ4i"
      },
      "source": [
        ""
      ],
      "execution_count": 56,
      "outputs": []
    }
  ]
}