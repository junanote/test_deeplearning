{
  "nbformat": 4,
  "nbformat_minor": 0,
  "metadata": {
    "colab": {
      "name": "딥러닝 2.ipynb",
      "provenance": [],
      "collapsed_sections": [],
      "authorship_tag": "ABX9TyMOc9W3B1ayG8b1BDld/QAS",
      "include_colab_link": true
    },
    "kernelspec": {
      "name": "python3",
      "display_name": "Python 3"
    },
    "language_info": {
      "name": "python"
    }
  },
  "cells": [
    {
      "cell_type": "markdown",
      "metadata": {
        "id": "view-in-github",
        "colab_type": "text"
      },
      "source": [
        "<a href=\"https://colab.research.google.com/github/junanote/test_deeplearning/blob/master/%EB%94%A5%EB%9F%AC%EB%8B%9D_2.ipynb\" target=\"_parent\"><img src=\"https://colab.research.google.com/assets/colab-badge.svg\" alt=\"Open In Colab\"/></a>"
      ]
    },
    {
      "cell_type": "code",
      "metadata": {
        "id": "W7jG1EJ-JeqC"
      },
      "source": [
        "import tensorflow as tf\n",
        "from tensorflow import keras\n",
        "from tensorflow.keras.preprocessing.text import Tokenizer\n",
        "from tensorflow.keras.preprocessing.sequence import pad_sequences\n"
      ],
      "execution_count": 4,
      "outputs": []
    },
    {
      "cell_type": "code",
      "metadata": {
        "colab": {
          "base_uri": "https://localhost:8080/"
        },
        "id": "Hnkc8zzHLQbb",
        "outputId": "d964f97a-5be0-4e3d-e666-d9105809a15f"
      },
      "source": [
        "pip install konlpy"
      ],
      "execution_count": 8,
      "outputs": [
        {
          "output_type": "stream",
          "text": [
            "Collecting konlpy\n",
            "  Downloading konlpy-0.5.2-py2.py3-none-any.whl (19.4 MB)\n",
            "\u001b[K     |████████████████████████████████| 19.4 MB 1.2 MB/s \n",
            "\u001b[?25hCollecting colorama\n",
            "  Downloading colorama-0.4.4-py2.py3-none-any.whl (16 kB)\n",
            "Requirement already satisfied: tweepy>=3.7.0 in /usr/local/lib/python3.7/dist-packages (from konlpy) (3.10.0)\n",
            "Collecting JPype1>=0.7.0\n",
            "  Downloading JPype1-1.3.0-cp37-cp37m-manylinux_2_5_x86_64.manylinux1_x86_64.whl (448 kB)\n",
            "\u001b[K     |████████████████████████████████| 448 kB 72.4 MB/s \n",
            "\u001b[?25hRequirement already satisfied: lxml>=4.1.0 in /usr/local/lib/python3.7/dist-packages (from konlpy) (4.2.6)\n",
            "Requirement already satisfied: numpy>=1.6 in /usr/local/lib/python3.7/dist-packages (from konlpy) (1.19.5)\n",
            "Collecting beautifulsoup4==4.6.0\n",
            "  Downloading beautifulsoup4-4.6.0-py3-none-any.whl (86 kB)\n",
            "\u001b[K     |████████████████████████████████| 86 kB 5.7 MB/s \n",
            "\u001b[?25hRequirement already satisfied: typing-extensions in /usr/local/lib/python3.7/dist-packages (from JPype1>=0.7.0->konlpy) (3.7.4.3)\n",
            "Requirement already satisfied: requests[socks]>=2.11.1 in /usr/local/lib/python3.7/dist-packages (from tweepy>=3.7.0->konlpy) (2.23.0)\n",
            "Requirement already satisfied: requests-oauthlib>=0.7.0 in /usr/local/lib/python3.7/dist-packages (from tweepy>=3.7.0->konlpy) (1.3.0)\n",
            "Requirement already satisfied: six>=1.10.0 in /usr/local/lib/python3.7/dist-packages (from tweepy>=3.7.0->konlpy) (1.15.0)\n",
            "Requirement already satisfied: oauthlib>=3.0.0 in /usr/local/lib/python3.7/dist-packages (from requests-oauthlib>=0.7.0->tweepy>=3.7.0->konlpy) (3.1.1)\n",
            "Requirement already satisfied: chardet<4,>=3.0.2 in /usr/local/lib/python3.7/dist-packages (from requests[socks]>=2.11.1->tweepy>=3.7.0->konlpy) (3.0.4)\n",
            "Requirement already satisfied: idna<3,>=2.5 in /usr/local/lib/python3.7/dist-packages (from requests[socks]>=2.11.1->tweepy>=3.7.0->konlpy) (2.10)\n",
            "Requirement already satisfied: urllib3!=1.25.0,!=1.25.1,<1.26,>=1.21.1 in /usr/local/lib/python3.7/dist-packages (from requests[socks]>=2.11.1->tweepy>=3.7.0->konlpy) (1.24.3)\n",
            "Requirement already satisfied: certifi>=2017.4.17 in /usr/local/lib/python3.7/dist-packages (from requests[socks]>=2.11.1->tweepy>=3.7.0->konlpy) (2021.5.30)\n",
            "Requirement already satisfied: PySocks!=1.5.7,>=1.5.6 in /usr/local/lib/python3.7/dist-packages (from requests[socks]>=2.11.1->tweepy>=3.7.0->konlpy) (1.7.1)\n",
            "Installing collected packages: JPype1, colorama, beautifulsoup4, konlpy\n",
            "  Attempting uninstall: beautifulsoup4\n",
            "    Found existing installation: beautifulsoup4 4.6.3\n",
            "    Uninstalling beautifulsoup4-4.6.3:\n",
            "      Successfully uninstalled beautifulsoup4-4.6.3\n",
            "Successfully installed JPype1-1.3.0 beautifulsoup4-4.6.0 colorama-0.4.4 konlpy-0.5.2\n"
          ],
          "name": "stdout"
        }
      ]
    },
    {
      "cell_type": "code",
      "metadata": {
        "id": "ygHY4OArLa_J"
      },
      "source": [
        "from konlpy.tag import Okt"
      ],
      "execution_count": 9,
      "outputs": []
    },
    {
      "cell_type": "code",
      "metadata": {
        "id": "RqrXaCcxJgb7"
      },
      "source": [
        "sentence=[\"Mrs. Cecil Forrester, he repeated thoughtfully. I believe that I was of some slight service to her. The case, however, as I remember it, was a very simple one.\"]"
      ],
      "execution_count": 14,
      "outputs": []
    },
    {
      "cell_type": "code",
      "metadata": {
        "id": "-VPJbOMoL7MK"
      },
      "source": [
        "tokenizer = Tokenizer()"
      ],
      "execution_count": 15,
      "outputs": []
    },
    {
      "cell_type": "code",
      "metadata": {
        "id": "8iCU73P1M645"
      },
      "source": [
        "tokenizer.fit_on_texts(sentence)"
      ],
      "execution_count": 16,
      "outputs": []
    },
    {
      "cell_type": "markdown",
      "metadata": {
        "id": "RWp9InSWNKWC"
      },
      "source": [
        "# 단어와 단어 등장 횟수를 매핑 \n",
        "https://predictors.tistory.com/59?category=821385"
      ]
    },
    {
      "cell_type": "code",
      "metadata": {
        "colab": {
          "base_uri": "https://localhost:8080/"
        },
        "id": "AWoBMTyNM8Up",
        "outputId": "c1d31735-ca46-4788-963e-c0bdb2e4393c"
      },
      "source": [
        "tokenizer.word_counts"
      ],
      "execution_count": 17,
      "outputs": [
        {
          "output_type": "execute_result",
          "data": {
            "text/plain": [
              "OrderedDict([('mrs', 1),\n",
              "             ('cecil', 1),\n",
              "             ('forrester', 1),\n",
              "             ('he', 1),\n",
              "             ('repeated', 1),\n",
              "             ('thoughtfully', 1),\n",
              "             ('i', 3),\n",
              "             ('believe', 1),\n",
              "             ('that', 1),\n",
              "             ('was', 2),\n",
              "             ('of', 1),\n",
              "             ('some', 1),\n",
              "             ('slight', 1),\n",
              "             ('service', 1),\n",
              "             ('to', 1),\n",
              "             ('her', 1),\n",
              "             ('the', 1),\n",
              "             ('case', 1),\n",
              "             ('however', 1),\n",
              "             ('as', 1),\n",
              "             ('remember', 1),\n",
              "             ('it', 1),\n",
              "             ('a', 1),\n",
              "             ('very', 1),\n",
              "             ('simple', 1),\n",
              "             ('one', 1)])"
            ]
          },
          "metadata": {
            "tags": []
          },
          "execution_count": 17
        }
      ]
    },
    {
      "cell_type": "markdown",
      "metadata": {
        "id": "i2U1sYySNSJC"
      },
      "source": [
        "#각 단어에 인덱스(등장 회수에 따른 랭킹) 넘버 매핑\n"
      ]
    },
    {
      "cell_type": "code",
      "metadata": {
        "colab": {
          "base_uri": "https://localhost:8080/"
        },
        "id": "AsZaZqWwOAyh",
        "outputId": "27e8966f-15e2-42a7-e5fa-0e35825be1d6"
      },
      "source": [
        "tokenizer.word_index"
      ],
      "execution_count": 18,
      "outputs": [
        {
          "output_type": "execute_result",
          "data": {
            "text/plain": [
              "{'a': 23,\n",
              " 'as': 20,\n",
              " 'believe': 9,\n",
              " 'case': 18,\n",
              " 'cecil': 4,\n",
              " 'forrester': 5,\n",
              " 'he': 6,\n",
              " 'her': 16,\n",
              " 'however': 19,\n",
              " 'i': 1,\n",
              " 'it': 22,\n",
              " 'mrs': 3,\n",
              " 'of': 11,\n",
              " 'one': 26,\n",
              " 'remember': 21,\n",
              " 'repeated': 7,\n",
              " 'service': 14,\n",
              " 'simple': 25,\n",
              " 'slight': 13,\n",
              " 'some': 12,\n",
              " 'that': 10,\n",
              " 'the': 17,\n",
              " 'thoughtfully': 8,\n",
              " 'to': 15,\n",
              " 'very': 24,\n",
              " 'was': 2}"
            ]
          },
          "metadata": {
            "tags": []
          },
          "execution_count": 18
        }
      ]
    },
    {
      "cell_type": "markdown",
      "metadata": {
        "id": "BQElzTeHNn7r"
      },
      "source": [
        "# Text to list of sequences"
      ]
    },
    {
      "cell_type": "code",
      "metadata": {
        "colab": {
          "base_uri": "https://localhost:8080/"
        },
        "id": "F3aXyiWoNOiF",
        "outputId": "12d53bd0-3b3b-4296-f6b6-fbbe93c4f6dc"
      },
      "source": [
        "tokenizer.texts_to_sequences(sentence)"
      ],
      "execution_count": 20,
      "outputs": [
        {
          "output_type": "execute_result",
          "data": {
            "text/plain": [
              "[[3,\n",
              "  4,\n",
              "  5,\n",
              "  6,\n",
              "  7,\n",
              "  8,\n",
              "  1,\n",
              "  9,\n",
              "  10,\n",
              "  1,\n",
              "  2,\n",
              "  11,\n",
              "  12,\n",
              "  13,\n",
              "  14,\n",
              "  15,\n",
              "  16,\n",
              "  17,\n",
              "  18,\n",
              "  19,\n",
              "  20,\n",
              "  1,\n",
              "  21,\n",
              "  22,\n",
              "  2,\n",
              "  23,\n",
              "  24,\n",
              "  25,\n",
              "  26]]"
            ]
          },
          "metadata": {
            "tags": []
          },
          "execution_count": 20
        }
      ]
    },
    {
      "cell_type": "code",
      "metadata": {
        "id": "DF0UFgE-OEoD"
      },
      "source": [
        "# list of sequence 를 array로 변환"
      ],
      "execution_count": 21,
      "outputs": []
    },
    {
      "cell_type": "code",
      "metadata": {
        "colab": {
          "base_uri": "https://localhost:8080/"
        },
        "id": "EQB0wQ1COOTv",
        "outputId": "d33e613d-00ce-441a-a3ed-d5e67b457490"
      },
      "source": [
        " pad_sequences(tokenizer.texts_to_sequences(sentence))"
      ],
      "execution_count": 22,
      "outputs": [
        {
          "output_type": "execute_result",
          "data": {
            "text/plain": [
              "array([[ 3,  4,  5,  6,  7,  8,  1,  9, 10,  1,  2, 11, 12, 13, 14, 15,\n",
              "        16, 17, 18, 19, 20,  1, 21, 22,  2, 23, 24, 25, 26]], dtype=int32)"
            ]
          },
          "metadata": {
            "tags": []
          },
          "execution_count": 22
        }
      ]
    },
    {
      "cell_type": "code",
      "metadata": {
        "id": "nWL1rh_uOQsV"
      },
      "source": [
        ""
      ],
      "execution_count": null,
      "outputs": []
    }
  ]
}