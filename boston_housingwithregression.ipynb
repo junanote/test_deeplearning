{
  "nbformat": 4,
  "nbformat_minor": 0,
  "metadata": {
    "colab": {
      "name": "boston_housingwithregression.ipynb",
      "provenance": [],
      "authorship_tag": "ABX9TyP6a+CeJCZ3Qam+62qmV5vy",
      "include_colab_link": true
    },
    "kernelspec": {
      "name": "python3",
      "display_name": "Python 3"
    },
    "language_info": {
      "name": "python"
    }
  },
  "cells": [
    {
      "cell_type": "markdown",
      "metadata": {
        "id": "view-in-github",
        "colab_type": "text"
      },
      "source": [
        "<a href=\"https://colab.research.google.com/github/junanote/test_deeplearning/blob/master/boston_housingwithregression.ipynb\" target=\"_parent\"><img src=\"https://colab.research.google.com/assets/colab-badge.svg\" alt=\"Open In Colab\"/></a>"
      ]
    },
    {
      "cell_type": "code",
      "metadata": {
        "id": "apS4H1kjYixP"
      },
      "source": [
        "import tensorflow as tf\n",
        "from tensorflow.keras.datasets.boston_housing import load_data\n"
      ],
      "execution_count": 2,
      "outputs": []
    },
    {
      "cell_type": "markdown",
      "metadata": {
        "id": "ewEqFFM01Cxz"
      },
      "source": [
        "# Dataset\n"
      ]
    },
    {
      "cell_type": "code",
      "metadata": {
        "colab": {
          "base_uri": "https://localhost:8080/"
        },
        "id": "rPRKNX0qbY6p",
        "outputId": "80579195-0362-4c3a-a18c-4483aa52b5ba"
      },
      "source": [
        "(x_train, y_train), (x_test, y_test) = load_data(path='boston_housing.npz', test_split=0.2, seed=113)\n",
        "x_train.shape, y_train.shape, x_test.shape, y_test.shape, type(x_train)\n"
      ],
      "execution_count": 12,
      "outputs": [
        {
          "output_type": "execute_result",
          "data": {
            "text/plain": [
              "((404, 13), (404,), (102, 13), (102,), numpy.ndarray)"
            ]
          },
          "metadata": {
            "tags": []
          },
          "execution_count": 12
        }
      ]
    },
    {
      "cell_type": "code",
      "metadata": {
        "colab": {
          "base_uri": "https://localhost:8080/"
        },
        "id": "-vXA0bThdlKc",
        "outputId": "0c908d8d-39d8-41c3-853b-3c8202148fca"
      },
      "source": [
        "type(x_train)"
      ],
      "execution_count": 5,
      "outputs": [
        {
          "output_type": "execute_result",
          "data": {
            "text/plain": [
              "numpy.ndarray"
            ]
          },
          "metadata": {
            "tags": []
          },
          "execution_count": 5
        }
      ]
    },
    {
      "cell_type": "markdown",
      "metadata": {
        "id": "9vn80wOR1Xc2"
      },
      "source": [
        ""
      ]
    },
    {
      "cell_type": "code",
      "metadata": {
        "id": "MV1QTBoT1Qfq"
      },
      "source": [
        "import pandas as pd \n"
      ],
      "execution_count": 37,
      "outputs": []
    },
    {
      "cell_type": "code",
      "metadata": {
        "colab": {
          "base_uri": "https://localhost:8080/"
        },
        "id": "DGSxEF6w1YbG",
        "outputId": "49ed3bdc-df13-4bf1-bdfa-2142af9dab71"
      },
      "source": [
        "df = pd.DataFrame(x_train)\n",
        "df.info()\n"
      ],
      "execution_count": 39,
      "outputs": [
        {
          "output_type": "stream",
          "text": [
            "<class 'pandas.core.frame.DataFrame'>\n",
            "RangeIndex: 404 entries, 0 to 403\n",
            "Data columns (total 13 columns):\n",
            " #   Column  Non-Null Count  Dtype  \n",
            "---  ------  --------------  -----  \n",
            " 0   0       404 non-null    float64\n",
            " 1   1       404 non-null    float64\n",
            " 2   2       404 non-null    float64\n",
            " 3   3       404 non-null    float64\n",
            " 4   4       404 non-null    float64\n",
            " 5   5       404 non-null    float64\n",
            " 6   6       404 non-null    float64\n",
            " 7   7       404 non-null    float64\n",
            " 8   8       404 non-null    float64\n",
            " 9   9       404 non-null    float64\n",
            " 10  10      404 non-null    float64\n",
            " 11  11      404 non-null    float64\n",
            " 12  12      404 non-null    float64\n",
            "dtypes: float64(13)\n",
            "memory usage: 41.2 KB\n"
          ],
          "name": "stdout"
        }
      ]
    },
    {
      "cell_type": "code",
      "metadata": {
        "colab": {
          "base_uri": "https://localhost:8080/",
          "height": 318
        },
        "id": "SHYoWA2a2TUA",
        "outputId": "c13466ba-e4dd-4aaa-9a0b-2426ea594b68"
      },
      "source": [
        "df.describe()"
      ],
      "execution_count": 41,
      "outputs": [
        {
          "output_type": "execute_result",
          "data": {
            "text/html": [
              "<div>\n",
              "<style scoped>\n",
              "    .dataframe tbody tr th:only-of-type {\n",
              "        vertical-align: middle;\n",
              "    }\n",
              "\n",
              "    .dataframe tbody tr th {\n",
              "        vertical-align: top;\n",
              "    }\n",
              "\n",
              "    .dataframe thead th {\n",
              "        text-align: right;\n",
              "    }\n",
              "</style>\n",
              "<table border=\"1\" class=\"dataframe\">\n",
              "  <thead>\n",
              "    <tr style=\"text-align: right;\">\n",
              "      <th></th>\n",
              "      <th>0</th>\n",
              "      <th>1</th>\n",
              "      <th>2</th>\n",
              "      <th>3</th>\n",
              "      <th>4</th>\n",
              "      <th>5</th>\n",
              "      <th>6</th>\n",
              "      <th>7</th>\n",
              "      <th>8</th>\n",
              "      <th>9</th>\n",
              "      <th>10</th>\n",
              "      <th>11</th>\n",
              "      <th>12</th>\n",
              "    </tr>\n",
              "  </thead>\n",
              "  <tbody>\n",
              "    <tr>\n",
              "      <th>count</th>\n",
              "      <td>404.000000</td>\n",
              "      <td>404.000000</td>\n",
              "      <td>404.000000</td>\n",
              "      <td>404.000000</td>\n",
              "      <td>404.000000</td>\n",
              "      <td>404.000000</td>\n",
              "      <td>404.000000</td>\n",
              "      <td>404.000000</td>\n",
              "      <td>404.000000</td>\n",
              "      <td>404.000000</td>\n",
              "      <td>404.000000</td>\n",
              "      <td>404.000000</td>\n",
              "      <td>404.000000</td>\n",
              "    </tr>\n",
              "    <tr>\n",
              "      <th>mean</th>\n",
              "      <td>3.745111</td>\n",
              "      <td>11.480198</td>\n",
              "      <td>11.104431</td>\n",
              "      <td>0.061881</td>\n",
              "      <td>0.557356</td>\n",
              "      <td>6.267082</td>\n",
              "      <td>69.010644</td>\n",
              "      <td>3.740271</td>\n",
              "      <td>9.440594</td>\n",
              "      <td>405.898515</td>\n",
              "      <td>18.475990</td>\n",
              "      <td>354.783168</td>\n",
              "      <td>12.740817</td>\n",
              "    </tr>\n",
              "    <tr>\n",
              "      <th>std</th>\n",
              "      <td>9.240734</td>\n",
              "      <td>23.767711</td>\n",
              "      <td>6.811308</td>\n",
              "      <td>0.241238</td>\n",
              "      <td>0.117293</td>\n",
              "      <td>0.709788</td>\n",
              "      <td>27.940665</td>\n",
              "      <td>2.030215</td>\n",
              "      <td>8.698360</td>\n",
              "      <td>166.374543</td>\n",
              "      <td>2.200382</td>\n",
              "      <td>94.111148</td>\n",
              "      <td>7.254545</td>\n",
              "    </tr>\n",
              "    <tr>\n",
              "      <th>min</th>\n",
              "      <td>0.006320</td>\n",
              "      <td>0.000000</td>\n",
              "      <td>0.460000</td>\n",
              "      <td>0.000000</td>\n",
              "      <td>0.385000</td>\n",
              "      <td>3.561000</td>\n",
              "      <td>2.900000</td>\n",
              "      <td>1.129600</td>\n",
              "      <td>1.000000</td>\n",
              "      <td>188.000000</td>\n",
              "      <td>12.600000</td>\n",
              "      <td>0.320000</td>\n",
              "      <td>1.730000</td>\n",
              "    </tr>\n",
              "    <tr>\n",
              "      <th>25%</th>\n",
              "      <td>0.081437</td>\n",
              "      <td>0.000000</td>\n",
              "      <td>5.130000</td>\n",
              "      <td>0.000000</td>\n",
              "      <td>0.453000</td>\n",
              "      <td>5.874750</td>\n",
              "      <td>45.475000</td>\n",
              "      <td>2.077100</td>\n",
              "      <td>4.000000</td>\n",
              "      <td>279.000000</td>\n",
              "      <td>17.225000</td>\n",
              "      <td>374.672500</td>\n",
              "      <td>6.890000</td>\n",
              "    </tr>\n",
              "    <tr>\n",
              "      <th>50%</th>\n",
              "      <td>0.268880</td>\n",
              "      <td>0.000000</td>\n",
              "      <td>9.690000</td>\n",
              "      <td>0.000000</td>\n",
              "      <td>0.538000</td>\n",
              "      <td>6.198500</td>\n",
              "      <td>78.500000</td>\n",
              "      <td>3.142300</td>\n",
              "      <td>5.000000</td>\n",
              "      <td>330.000000</td>\n",
              "      <td>19.100000</td>\n",
              "      <td>391.250000</td>\n",
              "      <td>11.395000</td>\n",
              "    </tr>\n",
              "    <tr>\n",
              "      <th>75%</th>\n",
              "      <td>3.674808</td>\n",
              "      <td>12.500000</td>\n",
              "      <td>18.100000</td>\n",
              "      <td>0.000000</td>\n",
              "      <td>0.631000</td>\n",
              "      <td>6.609000</td>\n",
              "      <td>94.100000</td>\n",
              "      <td>5.118000</td>\n",
              "      <td>24.000000</td>\n",
              "      <td>666.000000</td>\n",
              "      <td>20.200000</td>\n",
              "      <td>396.157500</td>\n",
              "      <td>17.092500</td>\n",
              "    </tr>\n",
              "    <tr>\n",
              "      <th>max</th>\n",
              "      <td>88.976200</td>\n",
              "      <td>100.000000</td>\n",
              "      <td>27.740000</td>\n",
              "      <td>1.000000</td>\n",
              "      <td>0.871000</td>\n",
              "      <td>8.725000</td>\n",
              "      <td>100.000000</td>\n",
              "      <td>10.710300</td>\n",
              "      <td>24.000000</td>\n",
              "      <td>711.000000</td>\n",
              "      <td>22.000000</td>\n",
              "      <td>396.900000</td>\n",
              "      <td>37.970000</td>\n",
              "    </tr>\n",
              "  </tbody>\n",
              "</table>\n",
              "</div>"
            ],
            "text/plain": [
              "               0           1           2   ...          10          11          12\n",
              "count  404.000000  404.000000  404.000000  ...  404.000000  404.000000  404.000000\n",
              "mean     3.745111   11.480198   11.104431  ...   18.475990  354.783168   12.740817\n",
              "std      9.240734   23.767711    6.811308  ...    2.200382   94.111148    7.254545\n",
              "min      0.006320    0.000000    0.460000  ...   12.600000    0.320000    1.730000\n",
              "25%      0.081437    0.000000    5.130000  ...   17.225000  374.672500    6.890000\n",
              "50%      0.268880    0.000000    9.690000  ...   19.100000  391.250000   11.395000\n",
              "75%      3.674808   12.500000   18.100000  ...   20.200000  396.157500   17.092500\n",
              "max     88.976200  100.000000   27.740000  ...   22.000000  396.900000   37.970000\n",
              "\n",
              "[8 rows x 13 columns]"
            ]
          },
          "metadata": {
            "tags": []
          },
          "execution_count": 41
        }
      ]
    },
    {
      "cell_type": "code",
      "metadata": {
        "colab": {
          "base_uri": "https://localhost:8080/"
        },
        "id": "FebDylsk2jnl",
        "outputId": "4c2681d7-1fe0-4185-b983-39efd7f0f2ef"
      },
      "source": [
        "from sklearn.preprocessing import StandardScaler\n",
        "scaler = StandardScaler()\n",
        "scaler.fit(x_test)\n"
      ],
      "execution_count": 63,
      "outputs": [
        {
          "output_type": "execute_result",
          "data": {
            "text/plain": [
              "StandardScaler(copy=True, with_mean=True, with_std=True)"
            ]
          },
          "metadata": {
            "tags": []
          },
          "execution_count": 63
        }
      ]
    },
    {
      "cell_type": "code",
      "metadata": {
        "id": "q4Cc6hRR284x"
      },
      "source": [
        ""
      ],
      "execution_count": null,
      "outputs": []
    },
    {
      "cell_type": "markdown",
      "metadata": {
        "id": "b32Wohp-yC2v"
      },
      "source": [
        "# model and fit\n"
      ]
    },
    {
      "cell_type": "code",
      "metadata": {
        "id": "F2zPpWAKzODp"
      },
      "source": [
        "model = tf.keras.models.Sequential()"
      ],
      "execution_count": 64,
      "outputs": []
    },
    {
      "cell_type": "code",
      "metadata": {
        "colab": {
          "base_uri": "https://localhost:8080/"
        },
        "id": "SMFQGti5fQQu",
        "outputId": "850c30d1-1a28-459d-e9da-c602f6d7a4e2"
      },
      "source": [
        "\n",
        "model.add(tf.keras.Input(shape=(13)))  # input layer\n",
        "model.add(tf.keras.layers.Dense(64, activation='sigmoid'))# 기능 layer\n",
        "model.add(tf.keras.layers.Dense(64, activation='sigmoid')) # hidden layer\n",
        "model.add(tf.keras.layers.Dense(64, activation='sigmoid')) # hidden layer \n",
        "model.add(tf.keras.layers.Dense(1,))\n",
        "model.compile(optimizer='sgd',loss='mse', metrics=['mae'])\n",
        "\n",
        "\n"
      ],
      "execution_count": 65,
      "outputs": [
        {
          "output_type": "stream",
          "text": [
            "WARNING:tensorflow:Please add `keras.layers.InputLayer` instead of `keras.Input` to Sequential model. `keras.Input` is intended to be used by Functional model.\n"
          ],
          "name": "stdout"
        }
      ]
    },
    {
      "cell_type": "code",
      "metadata": {
        "colab": {
          "base_uri": "https://localhost:8080/",
          "height": 533
        },
        "id": "2D5L8TzaxmKh",
        "outputId": "8caa447f-f2e5-4e0e-95e0-57082e5bef57"
      },
      "source": [
        "tf.keras.utils.plot_model(model, show_shapes=True)\n"
      ],
      "execution_count": 66,
      "outputs": [
        {
          "output_type": "execute_result",
          "data": {
            "image/png": "[encoded data removed]",
            "text/plain": [
              "<IPython.core.display.Image object>"
            ]
          },
          "metadata": {
            "tags": []
          },
          "execution_count": 66
        }
      ]
    },
    {
      "cell_type": "code",
      "metadata": {
        "colab": {
          "base_uri": "https://localhost:8080/"
        },
        "id": "J36-JMIEycJH",
        "outputId": "e6269a15-9d3b-46aa-9008-958298b1348a"
      },
      "source": [
        "model.summary()\n",
        "\n"
      ],
      "execution_count": 67,
      "outputs": [
        {
          "output_type": "stream",
          "text": [
            "Model: \"sequential_5\"\n",
            "_________________________________________________________________\n",
            "Layer (type)                 Output Shape              Param #   \n",
            "=================================================================\n",
            "dense_16 (Dense)             (None, 64)                896       \n",
            "_________________________________________________________________\n",
            "dense_17 (Dense)             (None, 64)                4160      \n",
            "_________________________________________________________________\n",
            "dense_18 (Dense)             (None, 64)                4160      \n",
            "_________________________________________________________________\n",
            "dense_19 (Dense)             (None, 1)                 65        \n",
            "=================================================================\n",
            "Total params: 9,281\n",
            "Trainable params: 9,281\n",
            "Non-trainable params: 0\n",
            "_________________________________________________________________\n"
          ],
          "name": "stdout"
        }
      ]
    },
    {
      "cell_type": "code",
      "metadata": {
        "colab": {
          "base_uri": "https://localhost:8080/"
        },
        "id": "GzXDtt_IzXC6",
        "outputId": "de25571c-d1f4-4fce-d79f-5c219787d80e"
      },
      "source": [
        "model.fit(x_test, y_test, epochs=100)\n"
      ],
      "execution_count": 70,
      "outputs": [
        {
          "output_type": "stream",
          "text": [
            "Epoch 1/100\n",
            "4/4 [==============================] - 0s 4ms/step - loss: 311.6794 - mae: 14.4900\n",
            "Epoch 2/100\n",
            "4/4 [==============================] - 0s 4ms/step - loss: 86.7419 - mae: 6.8684\n",
            "Epoch 3/100\n",
            "4/4 [==============================] - 0s 3ms/step - loss: 83.8982 - mae: 6.5240\n",
            "Epoch 4/100\n",
            "4/4 [==============================] - 0s 4ms/step - loss: 81.6356 - mae: 6.5288\n",
            "Epoch 5/100\n",
            "4/4 [==============================] - 0s 3ms/step - loss: 81.6352 - mae: 6.4497\n",
            "Epoch 6/100\n",
            "4/4 [==============================] - 0s 3ms/step - loss: 86.6494 - mae: 6.6646\n",
            "Epoch 7/100\n",
            "4/4 [==============================] - 0s 3ms/step - loss: 84.9436 - mae: 6.6435\n",
            "Epoch 8/100\n",
            "4/4 [==============================] - 0s 3ms/step - loss: 90.2074 - mae: 7.0527\n",
            "Epoch 9/100\n",
            "4/4 [==============================] - 0s 4ms/step - loss: 80.9634 - mae: 6.9077\n",
            "Epoch 10/100\n",
            "4/4 [==============================] - 0s 3ms/step - loss: 84.1138 - mae: 6.4980\n",
            "Epoch 11/100\n",
            "4/4 [==============================] - 0s 3ms/step - loss: 92.6076 - mae: 7.3081\n",
            "Epoch 12/100\n",
            "4/4 [==============================] - 0s 3ms/step - loss: 104.0759 - mae: 8.2468\n",
            "Epoch 13/100\n",
            "4/4 [==============================] - 0s 4ms/step - loss: 95.8064 - mae: 7.3250\n",
            "Epoch 14/100\n",
            "4/4 [==============================] - 0s 4ms/step - loss: 87.8222 - mae: 6.8335\n",
            "Epoch 15/100\n",
            "4/4 [==============================] - 0s 5ms/step - loss: 84.1114 - mae: 6.5031\n",
            "Epoch 16/100\n",
            "4/4 [==============================] - 0s 4ms/step - loss: 80.4705 - mae: 6.7692\n",
            "Epoch 17/100\n",
            "4/4 [==============================] - 0s 3ms/step - loss: 81.7567 - mae: 6.4932\n",
            "Epoch 18/100\n",
            "4/4 [==============================] - 0s 3ms/step - loss: 82.6772 - mae: 6.5369\n",
            "Epoch 19/100\n",
            "4/4 [==============================] - 0s 4ms/step - loss: 79.1735 - mae: 6.2831\n",
            "Epoch 20/100\n",
            "4/4 [==============================] - 0s 3ms/step - loss: 84.0575 - mae: 6.7421\n",
            "Epoch 21/100\n",
            "4/4 [==============================] - 0s 4ms/step - loss: 79.4004 - mae: 6.4295\n",
            "Epoch 22/100\n",
            "4/4 [==============================] - 0s 5ms/step - loss: 78.5361 - mae: 6.5261\n",
            "Epoch 23/100\n",
            "4/4 [==============================] - 0s 4ms/step - loss: 77.2810 - mae: 6.2319\n",
            "Epoch 24/100\n",
            "4/4 [==============================] - 0s 4ms/step - loss: 76.7929 - mae: 6.3701\n",
            "Epoch 25/100\n",
            "4/4 [==============================] - 0s 4ms/step - loss: 81.2707 - mae: 6.6674\n",
            "Epoch 26/100\n",
            "4/4 [==============================] - 0s 4ms/step - loss: 79.5329 - mae: 6.5675\n",
            "Epoch 27/100\n",
            "4/4 [==============================] - 0s 4ms/step - loss: 80.0501 - mae: 6.3623\n",
            "Epoch 28/100\n",
            "4/4 [==============================] - 0s 4ms/step - loss: 84.0211 - mae: 6.6178\n",
            "Epoch 29/100\n",
            "4/4 [==============================] - 0s 4ms/step - loss: 77.1078 - mae: 6.3894\n",
            "Epoch 30/100\n",
            "4/4 [==============================] - 0s 3ms/step - loss: 77.4760 - mae: 6.5579\n",
            "Epoch 31/100\n",
            "4/4 [==============================] - 0s 3ms/step - loss: 87.3478 - mae: 6.8500\n",
            "Epoch 32/100\n",
            "4/4 [==============================] - 0s 4ms/step - loss: 77.2413 - mae: 6.3654\n",
            "Epoch 33/100\n",
            "4/4 [==============================] - 0s 3ms/step - loss: 78.5414 - mae: 6.4111\n",
            "Epoch 34/100\n",
            "4/4 [==============================] - 0s 5ms/step - loss: 80.0122 - mae: 6.3138\n",
            "Epoch 35/100\n",
            "4/4 [==============================] - 0s 5ms/step - loss: 85.3682 - mae: 7.0458\n",
            "Epoch 36/100\n",
            "4/4 [==============================] - 0s 4ms/step - loss: 73.6192 - mae: 6.2601\n",
            "Epoch 37/100\n",
            "4/4 [==============================] - 0s 5ms/step - loss: 78.4457 - mae: 6.5471\n",
            "Epoch 38/100\n",
            "4/4 [==============================] - 0s 5ms/step - loss: 82.9060 - mae: 7.1307\n",
            "Epoch 39/100\n",
            "4/4 [==============================] - 0s 5ms/step - loss: 81.9877 - mae: 6.5414\n",
            "Epoch 40/100\n",
            "4/4 [==============================] - 0s 4ms/step - loss: 76.6133 - mae: 6.6771\n",
            "Epoch 41/100\n",
            "4/4 [==============================] - 0s 4ms/step - loss: 74.7268 - mae: 6.3217\n",
            "Epoch 42/100\n",
            "4/4 [==============================] - 0s 4ms/step - loss: 78.4715 - mae: 6.8998\n",
            "Epoch 43/100\n",
            "4/4 [==============================] - 0s 5ms/step - loss: 74.7183 - mae: 6.4876\n",
            "Epoch 44/100\n",
            "4/4 [==============================] - 0s 4ms/step - loss: 75.4289 - mae: 6.3129\n",
            "Epoch 45/100\n",
            "4/4 [==============================] - 0s 8ms/step - loss: 73.2939 - mae: 6.2339\n",
            "Epoch 46/100\n",
            "4/4 [==============================] - 0s 5ms/step - loss: 89.3570 - mae: 6.9085\n",
            "Epoch 47/100\n",
            "4/4 [==============================] - 0s 3ms/step - loss: 70.1961 - mae: 6.2884\n",
            "Epoch 48/100\n",
            "4/4 [==============================] - 0s 4ms/step - loss: 66.6567 - mae: 6.2307\n",
            "Epoch 49/100\n",
            "4/4 [==============================] - 0s 3ms/step - loss: 93.2105 - mae: 7.7376\n",
            "Epoch 50/100\n",
            "4/4 [==============================] - 0s 3ms/step - loss: 68.5915 - mae: 6.1883\n",
            "Epoch 51/100\n",
            "4/4 [==============================] - 0s 3ms/step - loss: 66.5555 - mae: 6.1713\n",
            "Epoch 52/100\n",
            "4/4 [==============================] - 0s 3ms/step - loss: 84.3344 - mae: 6.8528\n",
            "Epoch 53/100\n",
            "4/4 [==============================] - 0s 4ms/step - loss: 68.2441 - mae: 6.2229\n",
            "Epoch 54/100\n",
            "4/4 [==============================] - 0s 4ms/step - loss: 68.9572 - mae: 6.2489\n",
            "Epoch 55/100\n",
            "4/4 [==============================] - 0s 4ms/step - loss: 66.6580 - mae: 6.3969\n",
            "Epoch 56/100\n",
            "4/4 [==============================] - 0s 3ms/step - loss: 64.9707 - mae: 6.0295\n",
            "Epoch 57/100\n",
            "4/4 [==============================] - 0s 4ms/step - loss: 98.8136 - mae: 7.7167\n",
            "Epoch 58/100\n",
            "4/4 [==============================] - 0s 5ms/step - loss: 94.7871 - mae: 7.3940\n",
            "Epoch 59/100\n",
            "4/4 [==============================] - 0s 5ms/step - loss: 78.7106 - mae: 6.7938\n",
            "Epoch 60/100\n",
            "4/4 [==============================] - 0s 4ms/step - loss: 65.8120 - mae: 6.0931\n",
            "Epoch 61/100\n",
            "4/4 [==============================] - 0s 3ms/step - loss: 80.0770 - mae: 6.6267\n",
            "Epoch 62/100\n",
            "4/4 [==============================] - 0s 4ms/step - loss: 114.1875 - mae: 8.2725\n",
            "Epoch 63/100\n",
            "4/4 [==============================] - 0s 4ms/step - loss: 66.9648 - mae: 6.0139\n",
            "Epoch 64/100\n",
            "4/4 [==============================] - 0s 4ms/step - loss: 74.3064 - mae: 6.4977\n",
            "Epoch 65/100\n",
            "4/4 [==============================] - 0s 4ms/step - loss: 73.2646 - mae: 6.7863\n",
            "Epoch 66/100\n",
            "4/4 [==============================] - 0s 4ms/step - loss: 73.0161 - mae: 6.3830\n",
            "Epoch 67/100\n",
            "4/4 [==============================] - 0s 5ms/step - loss: 91.7271 - mae: 7.8109\n",
            "Epoch 68/100\n",
            "4/4 [==============================] - 0s 3ms/step - loss: 65.1645 - mae: 6.0417\n",
            "Epoch 69/100\n",
            "4/4 [==============================] - 0s 4ms/step - loss: 67.6936 - mae: 6.1687\n",
            "Epoch 70/100\n",
            "4/4 [==============================] - 0s 3ms/step - loss: 70.6596 - mae: 6.4850\n",
            "Epoch 71/100\n",
            "4/4 [==============================] - 0s 4ms/step - loss: 67.5743 - mae: 6.2206\n",
            "Epoch 72/100\n",
            "4/4 [==============================] - 0s 3ms/step - loss: 70.5436 - mae: 6.1810\n",
            "Epoch 73/100\n",
            "4/4 [==============================] - 0s 4ms/step - loss: 82.7803 - mae: 7.2121\n",
            "Epoch 74/100\n",
            "4/4 [==============================] - 0s 3ms/step - loss: 68.7081 - mae: 6.2923\n",
            "Epoch 75/100\n",
            "4/4 [==============================] - 0s 4ms/step - loss: 77.4896 - mae: 6.4263\n",
            "Epoch 76/100\n",
            "4/4 [==============================] - 0s 4ms/step - loss: 64.8956 - mae: 6.0798\n",
            "Epoch 77/100\n",
            "4/4 [==============================] - 0s 3ms/step - loss: 66.2133 - mae: 6.2749\n",
            "Epoch 78/100\n",
            "4/4 [==============================] - 0s 3ms/step - loss: 65.3042 - mae: 6.1424\n",
            "Epoch 79/100\n",
            "4/4 [==============================] - 0s 3ms/step - loss: 72.4491 - mae: 6.4914\n",
            "Epoch 80/100\n",
            "4/4 [==============================] - 0s 3ms/step - loss: 69.8576 - mae: 6.3146\n",
            "Epoch 81/100\n",
            "4/4 [==============================] - 0s 3ms/step - loss: 70.7546 - mae: 6.2147\n",
            "Epoch 82/100\n",
            "4/4 [==============================] - 0s 3ms/step - loss: 66.6603 - mae: 6.3132\n",
            "Epoch 83/100\n",
            "4/4 [==============================] - 0s 3ms/step - loss: 147.4474 - mae: 9.8330\n",
            "Epoch 84/100\n",
            "4/4 [==============================] - 0s 4ms/step - loss: 77.4821 - mae: 6.7456\n",
            "Epoch 85/100\n",
            "4/4 [==============================] - 0s 3ms/step - loss: 64.3913 - mae: 6.1191\n",
            "Epoch 86/100\n",
            "4/4 [==============================] - 0s 3ms/step - loss: 63.7047 - mae: 6.2494\n",
            "Epoch 87/100\n",
            "4/4 [==============================] - 0s 3ms/step - loss: 66.7506 - mae: 6.2579\n",
            "Epoch 88/100\n",
            "4/4 [==============================] - 0s 4ms/step - loss: 64.7725 - mae: 6.1969\n",
            "Epoch 89/100\n",
            "4/4 [==============================] - 0s 5ms/step - loss: 67.0579 - mae: 6.4148\n",
            "Epoch 90/100\n",
            "4/4 [==============================] - 0s 3ms/step - loss: 64.7331 - mae: 6.3015\n",
            "Epoch 91/100\n",
            "4/4 [==============================] - 0s 4ms/step - loss: 71.3723 - mae: 6.1657\n",
            "Epoch 92/100\n",
            "4/4 [==============================] - 0s 3ms/step - loss: 80.7520 - mae: 6.8320\n",
            "Epoch 93/100\n",
            "4/4 [==============================] - 0s 3ms/step - loss: 73.4125 - mae: 6.1663\n",
            "Epoch 94/100\n",
            "4/4 [==============================] - 0s 3ms/step - loss: 73.3511 - mae: 6.3692\n",
            "Epoch 95/100\n",
            "4/4 [==============================] - 0s 4ms/step - loss: 74.2084 - mae: 6.1823\n",
            "Epoch 96/100\n",
            "4/4 [==============================] - 0s 3ms/step - loss: 95.7554 - mae: 6.9800\n",
            "Epoch 97/100\n",
            "4/4 [==============================] - 0s 4ms/step - loss: 73.7288 - mae: 6.1828\n",
            "Epoch 98/100\n",
            "4/4 [==============================] - 0s 4ms/step - loss: 83.3174 - mae: 6.6378\n",
            "Epoch 99/100\n",
            "4/4 [==============================] - 0s 4ms/step - loss: 71.4124 - mae: 6.2143\n",
            "Epoch 100/100\n",
            "4/4 [==============================] - 0s 4ms/step - loss: 75.2490 - mae: 6.3494\n"
          ],
          "name": "stdout"
        },
        {
          "output_type": "execute_result",
          "data": {
            "text/plain": [
              "<tensorflow.python.keras.callbacks.History at 0x7ff26bc44ed0>"
            ]
          },
          "metadata": {
            "tags": []
          },
          "execution_count": 70
        }
      ]
    },
    {
      "cell_type": "markdown",
      "metadata": {
        "id": "p61S4o10zlAF"
      },
      "source": [
        "# evaluation\n"
      ]
    },
    {
      "cell_type": "code",
      "metadata": {
        "colab": {
          "base_uri": "https://localhost:8080/",
          "height": 336
        },
        "id": "HLTE0qZn0Zs6",
        "outputId": "b11f80de-58c8-4b36-c575-bb262e3cb181"
      },
      "source": [
        "model.evaluate(x_train,y_train)"
      ],
      "execution_count": 59,
      "outputs": [
        {
          "output_type": "error",
          "ename": "ValueError",
          "evalue": "ignored",
          "traceback": [
            "\u001b[0;31m---------------------------------------------------------------------------\u001b[0m",
            "\u001b[0;31mValueError\u001b[0m                                Traceback (most recent call last)",
            "\u001b[0;32m<ipython-input-59-b0c97028c1e1>\u001b[0m in \u001b[0;36m<module>\u001b[0;34m()\u001b[0m\n\u001b[0;32m----> 1\u001b[0;31m \u001b[0mmodel\u001b[0m\u001b[0;34m.\u001b[0m\u001b[0mevaluate\u001b[0m\u001b[0;34m(\u001b[0m\u001b[0mx_train\u001b[0m\u001b[0;34m,\u001b[0m\u001b[0my_train\u001b[0m\u001b[0;34m)\u001b[0m\u001b[0;34m\u001b[0m\u001b[0;34m\u001b[0m\u001b[0m\n\u001b[0m",
            "\u001b[0;32m/usr/local/lib/python3.7/dist-packages/tensorflow/python/keras/engine/training.py\u001b[0m in \u001b[0;36mevaluate\u001b[0;34m(self, x, y, batch_size, verbose, sample_weight, steps, callbacks, max_queue_size, workers, use_multiprocessing, return_dict, **kwargs)\u001b[0m\n\u001b[1;32m   1464\u001b[0m             \u001b[0muse_multiprocessing\u001b[0m\u001b[0;34m=\u001b[0m\u001b[0muse_multiprocessing\u001b[0m\u001b[0;34m,\u001b[0m\u001b[0;34m\u001b[0m\u001b[0;34m\u001b[0m\u001b[0m\n\u001b[1;32m   1465\u001b[0m             \u001b[0mmodel\u001b[0m\u001b[0;34m=\u001b[0m\u001b[0mself\u001b[0m\u001b[0;34m,\u001b[0m\u001b[0;34m\u001b[0m\u001b[0;34m\u001b[0m\u001b[0m\n\u001b[0;32m-> 1466\u001b[0;31m             steps_per_execution=self._steps_per_execution)\n\u001b[0m\u001b[1;32m   1467\u001b[0m \u001b[0;34m\u001b[0m\u001b[0m\n\u001b[1;32m   1468\u001b[0m       \u001b[0;31m# Container that configures and calls `tf.keras.Callback`s.\u001b[0m\u001b[0;34m\u001b[0m\u001b[0;34m\u001b[0m\u001b[0;34m\u001b[0m\u001b[0m\n",
            "\u001b[0;32m/usr/local/lib/python3.7/dist-packages/tensorflow/python/keras/engine/data_adapter.py\u001b[0m in \u001b[0;36mget_data_handler\u001b[0;34m(*args, **kwargs)\u001b[0m\n\u001b[1;32m   1362\u001b[0m   \u001b[0;32mif\u001b[0m \u001b[0mgetattr\u001b[0m\u001b[0;34m(\u001b[0m\u001b[0mkwargs\u001b[0m\u001b[0;34m[\u001b[0m\u001b[0;34m\"model\"\u001b[0m\u001b[0;34m]\u001b[0m\u001b[0;34m,\u001b[0m \u001b[0;34m\"_cluster_coordinator\"\u001b[0m\u001b[0;34m,\u001b[0m \u001b[0;32mNone\u001b[0m\u001b[0;34m)\u001b[0m\u001b[0;34m:\u001b[0m\u001b[0;34m\u001b[0m\u001b[0;34m\u001b[0m\u001b[0m\n\u001b[1;32m   1363\u001b[0m     \u001b[0;32mreturn\u001b[0m \u001b[0m_ClusterCoordinatorDataHandler\u001b[0m\u001b[0;34m(\u001b[0m\u001b[0;34m*\u001b[0m\u001b[0margs\u001b[0m\u001b[0;34m,\u001b[0m \u001b[0;34m**\u001b[0m\u001b[0mkwargs\u001b[0m\u001b[0;34m)\u001b[0m\u001b[0;34m\u001b[0m\u001b[0;34m\u001b[0m\u001b[0m\n\u001b[0;32m-> 1364\u001b[0;31m   \u001b[0;32mreturn\u001b[0m \u001b[0mDataHandler\u001b[0m\u001b[0;34m(\u001b[0m\u001b[0;34m*\u001b[0m\u001b[0margs\u001b[0m\u001b[0;34m,\u001b[0m \u001b[0;34m**\u001b[0m\u001b[0mkwargs\u001b[0m\u001b[0;34m)\u001b[0m\u001b[0;34m\u001b[0m\u001b[0;34m\u001b[0m\u001b[0m\n\u001b[0m\u001b[1;32m   1365\u001b[0m \u001b[0;34m\u001b[0m\u001b[0m\n\u001b[1;32m   1366\u001b[0m \u001b[0;34m\u001b[0m\u001b[0m\n",
            "\u001b[0;32m/usr/local/lib/python3.7/dist-packages/tensorflow/python/keras/engine/data_adapter.py\u001b[0m in \u001b[0;36m__init__\u001b[0;34m(self, x, y, sample_weight, batch_size, steps_per_epoch, initial_epoch, epochs, shuffle, class_weight, max_queue_size, workers, use_multiprocessing, model, steps_per_execution, distribute)\u001b[0m\n\u001b[1;32m   1150\u001b[0m       \u001b[0mself\u001b[0m\u001b[0;34m.\u001b[0m\u001b[0m_steps_per_execution_value\u001b[0m \u001b[0;34m=\u001b[0m \u001b[0msteps_per_execution\u001b[0m\u001b[0;34m.\u001b[0m\u001b[0mnumpy\u001b[0m\u001b[0;34m(\u001b[0m\u001b[0;34m)\u001b[0m\u001b[0;34m.\u001b[0m\u001b[0mitem\u001b[0m\u001b[0;34m(\u001b[0m\u001b[0;34m)\u001b[0m\u001b[0;34m\u001b[0m\u001b[0;34m\u001b[0m\u001b[0m\n\u001b[1;32m   1151\u001b[0m \u001b[0;34m\u001b[0m\u001b[0m\n\u001b[0;32m-> 1152\u001b[0;31m     \u001b[0madapter_cls\u001b[0m \u001b[0;34m=\u001b[0m \u001b[0mselect_data_adapter\u001b[0m\u001b[0;34m(\u001b[0m\u001b[0mx\u001b[0m\u001b[0;34m,\u001b[0m \u001b[0my\u001b[0m\u001b[0;34m)\u001b[0m\u001b[0;34m\u001b[0m\u001b[0;34m\u001b[0m\u001b[0m\n\u001b[0m\u001b[1;32m   1153\u001b[0m     \u001b[0mself\u001b[0m\u001b[0;34m.\u001b[0m\u001b[0m_verify_data_adapter_compatibility\u001b[0m\u001b[0;34m(\u001b[0m\u001b[0madapter_cls\u001b[0m\u001b[0;34m)\u001b[0m\u001b[0;34m\u001b[0m\u001b[0;34m\u001b[0m\u001b[0m\n\u001b[1;32m   1154\u001b[0m     self._adapter = adapter_cls(\n",
            "\u001b[0;32m/usr/local/lib/python3.7/dist-packages/tensorflow/python/keras/engine/data_adapter.py\u001b[0m in \u001b[0;36mselect_data_adapter\u001b[0;34m(x, y)\u001b[0m\n\u001b[1;32m    992\u001b[0m         \u001b[0;34m\"Failed to find data adapter that can handle \"\u001b[0m\u001b[0;34m\u001b[0m\u001b[0;34m\u001b[0m\u001b[0m\n\u001b[1;32m    993\u001b[0m         \"input: {}, {}\".format(\n\u001b[0;32m--> 994\u001b[0;31m             _type_name(x), _type_name(y)))\n\u001b[0m\u001b[1;32m    995\u001b[0m   \u001b[0;32melif\u001b[0m \u001b[0mlen\u001b[0m\u001b[0;34m(\u001b[0m\u001b[0madapter_cls\u001b[0m\u001b[0;34m)\u001b[0m \u001b[0;34m>\u001b[0m \u001b[0;36m1\u001b[0m\u001b[0;34m:\u001b[0m\u001b[0;34m\u001b[0m\u001b[0;34m\u001b[0m\u001b[0m\n\u001b[1;32m    996\u001b[0m     raise RuntimeError(\n",
            "\u001b[0;31mValueError\u001b[0m: Failed to find data adapter that can handle input: <class 'sklearn.preprocessing._data.StandardScaler'>, <class 'numpy.ndarray'>"
          ]
        }
      ]
    },
    {
      "cell_type": "code",
      "metadata": {
        "colab": {
          "base_uri": "https://localhost:8080/",
          "height": 466
        },
        "id": "3zkkxWreqlhh",
        "outputId": "eee72fb4-2eb8-4710-820d-c2d591247816"
      },
      "source": [
        "tf.keras.utils.plot_model(model)"
      ],
      "execution_count": 55,
      "outputs": [
        {
          "output_type": "execute_result",
          "data": {
            "image/png": "[encoded data removed]",
            "text/plain": [
              "<IPython.core.display.Image object>"
            ]
          },
          "metadata": {
            "tags": []
          },
          "execution_count": 55
        }
      ]
    },
    {
      "cell_type": "markdown",
      "metadata": {
        "id": "cmWFbjAg5kzK"
      },
      "source": [
        "# service\n"
      ]
    },
    {
      "cell_type": "code",
      "metadata": {
        "colab": {
          "base_uri": "https://localhost:8080/"
        },
        "id": "yiQCd8gwxqug",
        "outputId": "a8e2cec5-5b59-4c15-ae78-115070649f85"
      },
      "source": [
        "x_test[10]"
      ],
      "execution_count": 61,
      "outputs": [
        {
          "output_type": "execute_result",
          "data": {
            "text/plain": [
              "array([2.2876e-01, 0.0000e+00, 8.5600e+00, 0.0000e+00, 5.2000e-01,\n",
              "       6.4050e+00, 8.5400e+01, 2.7147e+00, 5.0000e+00, 3.8400e+02,\n",
              "       2.0900e+01, 7.0800e+01, 1.0630e+01])"
            ]
          },
          "metadata": {
            "tags": []
          },
          "execution_count": 61
        }
      ]
    },
    {
      "cell_type": "code",
      "metadata": {
        "colab": {
          "base_uri": "https://localhost:8080/"
        },
        "id": "relhNh-Ax5I_",
        "outputId": "51c8ed5c-143d-48bb-dda9-6e9ca82f4f00"
      },
      "source": [
        "y_test"
      ],
      "execution_count": 62,
      "outputs": [
        {
          "output_type": "execute_result",
          "data": {
            "text/plain": [
              "array([ 7.2, 18.8, 19. , 27. , 22.2, 24.5, 31.2, 22.9, 20.5, 23.2, 18.6,\n",
              "       14.5, 17.8, 50. , 20.8, 24.3, 24.2, 19.8, 19.1, 22.7, 12. , 10.2,\n",
              "       20. , 18.5, 20.9, 23. , 27.5, 30.1,  9.5, 22. , 21.2, 14.1, 33.1,\n",
              "       23.4, 20.1,  7.4, 15.4, 23.8, 20.1, 24.5, 33. , 28.4, 14.1, 46.7,\n",
              "       32.5, 29.6, 28.4, 19.8, 20.2, 25. , 35.4, 20.3,  9.7, 14.5, 34.9,\n",
              "       26.6,  7.2, 50. , 32.4, 21.6, 29.8, 13.1, 27.5, 21.2, 23.1, 21.9,\n",
              "       13. , 23.2,  8.1,  5.6, 21.7, 29.6, 19.6,  7. , 26.4, 18.9, 20.9,\n",
              "       28.1, 35.4, 10.2, 24.3, 43.1, 17.6, 15.4, 16.2, 27.1, 21.4, 21.5,\n",
              "       22.4, 25. , 16.6, 18.6, 22. , 42.8, 35.1, 21.5, 36. , 21.9, 24.1,\n",
              "       50. , 26.7, 25. ])"
            ]
          },
          "metadata": {
            "tags": []
          },
          "execution_count": 62
        }
      ]
    },
    {
      "cell_type": "code",
      "metadata": {
        "id": "FLoTyz-550eK"
      },
      "source": [
        ""
      ],
      "execution_count": null,
      "outputs": []
    }
  ]
}