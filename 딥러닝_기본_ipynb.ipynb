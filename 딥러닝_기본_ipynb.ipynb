{
  "nbformat": 4,
  "nbformat_minor": 0,
  "metadata": {
    "colab": {
      "name": "딥러닝 기본. ipynb",
      "provenance": [],
      "collapsed_sections": [],
      "authorship_tag": "ABX9TyO6lA7uki7ET5ftt8Vb0YG1",
      "include_colab_link": true
    },
    "kernelspec": {
      "name": "python3",
      "display_name": "Python 3"
    },
    "language_info": {
      "name": "python"
    }
  },
  "cells": [
    {
      "cell_type": "markdown",
      "metadata": {
        "id": "view-in-github",
        "colab_type": "text"
      },
      "source": [
        "<a href=\"https://colab.research.google.com/github/junanote/test_deeplearning/blob/master/%EB%94%A5%EB%9F%AC%EB%8B%9D_%EA%B8%B0%EB%B3%B8_ipynb.ipynb\" target=\"_parent\"><img src=\"https://colab.research.google.com/assets/colab-badge.svg\" alt=\"Open In Colab\"/></a>"
      ]
    },
    {
      "cell_type": "code",
      "metadata": {
        "id": "xVX_8phsukJA"
      },
      "source": [
        "import tensorflow as tf\n",
        "from tensorflow import keras\n",
        "from tensorflow.keras.preprocessing.text import Tokenizer\n",
        "from tensorflow.keras.preprocessing.sequence import pad_sequences"
      ],
      "execution_count": 21,
      "outputs": []
    },
    {
      "cell_type": "code",
      "metadata": {
        "id": "kwV4fvQMvAsM"
      },
      "source": [
        "sentences = [ \n",
        "             'I love my dog',\n",
        "             'I love my cat'\n",
        "             'You love my dog!'\n",
        "             'Do you think my dog is amazing?'\n",
        "             ]\n"
      ],
      "execution_count": 16,
      "outputs": []
    },
    {
      "cell_type": "code",
      "metadata": {
        "colab": {
          "base_uri": "https://localhost:8080/"
        },
        "id": "eiPlOMcqvtmN",
        "outputId": "b71fbf15-5a9b-4b4e-8dbf-0dd4fc5eab09"
      },
      "source": [
        "tokenizer = Tokenizer(num_words=100)\n",
        "tokenizer.fit_on_texts(sentences)\n",
        "word_index = tokenizer.word_index\n",
        "sequences = tokenizer.texts_to_sequences(sentences)\n",
        "print(word_index)\n",
        "print(sequences)"
      ],
      "execution_count": 18,
      "outputs": [
        {
          "output_type": "stream",
          "text": [
            "{'my': 1, 'love': 2, 'dog': 3, 'i': 4, 'catyou': 5, 'do': 6, 'you': 7, 'think': 8, 'is': 9, 'amazing': 10}\n",
            "[[4, 2, 1, 3], [4, 2, 1, 5, 2, 1, 3, 6, 7, 8, 1, 3, 9, 10]]\n"
          ],
          "name": "stdout"
        }
      ]
    },
    {
      "cell_type": "code",
      "metadata": {
        "colab": {
          "base_uri": "https://localhost:8080/"
        },
        "id": "quFyVqD9vwH6",
        "outputId": "83d2c9b4-b850-47f7-d8bf-8a3d169e7087"
      },
      "source": [
        "test_sentences = [\n",
        "                  'i really love my dog',\n",
        "                  'my dog loves my friend'\n",
        "]\n",
        "test_sequences = tokenizer.texts_to_sequences(test_sentences)\n",
        "print(test_sequences)\n",
        "print(word_index)"
      ],
      "execution_count": 20,
      "outputs": [
        {
          "output_type": "stream",
          "text": [
            "[[4, 2, 1, 3], [1, 3, 1]]\n",
            "{'my': 1, 'love': 2, 'dog': 3, 'i': 4, 'catyou': 5, 'do': 6, 'you': 7, 'think': 8, 'is': 9, 'amazing': 10}\n"
          ],
          "name": "stdout"
        }
      ]
    },
    {
      "cell_type": "code",
      "metadata": {
        "id": "hEGftGBWys2V"
      },
      "source": [
        "sentences = [ \n",
        "             'I love my dog',\n",
        "             'I love my cat',\n",
        "             'You love my dog!',\n",
        "             'Do you think my dog is amazing?'\n",
        "             ]\n"
      ],
      "execution_count": 28,
      "outputs": []
    },
    {
      "cell_type": "code",
      "metadata": {
        "id": "8-NbK5xkzoI_"
      },
      "source": [
        "tokenizer = Tokenizer(num_words=100, oov_token=\"<OOV>\")\n",
        "tokenizer.fit_on_texts(sentences)\n",
        "word_index = tokenizer.word_index"
      ],
      "execution_count": 29,
      "outputs": []
    },
    {
      "cell_type": "code",
      "metadata": {
        "id": "w5jjr3jgz7h1"
      },
      "source": [
        "sequences = tokenizer.texts_to_sequences(sentences)\n",
        "padded = pad_sequences(sequences)           # 가장 긴 시퀀스의 길이로 같게 변환"
      ],
      "execution_count": 30,
      "outputs": []
    },
    {
      "cell_type": "code",
      "metadata": {
        "colab": {
          "base_uri": "https://localhost:8080/"
        },
        "id": "N84FvWjyz8Qt",
        "outputId": "50e605b2-8330-4afe-9bf0-efaa695997c4"
      },
      "source": [
        "print(word_index)\n",
        "print(sequences)\n",
        "print(padded)"
      ],
      "execution_count": 31,
      "outputs": [
        {
          "output_type": "stream",
          "text": [
            "{'<OOV>': 1, 'my': 2, 'love': 3, 'dog': 4, 'i': 5, 'you': 6, 'cat': 7, 'do': 8, 'think': 9, 'is': 10, 'amazing': 11}\n",
            "[[5, 3, 2, 4], [5, 3, 2, 7], [6, 3, 2, 4], [8, 6, 9, 2, 4, 10, 11]]\n",
            "[[ 0  0  0  5  3  2  4]\n",
            " [ 0  0  0  5  3  2  7]\n",
            " [ 0  0  0  6  3  2  4]\n",
            " [ 8  6  9  2  4 10 11]]\n"
          ],
          "name": "stdout"
        }
      ]
    },
    {
      "cell_type": "markdown",
      "metadata": {
        "id": "rRUu7aOF0-wD"
      },
      "source": [
        "# padding, maxlen, truncating 파라미터\n"
      ]
    },
    {
      "cell_type": "code",
      "metadata": {
        "colab": {
          "base_uri": "https://localhost:8080/"
        },
        "id": "fNe_6NNY0Mrs",
        "outputId": "51bc0da7-b6ce-4b9b-b5ae-1d6cc528432a"
      },
      "source": [
        "padded = pad_sequences(sequences, padding='post')  #post로 지정하면 시퀀스의 뒤에 패팅이 채워짐.. 디폴트 'pre'\n",
        "print(padded)"
      ],
      "execution_count": 33,
      "outputs": [
        {
          "output_type": "stream",
          "text": [
            "[[ 5  3  2  4  0  0  0]\n",
            " [ 5  3  2  7  0  0  0]\n",
            " [ 6  3  2  4  0  0  0]\n",
            " [ 8  6  9  2  4 10 11]]\n"
          ],
          "name": "stdout"
        }
      ]
    },
    {
      "cell_type": "code",
      "metadata": {
        "colab": {
          "base_uri": "https://localhost:8080/"
        },
        "id": "vrnRGCJ01xyq",
        "outputId": "a0438e9a-0eaf-4daf-a5f9-c8b9d0765e85"
      },
      "source": [
        "padded = pad_sequences(sequences, padding='pre', maxlen=6)  maxlen은 시퀀스의 최대길이를 제한 - 잘라냄 \n",
        "print(padded)"
      ],
      "execution_count": 34,
      "outputs": [
        {
          "output_type": "stream",
          "text": [
            "[[ 0  0  5  3  2  4]\n",
            " [ 0  0  5  3  2  7]\n",
            " [ 0  0  6  3  2  4]\n",
            " [ 6  9  2  4 10 11]]\n"
          ],
          "name": "stdout"
        }
      ]
    },
    {
      "cell_type": "code",
      "metadata": {
        "colab": {
          "base_uri": "https://localhost:8080/"
        },
        "id": "aVaI_X0P2krK",
        "outputId": "0d74ba3e-6157-458d-c771-4dce1bd51c7c"
      },
      "source": [
        "padded = pad_sequences(sequences, padding='pre', maxlen=6, truncating ='post')  # 최대길이를 넘는 시퀀스를 잘라낼 위치를 지정 \n",
        "print(padded)"
      ],
      "execution_count": 36,
      "outputs": [
        {
          "output_type": "stream",
          "text": [
            "[[ 0  0  5  3  2  4]\n",
            " [ 0  0  5  3  2  7]\n",
            " [ 0  0  6  3  2  4]\n",
            " [ 8  6  9  2  4 10]]\n"
          ],
          "name": "stdout"
        }
      ]
    },
    {
      "cell_type": "code",
      "metadata": {
        "id": "MURcfAAs3BeG"
      },
      "source": [
        ""
      ],
      "execution_count": null,
      "outputs": []
    }
  ]
}