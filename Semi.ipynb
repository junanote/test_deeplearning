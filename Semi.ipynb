{
  "nbformat": 4,
  "nbformat_minor": 0,
  "metadata": {
    "colab": {
      "name": "Semi.ipynb",
      "provenance": [],
      "collapsed_sections": [],
      "authorship_tag": "ABX9TyNj1pALm4btGUVuEaCQ7cJE",
      "include_colab_link": true
    },
    "kernelspec": {
      "name": "python3",
      "display_name": "Python 3"
    },
    "language_info": {
      "name": "python"
    }
  },
  "cells": [
    {
      "cell_type": "markdown",
      "metadata": {
        "id": "view-in-github",
        "colab_type": "text"
      },
      "source": [
        "<a href=\"https://colab.research.google.com/github/junanote/test_deeplearning/blob/master/Semi.ipynb\" target=\"_parent\"><img src=\"https://colab.research.google.com/assets/colab-badge.svg\" alt=\"Open In Colab\"/></a>"
      ]
    },
    {
      "cell_type": "code",
      "metadata": {
        "id": "4Q22Td8pPpcs"
      },
      "source": [
        "import codecs"
      ],
      "execution_count": 92,
      "outputs": []
    },
    {
      "cell_type": "code",
      "metadata": {
        "id": "hudqZWphPtzW"
      },
      "source": [
        "positive= []\n",
        "nagative = []\n",
        "posneg = []"
      ],
      "execution_count": 93,
      "outputs": []
    },
    {
      "cell_type": "code",
      "metadata": {
        "id": "W6Rk4WeHP8mc"
      },
      "source": [
        "pos = codecs.open(\"./positive_words_self.txt\", 'r')\n",
        "positive = pos.readlines()"
      ],
      "execution_count": 94,
      "outputs": []
    },
    {
      "cell_type": "code",
      "metadata": {
        "id": "5xSdcEzQUmag"
      },
      "source": [
        "positive = [pos.replace(\"\\n\",\"\")for pos in positive]"
      ],
      "execution_count": 95,
      "outputs": []
    },
    {
      "cell_type": "code",
      "metadata": {
        "id": "8SBIGqiLT9gB"
      },
      "source": [
        "neg= codecs.open(\"./negative_words_self.txt\", 'r')\n",
        "negative = neg.readlines()"
      ],
      "execution_count": 96,
      "outputs": []
    },
    {
      "cell_type": "code",
      "metadata": {
        "id": "WI8XquUtgy7a"
      },
      "source": [
        "negative = [neg.replace(\"\\n\",\"\")for neg in negative]"
      ],
      "execution_count": 97,
      "outputs": []
    },
    {
      "cell_type": "code",
      "metadata": {
        "id": "_brGz7jKkWaf"
      },
      "source": [
        "import pandas as pd"
      ],
      "execution_count": 98,
      "outputs": []
    },
    {
      "cell_type": "code",
      "metadata": {
        "id": "_n94ykTdkfFL"
      },
      "source": [
        "df = pd.read_excel('./semi.xls', names=['title', 'press', 'category', 'date', 'name', 'text'])\n",
        " "
      ],
      "execution_count": 99,
      "outputs": []
    },
    {
      "cell_type": "code",
      "metadata": {
        "colab": {
          "base_uri": "https://localhost:8080/",
          "height": 631
        },
        "id": "YO0YPUmruDz8",
        "outputId": "6678c6d4-8e2e-49cb-f2d9-a74cf1e4b317"
      },
      "source": [
        "df"
      ],
      "execution_count": 100,
      "outputs": [
        {
          "output_type": "execute_result",
          "data": {
            "text/html": [
              "<div>\n",
              "<style scoped>\n",
              "    .dataframe tbody tr th:only-of-type {\n",
              "        vertical-align: middle;\n",
              "    }\n",
              "\n",
              "    .dataframe tbody tr th {\n",
              "        vertical-align: top;\n",
              "    }\n",
              "\n",
              "    .dataframe thead th {\n",
              "        text-align: right;\n",
              "    }\n",
              "</style>\n",
              "<table border=\"1\" class=\"dataframe\">\n",
              "  <thead>\n",
              "    <tr style=\"text-align: right;\">\n",
              "      <th></th>\n",
              "      <th>title</th>\n",
              "      <th>press</th>\n",
              "      <th>category</th>\n",
              "      <th>date</th>\n",
              "      <th>name</th>\n",
              "      <th>text</th>\n",
              "    </tr>\n",
              "  </thead>\n",
              "  <tbody>\n",
              "    <tr>\n",
              "      <th>0</th>\n",
              "      <td>중국에 대립각 세우는 리투아니아…왜?</td>\n",
              "      <td>경향신문</td>\n",
              "      <td>국제&gt;중국 | 정치&gt;외교 | 국제&gt;유럽_EU</td>\n",
              "      <td>2021/08/11</td>\n",
              "      <td>박은하 기자 eunha999@kyunghyang.com</td>\n",
              "      <td>중국에서 6000km 떨어진 발트해 연안 국가 리투아니아가 ‘대만 문제’를 두고 중...</td>\n",
              "    </tr>\n",
              "    <tr>\n",
              "      <th>1</th>\n",
              "      <td>국민의힘, 계속 옮겨붙는 갈등의 불씨...진화할 수 있을까</td>\n",
              "      <td>경향신문</td>\n",
              "      <td>정치&gt;선거 | 정치&gt;국회_정당</td>\n",
              "      <td>2021/08/11</td>\n",
              "      <td>유정인·박순봉 기자 jeongin@kyunghyang.com</td>\n",
              "      <td>국민의힘 내홍이 깊어지고 있다. 이준석 대표와 윤석열 전 검찰총장 등 ‘투스톤(준스...</td>\n",
              "    </tr>\n",
              "    <tr>\n",
              "      <th>2</th>\n",
              "      <td>[단독] 법관이 직원에게 성경 공부·의전 지시, 법원에서도 ‘직장 갑질’ 논란</td>\n",
              "      <td>경향신문</td>\n",
              "      <td>국제&gt;미국_북미 | 국제&gt;유럽_EU | 사회&gt;여성</td>\n",
              "      <td>2021/08/11</td>\n",
              "      <td>이혜리 기자 lhr@kyunghyang.com</td>\n",
              "      <td>법관에게 직장 내 갑질 및 괴롭힘을 당했다며 도움을 호소하는 법원 직원의 글이 법원...</td>\n",
              "    </tr>\n",
              "    <tr>\n",
              "      <th>3</th>\n",
              "      <td>코로나 확진자수 2000명 돌파에 노심초사 여, 공세 강화하는 야</td>\n",
              "      <td>경향신문</td>\n",
              "      <td>정치&gt;국회_정당 | 정치&gt;청와대</td>\n",
              "      <td>2021/08/11</td>\n",
              "      <td>유설희 기자 sorry@kyunghyang.com</td>\n",
              "      <td>코로나19 신규 확진자가 11일 사상 처음으로 2000명을 돌파하자 여권은 ‘노심초...</td>\n",
              "    </tr>\n",
              "    <tr>\n",
              "      <th>4</th>\n",
              "      <td>류호정 \"피해자 보호 못하는 강간죄 개정 위해 '쇼'라도 하겠다\"</td>\n",
              "      <td>경향신문</td>\n",
              "      <td>정치&gt;행정_자치 | 사회&gt;여성 | 정치&gt;국회_정당</td>\n",
              "      <td>2021/08/11</td>\n",
              "      <td>장은교 소통·젠더데스크 indi@kyunghyang.com</td>\n",
              "      <td>류호정 정의당 의원은 새로운 ‘쇼’를 궁리 중이라고 했다. 이번엔 강간죄 개정을 위...</td>\n",
              "    </tr>\n",
              "    <tr>\n",
              "      <th>...</th>\n",
              "      <td>...</td>\n",
              "      <td>...</td>\n",
              "      <td>...</td>\n",
              "      <td>...</td>\n",
              "      <td>...</td>\n",
              "      <td>...</td>\n",
              "    </tr>\n",
              "    <tr>\n",
              "      <th>94</th>\n",
              "      <td>죽파리 자작나무 숲 인근 ‘송하리 졸참나무와 당숲’ 천연기념물 된다</td>\n",
              "      <td>경향신문</td>\n",
              "      <td>문화&gt;학술_문화재 | 문화&gt;미술_건축 | 지역&gt;강원</td>\n",
              "      <td>2021/08/11</td>\n",
              "      <td>김종목 기자 jomo@kyunghyang.com</td>\n",
              "      <td>문화재청이 ‘영양 송하리 졸참나무와 당숲’을 국가지정문화재 천연기념물로 지정 예고했...</td>\n",
              "    </tr>\n",
              "    <tr>\n",
              "      <th>95</th>\n",
              "      <td>섬유·제지 산업도 탄소중립 움직임···\"폐자원을 에너지로\"</td>\n",
              "      <td>경향신문</td>\n",
              "      <td>경제&gt;반도체 | 지역&gt;강원 | 지역&gt;충남</td>\n",
              "      <td>2021/08/11</td>\n",
              "      <td>강연주 기자 play@kyunghyang.com</td>\n",
              "      <td>정부가 섬유·제지 산업에서 탄소배출량을 줄이는 기술 개발에 투자를 강화한다.산업통상...</td>\n",
              "    </tr>\n",
              "    <tr>\n",
              "      <th>96</th>\n",
              "      <td>현대차·BMW·벤츠 등 35개 차종 2만8946대 리콜</td>\n",
              "      <td>경향신문</td>\n",
              "      <td>경제&gt;자동차 | IT_과학&gt;인터넷_SNS | IT_과학&gt;보안</td>\n",
              "      <td>2021/08/11</td>\n",
              "      <td>김희진 기자 hjin@kyunghyang.com</td>\n",
              "      <td>국토교통부는 현대자동차와 BMW 등 35개 차종 총 2만8946대에서 제작결함이 발...</td>\n",
              "    </tr>\n",
              "    <tr>\n",
              "      <th>97</th>\n",
              "      <td>박용진 \"4차 산업혁명 선도하는 '바이미식스' 대통령 되겠다\"</td>\n",
              "      <td>경향신문</td>\n",
              "      <td>정치&gt;국회_정당 | 정치&gt;선거 | 정치&gt;청와대</td>\n",
              "      <td>2021/08/11</td>\n",
              "      <td>탁지영 기자 g0g0@kyunghyang.com</td>\n",
              "      <td>더불어민주당 대선 경선 후보인 박용진 의원은 11일 “4차 산업혁명 대통령이 되겠다...</td>\n",
              "    </tr>\n",
              "    <tr>\n",
              "      <th>98</th>\n",
              "      <td>이준석 '친윤석열계' 겨냥 \"권력욕 부추기는 하이에나\"..정진석 \"참 딱하다\"</td>\n",
              "      <td>경향신문</td>\n",
              "      <td>정치&gt;국회_정당 | 정치&gt;선거</td>\n",
              "      <td>2021/08/11</td>\n",
              "      <td>유정인 기자 jeongin@kyunghyang.com</td>\n",
              "      <td>이준석 국민의힘 대표는 11일 “우리 후보들 곁에 권력욕을 부추기는 하이에나가 아니...</td>\n",
              "    </tr>\n",
              "  </tbody>\n",
              "</table>\n",
              "<p>99 rows × 6 columns</p>\n",
              "</div>"
            ],
            "text/plain": [
              "                                          title  ...                                               text\n",
              "0                          중국에 대립각 세우는 리투아니아…왜?  ...  중국에서 6000km 떨어진 발트해 연안 국가 리투아니아가 ‘대만 문제’를 두고 중...\n",
              "1              국민의힘, 계속 옮겨붙는 갈등의 불씨...진화할 수 있을까  ...  국민의힘 내홍이 깊어지고 있다. 이준석 대표와 윤석열 전 검찰총장 등 ‘투스톤(준스...\n",
              "2   [단독] 법관이 직원에게 성경 공부·의전 지시, 법원에서도 ‘직장 갑질’ 논란  ...  법관에게 직장 내 갑질 및 괴롭힘을 당했다며 도움을 호소하는 법원 직원의 글이 법원...\n",
              "3          코로나 확진자수 2000명 돌파에 노심초사 여, 공세 강화하는 야  ...  코로나19 신규 확진자가 11일 사상 처음으로 2000명을 돌파하자 여권은 ‘노심초...\n",
              "4          류호정 \"피해자 보호 못하는 강간죄 개정 위해 '쇼'라도 하겠다\"  ...  류호정 정의당 의원은 새로운 ‘쇼’를 궁리 중이라고 했다. 이번엔 강간죄 개정을 위...\n",
              "..                                          ...  ...                                                ...\n",
              "94        죽파리 자작나무 숲 인근 ‘송하리 졸참나무와 당숲’ 천연기념물 된다  ...  문화재청이 ‘영양 송하리 졸참나무와 당숲’을 국가지정문화재 천연기념물로 지정 예고했...\n",
              "95             섬유·제지 산업도 탄소중립 움직임···\"폐자원을 에너지로\"  ...  정부가 섬유·제지 산업에서 탄소배출량을 줄이는 기술 개발에 투자를 강화한다.산업통상...\n",
              "96               현대차·BMW·벤츠 등 35개 차종 2만8946대 리콜  ...  국토교통부는 현대자동차와 BMW 등 35개 차종 총 2만8946대에서 제작결함이 발...\n",
              "97           박용진 \"4차 산업혁명 선도하는 '바이미식스' 대통령 되겠다\"  ...  더불어민주당 대선 경선 후보인 박용진 의원은 11일 “4차 산업혁명 대통령이 되겠다...\n",
              "98  이준석 '친윤석열계' 겨냥 \"권력욕 부추기는 하이에나\"..정진석 \"참 딱하다\"  ...  이준석 국민의힘 대표는 11일 “우리 후보들 곁에 권력욕을 부추기는 하이에나가 아니...\n",
              "\n",
              "[99 rows x 6 columns]"
            ]
          },
          "metadata": {
            "tags": []
          },
          "execution_count": 100
        }
      ]
    },
    {
      "cell_type": "code",
      "metadata": {
        "colab": {
          "base_uri": "https://localhost:8080/",
          "height": 293
        },
        "id": "B440XcotlHrW",
        "outputId": "03afbc99-d842-4c56-ac7f-e0f670fca36f"
      },
      "source": [
        "df.head(5) # title, press, category, date, name, text"
      ],
      "execution_count": 101,
      "outputs": [
        {
          "output_type": "execute_result",
          "data": {
            "text/html": [
              "<div>\n",
              "<style scoped>\n",
              "    .dataframe tbody tr th:only-of-type {\n",
              "        vertical-align: middle;\n",
              "    }\n",
              "\n",
              "    .dataframe tbody tr th {\n",
              "        vertical-align: top;\n",
              "    }\n",
              "\n",
              "    .dataframe thead th {\n",
              "        text-align: right;\n",
              "    }\n",
              "</style>\n",
              "<table border=\"1\" class=\"dataframe\">\n",
              "  <thead>\n",
              "    <tr style=\"text-align: right;\">\n",
              "      <th></th>\n",
              "      <th>title</th>\n",
              "      <th>press</th>\n",
              "      <th>category</th>\n",
              "      <th>date</th>\n",
              "      <th>name</th>\n",
              "      <th>text</th>\n",
              "    </tr>\n",
              "  </thead>\n",
              "  <tbody>\n",
              "    <tr>\n",
              "      <th>0</th>\n",
              "      <td>중국에 대립각 세우는 리투아니아…왜?</td>\n",
              "      <td>경향신문</td>\n",
              "      <td>국제&gt;중국 | 정치&gt;외교 | 국제&gt;유럽_EU</td>\n",
              "      <td>2021/08/11</td>\n",
              "      <td>박은하 기자 eunha999@kyunghyang.com</td>\n",
              "      <td>중국에서 6000km 떨어진 발트해 연안 국가 리투아니아가 ‘대만 문제’를 두고 중...</td>\n",
              "    </tr>\n",
              "    <tr>\n",
              "      <th>1</th>\n",
              "      <td>국민의힘, 계속 옮겨붙는 갈등의 불씨...진화할 수 있을까</td>\n",
              "      <td>경향신문</td>\n",
              "      <td>정치&gt;선거 | 정치&gt;국회_정당</td>\n",
              "      <td>2021/08/11</td>\n",
              "      <td>유정인·박순봉 기자 jeongin@kyunghyang.com</td>\n",
              "      <td>국민의힘 내홍이 깊어지고 있다. 이준석 대표와 윤석열 전 검찰총장 등 ‘투스톤(준스...</td>\n",
              "    </tr>\n",
              "    <tr>\n",
              "      <th>2</th>\n",
              "      <td>[단독] 법관이 직원에게 성경 공부·의전 지시, 법원에서도 ‘직장 갑질’ 논란</td>\n",
              "      <td>경향신문</td>\n",
              "      <td>국제&gt;미국_북미 | 국제&gt;유럽_EU | 사회&gt;여성</td>\n",
              "      <td>2021/08/11</td>\n",
              "      <td>이혜리 기자 lhr@kyunghyang.com</td>\n",
              "      <td>법관에게 직장 내 갑질 및 괴롭힘을 당했다며 도움을 호소하는 법원 직원의 글이 법원...</td>\n",
              "    </tr>\n",
              "    <tr>\n",
              "      <th>3</th>\n",
              "      <td>코로나 확진자수 2000명 돌파에 노심초사 여, 공세 강화하는 야</td>\n",
              "      <td>경향신문</td>\n",
              "      <td>정치&gt;국회_정당 | 정치&gt;청와대</td>\n",
              "      <td>2021/08/11</td>\n",
              "      <td>유설희 기자 sorry@kyunghyang.com</td>\n",
              "      <td>코로나19 신규 확진자가 11일 사상 처음으로 2000명을 돌파하자 여권은 ‘노심초...</td>\n",
              "    </tr>\n",
              "    <tr>\n",
              "      <th>4</th>\n",
              "      <td>류호정 \"피해자 보호 못하는 강간죄 개정 위해 '쇼'라도 하겠다\"</td>\n",
              "      <td>경향신문</td>\n",
              "      <td>정치&gt;행정_자치 | 사회&gt;여성 | 정치&gt;국회_정당</td>\n",
              "      <td>2021/08/11</td>\n",
              "      <td>장은교 소통·젠더데스크 indi@kyunghyang.com</td>\n",
              "      <td>류호정 정의당 의원은 새로운 ‘쇼’를 궁리 중이라고 했다. 이번엔 강간죄 개정을 위...</td>\n",
              "    </tr>\n",
              "  </tbody>\n",
              "</table>\n",
              "</div>"
            ],
            "text/plain": [
              "                                         title  ...                                               text\n",
              "0                         중국에 대립각 세우는 리투아니아…왜?  ...  중국에서 6000km 떨어진 발트해 연안 국가 리투아니아가 ‘대만 문제’를 두고 중...\n",
              "1             국민의힘, 계속 옮겨붙는 갈등의 불씨...진화할 수 있을까  ...  국민의힘 내홍이 깊어지고 있다. 이준석 대표와 윤석열 전 검찰총장 등 ‘투스톤(준스...\n",
              "2  [단독] 법관이 직원에게 성경 공부·의전 지시, 법원에서도 ‘직장 갑질’ 논란  ...  법관에게 직장 내 갑질 및 괴롭힘을 당했다며 도움을 호소하는 법원 직원의 글이 법원...\n",
              "3         코로나 확진자수 2000명 돌파에 노심초사 여, 공세 강화하는 야  ...  코로나19 신규 확진자가 11일 사상 처음으로 2000명을 돌파하자 여권은 ‘노심초...\n",
              "4         류호정 \"피해자 보호 못하는 강간죄 개정 위해 '쇼'라도 하겠다\"  ...  류호정 정의당 의원은 새로운 ‘쇼’를 궁리 중이라고 했다. 이번엔 강간죄 개정을 위...\n",
              "\n",
              "[5 rows x 6 columns]"
            ]
          },
          "metadata": {
            "tags": []
          },
          "execution_count": 101
        }
      ]
    },
    {
      "cell_type": "code",
      "metadata": {
        "colab": {
          "base_uri": "https://localhost:8080/"
        },
        "id": "QajdfoI_mTcS",
        "outputId": "9eeb2fe7-0ba7-4f6f-ee20-aab33cc20a8a"
      },
      "source": [
        "df.shape"
      ],
      "execution_count": 102,
      "outputs": [
        {
          "output_type": "execute_result",
          "data": {
            "text/plain": [
              "(99, 6)"
            ]
          },
          "metadata": {
            "tags": []
          },
          "execution_count": 102
        }
      ]
    },
    {
      "cell_type": "code",
      "metadata": {
        "colab": {
          "base_uri": "https://localhost:8080/"
        },
        "id": "33qnCFZRx0--",
        "outputId": "01eba00e-6d95-4cb2-d738-2a30f2d53fbf"
      },
      "source": [
        "df.columns"
      ],
      "execution_count": 103,
      "outputs": [
        {
          "output_type": "execute_result",
          "data": {
            "text/plain": [
              "Index(['title', 'press', 'category', 'date', 'name', 'text'], dtype='object')"
            ]
          },
          "metadata": {
            "tags": []
          },
          "execution_count": 103
        }
      ]
    },
    {
      "cell_type": "code",
      "metadata": {
        "colab": {
          "base_uri": "https://localhost:8080/",
          "height": 683
        },
        "id": "CQZEsTJcx-5i",
        "outputId": "5e5a6865-66f9-4775-e65b-159098ec6621"
      },
      "source": [
        "pd.DataFrame(df).iloc[1:]"
      ],
      "execution_count": 105,
      "outputs": [
        {
          "output_type": "execute_result",
          "data": {
            "text/html": [
              "<div>\n",
              "<style scoped>\n",
              "    .dataframe tbody tr th:only-of-type {\n",
              "        vertical-align: middle;\n",
              "    }\n",
              "\n",
              "    .dataframe tbody tr th {\n",
              "        vertical-align: top;\n",
              "    }\n",
              "\n",
              "    .dataframe thead th {\n",
              "        text-align: right;\n",
              "    }\n",
              "</style>\n",
              "<table border=\"1\" class=\"dataframe\">\n",
              "  <thead>\n",
              "    <tr style=\"text-align: right;\">\n",
              "      <th></th>\n",
              "      <th>title</th>\n",
              "      <th>press</th>\n",
              "      <th>category</th>\n",
              "      <th>date</th>\n",
              "      <th>name</th>\n",
              "      <th>text</th>\n",
              "    </tr>\n",
              "  </thead>\n",
              "  <tbody>\n",
              "    <tr>\n",
              "      <th>1</th>\n",
              "      <td>국민의힘, 계속 옮겨붙는 갈등의 불씨...진화할 수 있을까</td>\n",
              "      <td>경향신문</td>\n",
              "      <td>정치&gt;선거 | 정치&gt;국회_정당</td>\n",
              "      <td>2021/08/11</td>\n",
              "      <td>유정인·박순봉 기자 jeongin@kyunghyang.com</td>\n",
              "      <td>국민의힘 내홍이 깊어지고 있다. 이준석 대표와 윤석열 전 검찰총장 등 ‘투스톤(준스...</td>\n",
              "    </tr>\n",
              "    <tr>\n",
              "      <th>2</th>\n",
              "      <td>[단독] 법관이 직원에게 성경 공부·의전 지시, 법원에서도 ‘직장 갑질’ 논란</td>\n",
              "      <td>경향신문</td>\n",
              "      <td>국제&gt;미국_북미 | 국제&gt;유럽_EU | 사회&gt;여성</td>\n",
              "      <td>2021/08/11</td>\n",
              "      <td>이혜리 기자 lhr@kyunghyang.com</td>\n",
              "      <td>법관에게 직장 내 갑질 및 괴롭힘을 당했다며 도움을 호소하는 법원 직원의 글이 법원...</td>\n",
              "    </tr>\n",
              "    <tr>\n",
              "      <th>3</th>\n",
              "      <td>코로나 확진자수 2000명 돌파에 노심초사 여, 공세 강화하는 야</td>\n",
              "      <td>경향신문</td>\n",
              "      <td>정치&gt;국회_정당 | 정치&gt;청와대</td>\n",
              "      <td>2021/08/11</td>\n",
              "      <td>유설희 기자 sorry@kyunghyang.com</td>\n",
              "      <td>코로나19 신규 확진자가 11일 사상 처음으로 2000명을 돌파하자 여권은 ‘노심초...</td>\n",
              "    </tr>\n",
              "    <tr>\n",
              "      <th>4</th>\n",
              "      <td>류호정 \"피해자 보호 못하는 강간죄 개정 위해 '쇼'라도 하겠다\"</td>\n",
              "      <td>경향신문</td>\n",
              "      <td>정치&gt;행정_자치 | 사회&gt;여성 | 정치&gt;국회_정당</td>\n",
              "      <td>2021/08/11</td>\n",
              "      <td>장은교 소통·젠더데스크 indi@kyunghyang.com</td>\n",
              "      <td>류호정 정의당 의원은 새로운 ‘쇼’를 궁리 중이라고 했다. 이번엔 강간죄 개정을 위...</td>\n",
              "    </tr>\n",
              "    <tr>\n",
              "      <th>5</th>\n",
              "      <td>[뉴스분석]현실화된 정은경의 예언···확진자 2223명이 정점은 아니다</td>\n",
              "      <td>경향신문</td>\n",
              "      <td>사회&gt;의료_건강</td>\n",
              "      <td>2021/08/11</td>\n",
              "      <td>노도현·김향미·이혜리 기자 hyunee@kyunghyang.com</td>\n",
              "      <td>코로나19 하루 신규 확진자가 2200명을 넘어서며 새로운 국면을 맞고 있다. 20...</td>\n",
              "    </tr>\n",
              "    <tr>\n",
              "      <th>...</th>\n",
              "      <td>...</td>\n",
              "      <td>...</td>\n",
              "      <td>...</td>\n",
              "      <td>...</td>\n",
              "      <td>...</td>\n",
              "      <td>...</td>\n",
              "    </tr>\n",
              "    <tr>\n",
              "      <th>94</th>\n",
              "      <td>죽파리 자작나무 숲 인근 ‘송하리 졸참나무와 당숲’ 천연기념물 된다</td>\n",
              "      <td>경향신문</td>\n",
              "      <td>문화&gt;학술_문화재 | 문화&gt;미술_건축 | 지역&gt;강원</td>\n",
              "      <td>2021/08/11</td>\n",
              "      <td>김종목 기자 jomo@kyunghyang.com</td>\n",
              "      <td>문화재청이 ‘영양 송하리 졸참나무와 당숲’을 국가지정문화재 천연기념물로 지정 예고했...</td>\n",
              "    </tr>\n",
              "    <tr>\n",
              "      <th>95</th>\n",
              "      <td>섬유·제지 산업도 탄소중립 움직임···\"폐자원을 에너지로\"</td>\n",
              "      <td>경향신문</td>\n",
              "      <td>경제&gt;반도체 | 지역&gt;강원 | 지역&gt;충남</td>\n",
              "      <td>2021/08/11</td>\n",
              "      <td>강연주 기자 play@kyunghyang.com</td>\n",
              "      <td>정부가 섬유·제지 산업에서 탄소배출량을 줄이는 기술 개발에 투자를 강화한다.산업통상...</td>\n",
              "    </tr>\n",
              "    <tr>\n",
              "      <th>96</th>\n",
              "      <td>현대차·BMW·벤츠 등 35개 차종 2만8946대 리콜</td>\n",
              "      <td>경향신문</td>\n",
              "      <td>경제&gt;자동차 | IT_과학&gt;인터넷_SNS | IT_과학&gt;보안</td>\n",
              "      <td>2021/08/11</td>\n",
              "      <td>김희진 기자 hjin@kyunghyang.com</td>\n",
              "      <td>국토교통부는 현대자동차와 BMW 등 35개 차종 총 2만8946대에서 제작결함이 발...</td>\n",
              "    </tr>\n",
              "    <tr>\n",
              "      <th>97</th>\n",
              "      <td>박용진 \"4차 산업혁명 선도하는 '바이미식스' 대통령 되겠다\"</td>\n",
              "      <td>경향신문</td>\n",
              "      <td>정치&gt;국회_정당 | 정치&gt;선거 | 정치&gt;청와대</td>\n",
              "      <td>2021/08/11</td>\n",
              "      <td>탁지영 기자 g0g0@kyunghyang.com</td>\n",
              "      <td>더불어민주당 대선 경선 후보인 박용진 의원은 11일 “4차 산업혁명 대통령이 되겠다...</td>\n",
              "    </tr>\n",
              "    <tr>\n",
              "      <th>98</th>\n",
              "      <td>이준석 '친윤석열계' 겨냥 \"권력욕 부추기는 하이에나\"..정진석 \"참 딱하다\"</td>\n",
              "      <td>경향신문</td>\n",
              "      <td>정치&gt;국회_정당 | 정치&gt;선거</td>\n",
              "      <td>2021/08/11</td>\n",
              "      <td>유정인 기자 jeongin@kyunghyang.com</td>\n",
              "      <td>이준석 국민의힘 대표는 11일 “우리 후보들 곁에 권력욕을 부추기는 하이에나가 아니...</td>\n",
              "    </tr>\n",
              "  </tbody>\n",
              "</table>\n",
              "<p>98 rows × 6 columns</p>\n",
              "</div>"
            ],
            "text/plain": [
              "                                          title  ...                                               text\n",
              "1              국민의힘, 계속 옮겨붙는 갈등의 불씨...진화할 수 있을까  ...  국민의힘 내홍이 깊어지고 있다. 이준석 대표와 윤석열 전 검찰총장 등 ‘투스톤(준스...\n",
              "2   [단독] 법관이 직원에게 성경 공부·의전 지시, 법원에서도 ‘직장 갑질’ 논란  ...  법관에게 직장 내 갑질 및 괴롭힘을 당했다며 도움을 호소하는 법원 직원의 글이 법원...\n",
              "3          코로나 확진자수 2000명 돌파에 노심초사 여, 공세 강화하는 야  ...  코로나19 신규 확진자가 11일 사상 처음으로 2000명을 돌파하자 여권은 ‘노심초...\n",
              "4          류호정 \"피해자 보호 못하는 강간죄 개정 위해 '쇼'라도 하겠다\"  ...  류호정 정의당 의원은 새로운 ‘쇼’를 궁리 중이라고 했다. 이번엔 강간죄 개정을 위...\n",
              "5       [뉴스분석]현실화된 정은경의 예언···확진자 2223명이 정점은 아니다  ...  코로나19 하루 신규 확진자가 2200명을 넘어서며 새로운 국면을 맞고 있다. 20...\n",
              "..                                          ...  ...                                                ...\n",
              "94        죽파리 자작나무 숲 인근 ‘송하리 졸참나무와 당숲’ 천연기념물 된다  ...  문화재청이 ‘영양 송하리 졸참나무와 당숲’을 국가지정문화재 천연기념물로 지정 예고했...\n",
              "95             섬유·제지 산업도 탄소중립 움직임···\"폐자원을 에너지로\"  ...  정부가 섬유·제지 산업에서 탄소배출량을 줄이는 기술 개발에 투자를 강화한다.산업통상...\n",
              "96               현대차·BMW·벤츠 등 35개 차종 2만8946대 리콜  ...  국토교통부는 현대자동차와 BMW 등 35개 차종 총 2만8946대에서 제작결함이 발...\n",
              "97           박용진 \"4차 산업혁명 선도하는 '바이미식스' 대통령 되겠다\"  ...  더불어민주당 대선 경선 후보인 박용진 의원은 11일 “4차 산업혁명 대통령이 되겠다...\n",
              "98  이준석 '친윤석열계' 겨냥 \"권력욕 부추기는 하이에나\"..정진석 \"참 딱하다\"  ...  이준석 국민의힘 대표는 11일 “우리 후보들 곁에 권력욕을 부추기는 하이에나가 아니...\n",
              "\n",
              "[98 rows x 6 columns]"
            ]
          },
          "metadata": {
            "tags": []
          },
          "execution_count": 105
        }
      ]
    },
    {
      "cell_type": "code",
      "metadata": {
        "id": "QBgjSnhy06Fv"
      },
      "source": [
        ""
      ],
      "execution_count": 104,
      "outputs": []
    }
  ]
}