{
  "nbformat": 4,
  "nbformat_minor": 0,
  "metadata": {
    "colab": {
      "name": "mnist_classification",
      "provenance": [],
      "collapsed_sections": [],
      "authorship_tag": "ABX9TyNMUBfoeHBBXSq2DSOekC/D",
      "include_colab_link": true
    },
    "kernelspec": {
      "name": "python3",
      "display_name": "Python 3"
    },
    "language_info": {
      "name": "python"
    }
  },
  "cells": [
    {
      "cell_type": "markdown",
      "metadata": {
        "id": "view-in-github",
        "colab_type": "text"
      },
      "source": [
        "<a href=\"https://colab.research.google.com/github/junanote/test_deeplearning/blob/master/mnist_classification.ipynb\" target=\"_parent\"><img src=\"https://colab.research.google.com/assets/colab-badge.svg\" alt=\"Open In Colab\"/></a>"
      ]
    },
    {
      "cell_type": "code",
      "metadata": {
        "id": "EWRB1Hi3lu_G"
      },
      "source": [
        "from tensorflow.keras.datasets.mnist import load_data"
      ],
      "execution_count": 30,
      "outputs": []
    },
    {
      "cell_type": "code",
      "metadata": {
        "colab": {
          "base_uri": "https://localhost:8080/"
        },
        "id": "19w9n6jgmwJa",
        "outputId": "b33fab49-1582-480e-ccbd-a1ac2c03fed0"
      },
      "source": [
        "(x_train, y_train), (x_test, y_test) = load_data(path='mnist,npz')\n",
        "x_train.shape, y_train.shape, x_test.shape, y_test.shape"
      ],
      "execution_count": 31,
      "outputs": [
        {
          "output_type": "execute_result",
          "data": {
            "text/plain": [
              "((60000, 28, 28), (60000,), (10000, 28, 28), (10000,))"
            ]
          },
          "metadata": {
            "tags": []
          },
          "execution_count": 31
        }
      ]
    },
    {
      "cell_type": "code",
      "metadata": {
        "colab": {
          "base_uri": "https://localhost:8080/"
        },
        "id": "HEVn8KZusMyM",
        "outputId": "a8aa9cad-a43a-4df7-80ce-67dea2ad3ca5"
      },
      "source": [
        "y_train[4], x_train[4],\n",
        "y_train[50000], x_train[50000]"
      ],
      "execution_count": 32,
      "outputs": [
        {
          "output_type": "execute_result",
          "data": {
            "text/plain": [
              "(3, array([[  0,   0,   0,   0,   0,   0,   0,   0,   0,   0,   0,   0,   0,\n",
              "           0,   0,   0,   0,   0,   0,   0,   0,   0,   0,   0,   0,   0,\n",
              "           0,   0],\n",
              "        [  0,   0,   0,   0,   0,   0,   0,   0,   0,   0,   0,   0,   0,\n",
              "           0,   0,   0,   0,   0,   0,   0,   0,   0,   0,   0,   0,   0,\n",
              "           0,   0],\n",
              "        [  0,   0,   0,   0,   0,   0,   0,   0,   0,   0,   0,   0,   0,\n",
              "           0,   0,   0,   0,   0,   0,   0,   0,   0,   0,   0,   0,   0,\n",
              "           0,   0],\n",
              "        [  0,   0,   0,   0,   0,   0,   0,   0,   0,   0,   0,   0,   0,\n",
              "           0,   0,   0,   0,   0,   0,   0,   0,   0,   0,   0,   0,   0,\n",
              "           0,   0],\n",
              "        [  0,   0,   0,   0,   0,   0,   0,   0,   0,   0,  47, 160, 195,\n",
              "         205,  71,  86,  13,   0,   0,   0,   0,   0,   0,   0,   0,   0,\n",
              "           0,   0],\n",
              "        [  0,   0,   0,   0,   0,   0,   0,   0,   0,  12, 238, 254, 254,\n",
              "         254, 254, 254, 227,  84,   0,   0,   0,   0,   0,   0,   0,   0,\n",
              "           0,   0],\n",
              "        [  0,   0,   0,   0,   0,   0,   0,   0,   0,  13, 196, 176, 127,\n",
              "         176, 207, 236, 245, 222,  23,   0,   0,   0,   0,   0,   0,   0,\n",
              "           0,   0],\n",
              "        [  0,   0,   0,   0,   0,   0,   0,   0,   0,   0,   0,   0,   0,\n",
              "           0,   0,  20, 137, 254,  95,   0,   0,   0,   0,   0,   0,   0,\n",
              "           0,   0],\n",
              "        [  0,   0,   0,   0,   0,   0,   0,   0,   0,   0,   0,   0,   0,\n",
              "           0,   0,   0,  78, 254, 144,   0,   0,   0,   0,   0,   0,   0,\n",
              "           0,   0],\n",
              "        [  0,   0,   0,   0,   0,   0,   0,   0,   0,   0,   0,   0,   0,\n",
              "           0,   0,  17, 200, 254, 170,   0,   0,   0,   0,   0,   0,   0,\n",
              "           0,   0],\n",
              "        [  0,   0,   0,   0,   0,   0,   0,   0,   0,   0,   0,   0,   0,\n",
              "           0,  47, 218, 254, 216,  29,   0,   0,   0,   0,   0,   0,   0,\n",
              "           0,   0],\n",
              "        [  0,   0,   0,   0,   0,   0,   0,   0,   0,   0,   0,   0,   0,\n",
              "          95, 225, 254, 245,  65,   0,   0,   0,   0,   0,   0,   0,   0,\n",
              "           0,   0],\n",
              "        [  0,   0,   0,   0,   0,   0,   0,   0,   0,   0,   0,  12, 128,\n",
              "         252, 254, 236,  40,   0,   0,   0,   0,   0,   0,   0,   0,   0,\n",
              "           0,   0],\n",
              "        [  0,   0,   0,   0,   0,   0,   0,   0,   0,   0,   0, 172, 254,\n",
              "         254, 170,  58,   0,   0,   0,   0,   0,   0,   0,   0,   0,   0,\n",
              "           0,   0],\n",
              "        [  0,   0,   0,   0,   0,   0,   0,   0,   0,   0,   0, 207, 254,\n",
              "         254,  65,   0,   0,   0,   0,   0,   0,   0,   0,   0,   0,   0,\n",
              "           0,   0],\n",
              "        [  0,   0,   0,   0,   0,   0,   0,   0,   0,   0,   0, 137, 254,\n",
              "         254, 251, 146,  26,   0,   0,   0,   0,   0,   0,   0,   0,   0,\n",
              "           0,   0],\n",
              "        [  0,   0,   0,   0,   0,   0,   0,   0,   0,   0,   0,   9, 173,\n",
              "         224, 254, 254, 230,  71,   0,   0,   0,   0,   0,   0,   0,   0,\n",
              "           0,   0],\n",
              "        [  0,   0,   0,   0,   0,   0,   0,   0,   0,   0,   0,   0,   8,\n",
              "          12, 254, 254, 254, 246, 104,   0,   0,   0,   0,   0,   0,   0,\n",
              "           0,   0],\n",
              "        [  0,   0,   0,   0,   0,   0,   0,   0,   0,   0,   0,   0,   0,\n",
              "           0,  46, 189, 254, 254, 224,   0,   0,   0,   0,   0,   0,   0,\n",
              "           0,   0],\n",
              "        [  0,   0,   0,   0,   0,   0,   0,   0,   0,  10,   0,   0,   0,\n",
              "           0,   0,  17, 175, 254, 254,  25,   0,   0,   0,   0,   0,   0,\n",
              "           0,   0],\n",
              "        [  0,   0,   0,   0,   0,   0,   0,   0,  35, 231, 156, 112,  87,\n",
              "         186, 191, 218, 254, 254, 219,   0,   0,   0,   0,   0,   0,   0,\n",
              "           0,   0],\n",
              "        [  0,   0,   0,   0,   0,   0,   0,   0, 120, 255, 254, 254, 254,\n",
              "         254, 255, 254, 254, 242,  67,   0,   0,   0,   0,   0,   0,   0,\n",
              "           0,   0],\n",
              "        [  0,   0,   0,   0,   0,   0,   0,   0, 139, 255, 254, 254, 254,\n",
              "         254, 255, 171,  46,  24,   0,   0,   0,   0,   0,   0,   0,   0,\n",
              "           0,   0],\n",
              "        [  0,   0,   0,   0,   0,   0,   0,   0,   5,  71, 164, 189, 174,\n",
              "         174,  66,   4,   0,   0,   0,   0,   0,   0,   0,   0,   0,   0,\n",
              "           0,   0],\n",
              "        [  0,   0,   0,   0,   0,   0,   0,   0,   0,   0,   0,   0,   0,\n",
              "           0,   0,   0,   0,   0,   0,   0,   0,   0,   0,   0,   0,   0,\n",
              "           0,   0],\n",
              "        [  0,   0,   0,   0,   0,   0,   0,   0,   0,   0,   0,   0,   0,\n",
              "           0,   0,   0,   0,   0,   0,   0,   0,   0,   0,   0,   0,   0,\n",
              "           0,   0],\n",
              "        [  0,   0,   0,   0,   0,   0,   0,   0,   0,   0,   0,   0,   0,\n",
              "           0,   0,   0,   0,   0,   0,   0,   0,   0,   0,   0,   0,   0,\n",
              "           0,   0],\n",
              "        [  0,   0,   0,   0,   0,   0,   0,   0,   0,   0,   0,   0,   0,\n",
              "           0,   0,   0,   0,   0,   0,   0,   0,   0,   0,   0,   0,   0,\n",
              "           0,   0]], dtype=uint8))"
            ]
          },
          "metadata": {
            "tags": []
          },
          "execution_count": 32
        }
      ]
    },
    {
      "cell_type": "code",
      "metadata": {
        "colab": {
          "base_uri": "https://localhost:8080/",
          "height": 283
        },
        "id": "Y4W96n0krADo",
        "outputId": "5c1bdd29-7058-496c-9ef3-8389b4a1c280"
      },
      "source": [
        "import matplotlib.pyplot as plt\n",
        "plt.imshow(x_train[50000])\n",
        "print(y_train[50000], type(y_train[50000]))\n"
      ],
      "execution_count": 33,
      "outputs": [
        {
          "output_type": "stream",
          "text": [
            "3 <class 'numpy.uint8'>\n"
          ],
          "name": "stdout"
        },
        {
          "output_type": "display_data",
          "data": {
            "image/png": "[encoded data removed]",
            "text/plain": [
              "<Figure size 432x288 with 1 Axes>"
            ]
          },
          "metadata": {
            "tags": [],
            "needs_background": "light"
          }
        }
      ]
    },
    {
      "cell_type": "code",
      "metadata": {
        "colab": {
          "base_uri": "https://localhost:8080/"
        },
        "id": "cVwiN_GasKVN",
        "outputId": "291e8dcc-c403-4c2c-97c4-e6fcf227945a"
      },
      "source": [
        "x_train = x_train.reshape(-1,28*28) / 255\n",
        "x_train.shape"
      ],
      "execution_count": 34,
      "outputs": [
        {
          "output_type": "execute_result",
          "data": {
            "text/plain": [
              "(60000, 784)"
            ]
          },
          "metadata": {
            "tags": []
          },
          "execution_count": 34
        }
      ]
    },
    {
      "cell_type": "code",
      "metadata": {
        "colab": {
          "base_uri": "https://localhost:8080/"
        },
        "id": "l7QVYdhou7J7",
        "outputId": "58ad6a10-9f19-4afa-b0f5-d58632ded8f9"
      },
      "source": [
        "x_test = x_test.reshape(-1,28*28) / 255\n",
        "x_test.shape"
      ],
      "execution_count": 35,
      "outputs": [
        {
          "output_type": "execute_result",
          "data": {
            "text/plain": [
              "(10000, 784)"
            ]
          },
          "metadata": {
            "tags": []
          },
          "execution_count": 35
        }
      ]
    },
    {
      "cell_type": "code",
      "metadata": {
        "colab": {
          "base_uri": "https://localhost:8080/"
        },
        "id": "PDGYAkEVvdr0",
        "outputId": "0867153d-8a39-48b1-cafa-7f7722491b66"
      },
      "source": [
        "y_train[2:10],y_train.shape"
      ],
      "execution_count": 36,
      "outputs": [
        {
          "output_type": "execute_result",
          "data": {
            "text/plain": [
              "(array([4, 1, 9, 2, 1, 3, 1, 4], dtype=uint8), (60000,))"
            ]
          },
          "metadata": {
            "tags": []
          },
          "execution_count": 36
        }
      ]
    },
    {
      "cell_type": "code",
      "metadata": {
        "colab": {
          "base_uri": "https://localhost:8080/"
        },
        "id": "OTl8jmuFxhPq",
        "outputId": "0a05df4f-ffe1-40d6-845d-42c7f5a66e81"
      },
      "source": [
        "import numpy as np\n",
        "np.unique(y_train)"
      ],
      "execution_count": 37,
      "outputs": [
        {
          "output_type": "execute_result",
          "data": {
            "text/plain": [
              "array([0, 1, 2, 3, 4, 5, 6, 7, 8, 9], dtype=uint8)"
            ]
          },
          "metadata": {
            "tags": []
          },
          "execution_count": 37
        }
      ]
    },
    {
      "cell_type": "markdown",
      "metadata": {
        "id": "r0Zze2ZSwHjR"
      },
      "source": [
        "# apply model\n"
      ]
    },
    {
      "cell_type": "code",
      "metadata": {
        "id": "D9UQHmC_vkHe"
      },
      "source": [
        "import tensorflow as tf"
      ],
      "execution_count": 38,
      "outputs": []
    },
    {
      "cell_type": "code",
      "metadata": {
        "colab": {
          "base_uri": "https://localhost:8080/"
        },
        "id": "5Jti3Qd1wTDo",
        "outputId": "9813b216-20d4-4f51-bd57-04b9e0247b00"
      },
      "source": [
        "model = tf.keras.models.Sequential()\n",
        "\n",
        "model.add(tf.keras.Input (shape=(784,))) # input layer\n",
        "model.add(tf.keras.layers.Dense(64, activation='relu')) # hidden layer\n",
        "model.add(tf.keras.layers.Dense(64, activation='relu')) # hidden layer\n",
        "# 3이상 -->  softmax, binary --> sigmoid\n",
        "model.add(tf.keras.layers.Dense(10, activation='softmax')) # output layer\n",
        "\n",
        "#regession --> loss : mse\n",
        "#  binary classification --> loss : binary crossentropy\n",
        "# over 3 classification  --> loss : categorical crossentropy () sparse_categorical_crossentropy)\n",
        "\n",
        "model.compile(optimizer='adam', loss='mse', metrics=['acc'])\n",
        "\n",
        "hist = model.fit(x_train, y_train, epochs=100)\n"
      ],
      "execution_count": 39,
      "outputs": [
        {
          "output_type": "stream",
          "text": [
            "WARNING:tensorflow:Please add `keras.layers.InputLayer` instead of `keras.Input` to Sequential model. `keras.Input` is intended to be used by Functional model.\n",
            "Epoch 1/100\n",
            "1875/1875 [==============================] - 5s 2ms/step - loss: 27.3046 - acc: 0.1003\n",
            "Epoch 2/100\n",
            "1875/1875 [==============================] - 4s 2ms/step - loss: 27.3046 - acc: 0.0998\n",
            "Epoch 3/100\n",
            "1875/1875 [==============================] - 4s 2ms/step - loss: 27.3046 - acc: 0.1009\n",
            "Epoch 4/100\n",
            "1875/1875 [==============================] - 4s 2ms/step - loss: 27.3046 - acc: 0.1014\n",
            "Epoch 5/100\n",
            "1875/1875 [==============================] - 4s 2ms/step - loss: 27.3046 - acc: 0.0994\n",
            "Epoch 6/100\n",
            "1875/1875 [==============================] - 4s 2ms/step - loss: 27.3046 - acc: 0.1021\n",
            "Epoch 7/100\n",
            "1875/1875 [==============================] - 4s 2ms/step - loss: 27.3046 - acc: 0.1013\n",
            "Epoch 8/100\n",
            "1875/1875 [==============================] - 4s 2ms/step - loss: 27.3046 - acc: 0.1011\n",
            "Epoch 9/100\n",
            "1875/1875 [==============================] - 4s 2ms/step - loss: 27.3046 - acc: 0.1017\n",
            "Epoch 10/100\n",
            "1875/1875 [==============================] - 4s 2ms/step - loss: 27.3046 - acc: 0.0989\n",
            "Epoch 11/100\n",
            "1875/1875 [==============================] - 4s 2ms/step - loss: 27.3046 - acc: 0.1021\n",
            "Epoch 12/100\n",
            "1875/1875 [==============================] - 4s 2ms/step - loss: 27.3046 - acc: 0.1021\n",
            "Epoch 13/100\n",
            "1875/1875 [==============================] - 4s 2ms/step - loss: 27.3045 - acc: 0.0989\n",
            "Epoch 14/100\n",
            "1875/1875 [==============================] - 4s 2ms/step - loss: 27.3046 - acc: 0.1007\n",
            "Epoch 15/100\n",
            "1875/1875 [==============================] - 4s 2ms/step - loss: 27.3046 - acc: 0.0984\n",
            "Epoch 16/100\n",
            "1875/1875 [==============================] - 4s 2ms/step - loss: 27.3046 - acc: 0.1000\n",
            "Epoch 17/100\n",
            "1875/1875 [==============================] - 4s 2ms/step - loss: 27.3046 - acc: 0.1015\n",
            "Epoch 18/100\n",
            "1875/1875 [==============================] - 4s 2ms/step - loss: 27.3046 - acc: 0.1011\n",
            "Epoch 19/100\n",
            "1875/1875 [==============================] - 4s 2ms/step - loss: 27.3046 - acc: 0.1005\n",
            "Epoch 20/100\n",
            "1875/1875 [==============================] - 4s 2ms/step - loss: 27.3046 - acc: 0.1001\n",
            "Epoch 21/100\n",
            "1875/1875 [==============================] - 4s 2ms/step - loss: 27.3046 - acc: 0.1001\n",
            "Epoch 22/100\n",
            "1875/1875 [==============================] - 4s 2ms/step - loss: 27.3046 - acc: 0.1015\n",
            "Epoch 23/100\n",
            "1875/1875 [==============================] - 4s 2ms/step - loss: 27.3046 - acc: 0.0990\n",
            "Epoch 24/100\n",
            "1875/1875 [==============================] - 4s 2ms/step - loss: 27.3046 - acc: 0.1030\n",
            "Epoch 25/100\n",
            "1875/1875 [==============================] - 4s 2ms/step - loss: 27.3046 - acc: 0.0996\n",
            "Epoch 26/100\n",
            "1875/1875 [==============================] - 4s 2ms/step - loss: 27.3046 - acc: 0.0975\n",
            "Epoch 27/100\n",
            "1875/1875 [==============================] - 4s 2ms/step - loss: 27.3046 - acc: 0.0991\n",
            "Epoch 28/100\n",
            "1875/1875 [==============================] - 4s 2ms/step - loss: 27.3046 - acc: 0.1008\n",
            "Epoch 29/100\n",
            "1875/1875 [==============================] - 4s 2ms/step - loss: 27.3046 - acc: 0.1023\n",
            "Epoch 30/100\n",
            "1875/1875 [==============================] - 4s 2ms/step - loss: 27.3045 - acc: 0.0993\n",
            "Epoch 31/100\n",
            "1875/1875 [==============================] - 4s 2ms/step - loss: 27.3046 - acc: 0.1018\n",
            "Epoch 32/100\n",
            "1875/1875 [==============================] - 4s 2ms/step - loss: 27.3046 - acc: 0.0998\n",
            "Epoch 33/100\n",
            "1875/1875 [==============================] - 4s 2ms/step - loss: 27.3046 - acc: 0.0998\n",
            "Epoch 34/100\n",
            "1875/1875 [==============================] - 4s 2ms/step - loss: 27.3046 - acc: 0.0998\n",
            "Epoch 35/100\n",
            "1875/1875 [==============================] - 4s 2ms/step - loss: 27.3046 - acc: 0.1011\n",
            "Epoch 36/100\n",
            "1875/1875 [==============================] - 4s 2ms/step - loss: 27.3046 - acc: 0.0993\n",
            "Epoch 37/100\n",
            "1875/1875 [==============================] - 4s 2ms/step - loss: 27.3045 - acc: 0.1015\n",
            "Epoch 38/100\n",
            "1875/1875 [==============================] - 4s 2ms/step - loss: 27.3046 - acc: 0.1018\n",
            "Epoch 39/100\n",
            "1875/1875 [==============================] - 4s 2ms/step - loss: 27.3046 - acc: 0.0997\n",
            "Epoch 40/100\n",
            "1875/1875 [==============================] - 4s 2ms/step - loss: 27.3046 - acc: 0.0988\n",
            "Epoch 41/100\n",
            "1875/1875 [==============================] - 4s 2ms/step - loss: 27.3046 - acc: 0.0988\n",
            "Epoch 42/100\n",
            "1875/1875 [==============================] - 4s 2ms/step - loss: 27.3046 - acc: 0.0995\n",
            "Epoch 43/100\n",
            "1875/1875 [==============================] - 4s 2ms/step - loss: 27.3046 - acc: 0.1001\n",
            "Epoch 44/100\n",
            "1875/1875 [==============================] - 4s 2ms/step - loss: 27.3046 - acc: 0.1013\n",
            "Epoch 45/100\n",
            "1875/1875 [==============================] - 4s 2ms/step - loss: 27.3046 - acc: 0.0994\n",
            "Epoch 46/100\n",
            "1875/1875 [==============================] - 4s 2ms/step - loss: 27.3045 - acc: 0.1025\n",
            "Epoch 47/100\n",
            "1875/1875 [==============================] - 4s 2ms/step - loss: 27.3046 - acc: 0.0997\n",
            "Epoch 48/100\n",
            "1875/1875 [==============================] - 4s 2ms/step - loss: 27.3046 - acc: 0.0981\n",
            "Epoch 49/100\n",
            "1875/1875 [==============================] - 4s 2ms/step - loss: 27.3046 - acc: 0.1001\n",
            "Epoch 50/100\n",
            "1875/1875 [==============================] - 4s 2ms/step - loss: 27.3046 - acc: 0.1017\n",
            "Epoch 51/100\n",
            "1875/1875 [==============================] - 4s 2ms/step - loss: 27.3046 - acc: 0.0993\n",
            "Epoch 52/100\n",
            "1875/1875 [==============================] - 4s 2ms/step - loss: 27.3046 - acc: 0.0996\n",
            "Epoch 53/100\n",
            "1875/1875 [==============================] - 4s 2ms/step - loss: 27.3046 - acc: 0.0993\n",
            "Epoch 54/100\n",
            "1875/1875 [==============================] - 4s 2ms/step - loss: 27.3046 - acc: 0.0996\n",
            "Epoch 55/100\n",
            "1875/1875 [==============================] - 4s 2ms/step - loss: 27.3046 - acc: 0.1022\n",
            "Epoch 56/100\n",
            "1875/1875 [==============================] - 4s 2ms/step - loss: 27.3046 - acc: 0.1007\n",
            "Epoch 57/100\n",
            "1875/1875 [==============================] - 4s 2ms/step - loss: 27.3046 - acc: 0.0986\n",
            "Epoch 58/100\n",
            "1875/1875 [==============================] - 4s 2ms/step - loss: 27.3046 - acc: 0.1025\n",
            "Epoch 59/100\n",
            "1875/1875 [==============================] - 4s 2ms/step - loss: 27.3046 - acc: 0.0981\n",
            "Epoch 60/100\n",
            "1875/1875 [==============================] - 4s 2ms/step - loss: 27.3046 - acc: 0.0988\n",
            "Epoch 61/100\n",
            "1875/1875 [==============================] - 4s 2ms/step - loss: 27.3046 - acc: 0.0978\n",
            "Epoch 62/100\n",
            "1875/1875 [==============================] - 4s 2ms/step - loss: 27.3046 - acc: 0.0979\n",
            "Epoch 63/100\n",
            "1875/1875 [==============================] - 4s 2ms/step - loss: 27.3046 - acc: 0.1004\n",
            "Epoch 64/100\n",
            "1875/1875 [==============================] - 4s 2ms/step - loss: 27.3046 - acc: 0.0997\n",
            "Epoch 65/100\n",
            "1875/1875 [==============================] - 4s 2ms/step - loss: 27.3046 - acc: 0.1014\n",
            "Epoch 66/100\n",
            "1875/1875 [==============================] - 4s 2ms/step - loss: 27.3046 - acc: 0.1005\n",
            "Epoch 67/100\n",
            "1875/1875 [==============================] - 4s 2ms/step - loss: 27.3046 - acc: 0.0995\n",
            "Epoch 68/100\n",
            "1875/1875 [==============================] - 4s 2ms/step - loss: 27.3046 - acc: 0.1019\n",
            "Epoch 69/100\n",
            "1875/1875 [==============================] - 4s 2ms/step - loss: 27.3046 - acc: 0.1010\n",
            "Epoch 70/100\n",
            "1875/1875 [==============================] - 4s 2ms/step - loss: 27.3046 - acc: 0.1000\n",
            "Epoch 71/100\n",
            "1875/1875 [==============================] - 4s 2ms/step - loss: 27.3046 - acc: 0.0995\n",
            "Epoch 72/100\n",
            "1875/1875 [==============================] - 4s 2ms/step - loss: 27.3046 - acc: 0.1016\n",
            "Epoch 73/100\n",
            "1875/1875 [==============================] - 4s 2ms/step - loss: 27.3046 - acc: 0.1021\n",
            "Epoch 74/100\n",
            "1875/1875 [==============================] - 4s 2ms/step - loss: 27.3046 - acc: 0.1019\n",
            "Epoch 75/100\n",
            "1875/1875 [==============================] - 4s 2ms/step - loss: 27.3046 - acc: 0.0988\n",
            "Epoch 76/100\n",
            "1875/1875 [==============================] - 4s 2ms/step - loss: 27.3046 - acc: 0.1001\n",
            "Epoch 77/100\n",
            "1875/1875 [==============================] - 4s 2ms/step - loss: 27.3046 - acc: 0.0990\n",
            "Epoch 78/100\n",
            "1875/1875 [==============================] - 4s 2ms/step - loss: 27.3046 - acc: 0.1010\n",
            "Epoch 79/100\n",
            "1875/1875 [==============================] - 4s 2ms/step - loss: 27.3046 - acc: 0.0985\n",
            "Epoch 80/100\n",
            "1875/1875 [==============================] - 4s 2ms/step - loss: 27.3046 - acc: 0.1013\n",
            "Epoch 81/100\n",
            "1875/1875 [==============================] - 4s 2ms/step - loss: 27.3046 - acc: 0.0993\n",
            "Epoch 82/100\n",
            "1875/1875 [==============================] - 4s 2ms/step - loss: 27.3046 - acc: 0.1019\n",
            "Epoch 83/100\n",
            "1875/1875 [==============================] - 4s 2ms/step - loss: 27.3046 - acc: 0.1004\n",
            "Epoch 84/100\n",
            "1875/1875 [==============================] - 4s 2ms/step - loss: 27.3046 - acc: 0.0997\n",
            "Epoch 85/100\n",
            "1875/1875 [==============================] - 4s 2ms/step - loss: 27.3046 - acc: 0.1006\n",
            "Epoch 86/100\n",
            "1875/1875 [==============================] - 4s 2ms/step - loss: 27.3046 - acc: 0.1001\n",
            "Epoch 87/100\n",
            "1875/1875 [==============================] - 4s 2ms/step - loss: 27.3046 - acc: 0.1019\n",
            "Epoch 88/100\n",
            "1875/1875 [==============================] - 4s 2ms/step - loss: 27.3046 - acc: 0.0984\n",
            "Epoch 89/100\n",
            "1875/1875 [==============================] - 4s 2ms/step - loss: 27.3046 - acc: 0.1006\n",
            "Epoch 90/100\n",
            "1875/1875 [==============================] - 4s 2ms/step - loss: 27.3046 - acc: 0.0998\n",
            "Epoch 91/100\n",
            "1875/1875 [==============================] - 4s 2ms/step - loss: 27.3046 - acc: 0.0997\n",
            "Epoch 92/100\n",
            "1875/1875 [==============================] - 4s 2ms/step - loss: 27.3046 - acc: 0.0996\n",
            "Epoch 93/100\n",
            "1875/1875 [==============================] - 4s 2ms/step - loss: 27.3046 - acc: 0.0986\n",
            "Epoch 94/100\n",
            "1875/1875 [==============================] - 4s 2ms/step - loss: 27.3046 - acc: 0.1014\n",
            "Epoch 95/100\n",
            "1875/1875 [==============================] - 4s 2ms/step - loss: 27.3046 - acc: 0.1011\n",
            "Epoch 96/100\n",
            "1875/1875 [==============================] - 4s 2ms/step - loss: 27.3045 - acc: 0.1001\n",
            "Epoch 97/100\n",
            "1875/1875 [==============================] - 4s 2ms/step - loss: 27.3046 - acc: 0.1011\n",
            "Epoch 98/100\n",
            "1875/1875 [==============================] - 4s 2ms/step - loss: 27.3046 - acc: 0.0987\n",
            "Epoch 99/100\n",
            "1875/1875 [==============================] - 4s 2ms/step - loss: 27.3046 - acc: 0.1002\n",
            "Epoch 100/100\n",
            "1875/1875 [==============================] - 4s 2ms/step - loss: 27.3046 - acc: 0.0990\n"
          ],
          "name": "stdout"
        }
      ]
    },
    {
      "cell_type": "code",
      "metadata": {
        "id": "PLPwtxzAwdns",
        "colab": {
          "base_uri": "https://localhost:8080/"
        },
        "outputId": "f400458e-f324-446c-e48b-98c462499a3b"
      },
      "source": [
        "model.fit(x_train,y_train, epochs=100, validation_split=0.3)"
      ],
      "execution_count": 40,
      "outputs": [
        {
          "output_type": "stream",
          "text": [
            "Epoch 1/100\n",
            "1313/1313 [==============================] - 5s 3ms/step - loss: 27.2682 - acc: 0.0998 - val_loss: 27.3893 - val_acc: 0.1006\n",
            "Epoch 2/100\n",
            "1313/1313 [==============================] - 4s 3ms/step - loss: 27.2682 - acc: 0.1016 - val_loss: 27.3893 - val_acc: 0.0966\n",
            "Epoch 3/100\n",
            "1313/1313 [==============================] - 4s 3ms/step - loss: 27.2682 - acc: 0.1002 - val_loss: 27.3893 - val_acc: 0.1035\n",
            "Epoch 4/100\n",
            "1313/1313 [==============================] - 4s 3ms/step - loss: 27.2682 - acc: 0.0992 - val_loss: 27.3893 - val_acc: 0.0968\n",
            "Epoch 5/100\n",
            "1313/1313 [==============================] - 4s 3ms/step - loss: 27.2682 - acc: 0.1008 - val_loss: 27.3893 - val_acc: 0.1006\n",
            "Epoch 6/100\n",
            "1313/1313 [==============================] - 4s 3ms/step - loss: 27.2682 - acc: 0.1021 - val_loss: 27.3893 - val_acc: 0.0989\n",
            "Epoch 7/100\n",
            "1313/1313 [==============================] - 4s 3ms/step - loss: 27.2682 - acc: 0.0983 - val_loss: 27.3893 - val_acc: 0.1006\n",
            "Epoch 8/100\n",
            "1313/1313 [==============================] - 4s 3ms/step - loss: 27.2682 - acc: 0.1013 - val_loss: 27.3893 - val_acc: 0.0966\n",
            "Epoch 9/100\n",
            "1313/1313 [==============================] - 4s 3ms/step - loss: 27.2682 - acc: 0.1004 - val_loss: 27.3893 - val_acc: 0.1075\n",
            "Epoch 10/100\n",
            "1313/1313 [==============================] - 4s 3ms/step - loss: 27.2682 - acc: 0.0989 - val_loss: 27.3893 - val_acc: 0.1006\n",
            "Epoch 11/100\n",
            "1313/1313 [==============================] - 4s 3ms/step - loss: 27.2682 - acc: 0.1022 - val_loss: 27.3893 - val_acc: 0.0966\n",
            "Epoch 12/100\n",
            "1313/1313 [==============================] - 4s 3ms/step - loss: 27.2682 - acc: 0.1000 - val_loss: 27.3893 - val_acc: 0.0909\n",
            "Epoch 13/100\n",
            "1313/1313 [==============================] - 4s 3ms/step - loss: 27.2682 - acc: 0.1010 - val_loss: 27.3893 - val_acc: 0.0989\n",
            "Epoch 14/100\n",
            "1313/1313 [==============================] - 4s 3ms/step - loss: 27.2682 - acc: 0.1022 - val_loss: 27.3893 - val_acc: 0.0966\n",
            "Epoch 15/100\n",
            "1313/1313 [==============================] - 4s 3ms/step - loss: 27.2682 - acc: 0.1005 - val_loss: 27.3893 - val_acc: 0.0989\n",
            "Epoch 16/100\n",
            "1313/1313 [==============================] - 4s 3ms/step - loss: 27.2682 - acc: 0.1012 - val_loss: 27.3893 - val_acc: 0.0909\n",
            "Epoch 17/100\n",
            "1313/1313 [==============================] - 4s 3ms/step - loss: 27.2682 - acc: 0.1019 - val_loss: 27.3893 - val_acc: 0.1079\n",
            "Epoch 18/100\n",
            "1313/1313 [==============================] - 4s 3ms/step - loss: 27.2682 - acc: 0.0959 - val_loss: 27.3893 - val_acc: 0.1035\n",
            "Epoch 19/100\n",
            "1313/1313 [==============================] - 4s 3ms/step - loss: 27.2682 - acc: 0.0990 - val_loss: 27.3893 - val_acc: 0.0966\n",
            "Epoch 20/100\n",
            "1313/1313 [==============================] - 4s 3ms/step - loss: 27.2682 - acc: 0.0996 - val_loss: 27.3893 - val_acc: 0.1079\n",
            "Epoch 21/100\n",
            "1313/1313 [==============================] - 4s 3ms/step - loss: 27.2682 - acc: 0.1004 - val_loss: 27.3893 - val_acc: 0.1006\n",
            "Epoch 22/100\n",
            "1313/1313 [==============================] - 4s 3ms/step - loss: 27.2682 - acc: 0.1012 - val_loss: 27.3893 - val_acc: 0.1035\n",
            "Epoch 23/100\n",
            "1313/1313 [==============================] - 4s 3ms/step - loss: 27.2682 - acc: 0.1014 - val_loss: 27.3893 - val_acc: 0.1006\n",
            "Epoch 24/100\n",
            "1313/1313 [==============================] - 4s 3ms/step - loss: 27.2682 - acc: 0.0993 - val_loss: 27.3893 - val_acc: 0.1079\n",
            "Epoch 25/100\n",
            "1313/1313 [==============================] - 4s 3ms/step - loss: 27.2682 - acc: 0.0997 - val_loss: 27.3893 - val_acc: 0.1006\n",
            "Epoch 26/100\n",
            "1313/1313 [==============================] - 4s 3ms/step - loss: 27.2682 - acc: 0.0976 - val_loss: 27.3893 - val_acc: 0.0989\n",
            "Epoch 27/100\n",
            "1313/1313 [==============================] - 4s 3ms/step - loss: 27.2682 - acc: 0.1008 - val_loss: 27.3893 - val_acc: 0.0909\n",
            "Epoch 28/100\n",
            "1313/1313 [==============================] - 4s 3ms/step - loss: 27.2682 - acc: 0.1010 - val_loss: 27.3893 - val_acc: 0.0909\n",
            "Epoch 29/100\n",
            "1313/1313 [==============================] - 4s 3ms/step - loss: 27.2682 - acc: 0.1003 - val_loss: 27.3893 - val_acc: 0.0968\n",
            "Epoch 30/100\n",
            "1313/1313 [==============================] - 4s 3ms/step - loss: 27.2682 - acc: 0.1016 - val_loss: 27.3893 - val_acc: 0.0968\n",
            "Epoch 31/100\n",
            "1313/1313 [==============================] - 4s 3ms/step - loss: 27.2682 - acc: 0.0979 - val_loss: 27.3893 - val_acc: 0.1035\n",
            "Epoch 32/100\n",
            "1313/1313 [==============================] - 4s 3ms/step - loss: 27.2682 - acc: 0.0989 - val_loss: 27.3893 - val_acc: 0.1079\n",
            "Epoch 33/100\n",
            "1313/1313 [==============================] - 4s 3ms/step - loss: 27.2682 - acc: 0.1025 - val_loss: 27.3893 - val_acc: 0.1035\n",
            "Epoch 34/100\n",
            "1313/1313 [==============================] - 4s 3ms/step - loss: 27.2682 - acc: 0.1005 - val_loss: 27.3893 - val_acc: 0.1079\n",
            "Epoch 35/100\n",
            "1313/1313 [==============================] - 4s 3ms/step - loss: 27.2682 - acc: 0.0998 - val_loss: 27.3893 - val_acc: 0.0989\n",
            "Epoch 36/100\n",
            "1313/1313 [==============================] - 4s 3ms/step - loss: 27.2682 - acc: 0.1004 - val_loss: 27.3893 - val_acc: 0.0968\n",
            "Epoch 37/100\n",
            "1313/1313 [==============================] - 4s 3ms/step - loss: 27.2682 - acc: 0.1030 - val_loss: 27.3893 - val_acc: 0.0909\n",
            "Epoch 38/100\n",
            "1313/1313 [==============================] - 4s 3ms/step - loss: 27.2682 - acc: 0.1016 - val_loss: 27.3893 - val_acc: 0.0989\n",
            "Epoch 39/100\n",
            "1313/1313 [==============================] - 4s 3ms/step - loss: 27.2682 - acc: 0.0995 - val_loss: 27.3893 - val_acc: 0.1006\n",
            "Epoch 40/100\n",
            "1313/1313 [==============================] - 4s 3ms/step - loss: 27.2682 - acc: 0.1000 - val_loss: 27.3893 - val_acc: 0.0968\n",
            "Epoch 41/100\n",
            "1313/1313 [==============================] - 4s 3ms/step - loss: 27.2682 - acc: 0.0977 - val_loss: 27.3893 - val_acc: 0.0968\n",
            "Epoch 42/100\n",
            "1313/1313 [==============================] - 4s 3ms/step - loss: 27.2682 - acc: 0.1011 - val_loss: 27.3893 - val_acc: 0.1079\n",
            "Epoch 43/100\n",
            "1313/1313 [==============================] - 4s 3ms/step - loss: 27.2682 - acc: 0.1011 - val_loss: 27.3893 - val_acc: 0.0966\n",
            "Epoch 44/100\n",
            "1313/1313 [==============================] - 4s 3ms/step - loss: 27.2682 - acc: 0.0987 - val_loss: 27.3893 - val_acc: 0.0966\n",
            "Epoch 45/100\n",
            "1313/1313 [==============================] - 4s 3ms/step - loss: 27.2682 - acc: 0.1004 - val_loss: 27.3893 - val_acc: 0.0966\n",
            "Epoch 46/100\n",
            "1313/1313 [==============================] - 4s 3ms/step - loss: 27.2682 - acc: 0.0986 - val_loss: 27.3893 - val_acc: 0.0966\n",
            "Epoch 47/100\n",
            "1313/1313 [==============================] - 4s 3ms/step - loss: 27.2682 - acc: 0.0997 - val_loss: 27.3893 - val_acc: 0.1035\n",
            "Epoch 48/100\n",
            "1313/1313 [==============================] - 4s 3ms/step - loss: 27.2682 - acc: 0.1008 - val_loss: 27.3893 - val_acc: 0.1079\n",
            "Epoch 49/100\n",
            "1313/1313 [==============================] - 4s 3ms/step - loss: 27.2682 - acc: 0.1017 - val_loss: 27.3893 - val_acc: 0.1079\n",
            "Epoch 50/100\n",
            "1313/1313 [==============================] - 4s 3ms/step - loss: 27.2682 - acc: 0.1005 - val_loss: 27.3893 - val_acc: 0.1035\n",
            "Epoch 51/100\n",
            "1313/1313 [==============================] - 4s 3ms/step - loss: 27.2682 - acc: 0.0991 - val_loss: 27.3893 - val_acc: 0.1079\n",
            "Epoch 52/100\n",
            "1313/1313 [==============================] - 4s 3ms/step - loss: 27.2682 - acc: 0.1006 - val_loss: 27.3893 - val_acc: 0.1006\n",
            "Epoch 53/100\n",
            "1313/1313 [==============================] - 4s 3ms/step - loss: 27.2682 - acc: 0.1030 - val_loss: 27.3893 - val_acc: 0.1035\n",
            "Epoch 54/100\n",
            "1313/1313 [==============================] - 4s 3ms/step - loss: 27.2682 - acc: 0.1010 - val_loss: 27.3893 - val_acc: 0.1079\n",
            "Epoch 55/100\n",
            "1313/1313 [==============================] - 4s 3ms/step - loss: 27.2682 - acc: 0.1012 - val_loss: 27.3893 - val_acc: 0.0966\n",
            "Epoch 56/100\n",
            "1313/1313 [==============================] - 4s 3ms/step - loss: 27.2682 - acc: 0.1006 - val_loss: 27.3893 - val_acc: 0.1075\n",
            "Epoch 57/100\n",
            "1313/1313 [==============================] - 4s 3ms/step - loss: 27.2681 - acc: 0.1019 - val_loss: 27.3893 - val_acc: 0.1079\n",
            "Epoch 58/100\n",
            "1313/1313 [==============================] - 4s 3ms/step - loss: 27.2682 - acc: 0.0985 - val_loss: 27.3893 - val_acc: 0.0989\n",
            "Epoch 59/100\n",
            "1313/1313 [==============================] - 4s 3ms/step - loss: 27.2682 - acc: 0.1024 - val_loss: 27.3893 - val_acc: 0.0966\n",
            "Epoch 60/100\n",
            "1313/1313 [==============================] - 4s 3ms/step - loss: 27.2682 - acc: 0.0991 - val_loss: 27.3893 - val_acc: 0.0909\n",
            "Epoch 61/100\n",
            "1313/1313 [==============================] - 4s 3ms/step - loss: 27.2682 - acc: 0.1009 - val_loss: 27.3893 - val_acc: 0.1075\n",
            "Epoch 62/100\n",
            "1313/1313 [==============================] - 4s 3ms/step - loss: 27.2682 - acc: 0.1010 - val_loss: 27.3893 - val_acc: 0.0909\n",
            "Epoch 63/100\n",
            "1313/1313 [==============================] - 4s 3ms/step - loss: 27.2681 - acc: 0.1000 - val_loss: 27.3893 - val_acc: 0.1079\n",
            "Epoch 64/100\n",
            "1313/1313 [==============================] - 4s 3ms/step - loss: 27.2682 - acc: 0.0982 - val_loss: 27.3893 - val_acc: 0.1006\n",
            "Epoch 65/100\n",
            "1313/1313 [==============================] - 4s 3ms/step - loss: 27.2682 - acc: 0.1002 - val_loss: 27.3893 - val_acc: 0.0966\n",
            "Epoch 66/100\n",
            "1313/1313 [==============================] - 4s 3ms/step - loss: 27.2682 - acc: 0.0986 - val_loss: 27.3893 - val_acc: 0.0966\n",
            "Epoch 67/100\n",
            "1313/1313 [==============================] - 4s 3ms/step - loss: 27.2682 - acc: 0.0985 - val_loss: 27.3893 - val_acc: 0.1006\n",
            "Epoch 68/100\n",
            "1313/1313 [==============================] - 4s 3ms/step - loss: 27.2682 - acc: 0.0985 - val_loss: 27.3893 - val_acc: 0.0966\n",
            "Epoch 69/100\n",
            "1313/1313 [==============================] - 4s 3ms/step - loss: 27.2682 - acc: 0.1025 - val_loss: 27.3893 - val_acc: 0.0909\n",
            "Epoch 70/100\n",
            "1313/1313 [==============================] - 4s 3ms/step - loss: 27.2682 - acc: 0.1012 - val_loss: 27.3893 - val_acc: 0.1006\n",
            "Epoch 71/100\n",
            "1313/1313 [==============================] - 4s 3ms/step - loss: 27.2682 - acc: 0.0988 - val_loss: 27.3893 - val_acc: 0.1075\n",
            "Epoch 72/100\n",
            "1313/1313 [==============================] - 4s 3ms/step - loss: 27.2682 - acc: 0.0964 - val_loss: 27.3893 - val_acc: 0.1035\n",
            "Epoch 73/100\n",
            "1313/1313 [==============================] - 4s 3ms/step - loss: 27.2682 - acc: 0.1002 - val_loss: 27.3893 - val_acc: 0.1006\n",
            "Epoch 74/100\n",
            "1313/1313 [==============================] - 4s 3ms/step - loss: 27.2682 - acc: 0.0992 - val_loss: 27.3893 - val_acc: 0.1035\n",
            "Epoch 75/100\n",
            "1313/1313 [==============================] - 4s 3ms/step - loss: 27.2682 - acc: 0.1007 - val_loss: 27.3893 - val_acc: 0.1006\n",
            "Epoch 76/100\n",
            "1313/1313 [==============================] - 4s 3ms/step - loss: 27.2682 - acc: 0.0996 - val_loss: 27.3893 - val_acc: 0.1075\n",
            "Epoch 77/100\n",
            "1313/1313 [==============================] - 4s 3ms/step - loss: 27.2682 - acc: 0.1004 - val_loss: 27.3893 - val_acc: 0.1079\n",
            "Epoch 78/100\n",
            "1313/1313 [==============================] - 4s 3ms/step - loss: 27.2682 - acc: 0.0988 - val_loss: 27.3893 - val_acc: 0.1006\n",
            "Epoch 79/100\n",
            "1313/1313 [==============================] - 4s 3ms/step - loss: 27.2682 - acc: 0.0997 - val_loss: 27.3893 - val_acc: 0.0989\n",
            "Epoch 80/100\n",
            "1313/1313 [==============================] - 4s 3ms/step - loss: 27.2682 - acc: 0.1000 - val_loss: 27.3893 - val_acc: 0.0966\n",
            "Epoch 81/100\n",
            "1313/1313 [==============================] - 4s 3ms/step - loss: 27.2682 - acc: 0.0989 - val_loss: 27.3893 - val_acc: 0.0909\n",
            "Epoch 82/100\n",
            "1313/1313 [==============================] - 4s 3ms/step - loss: 27.2682 - acc: 0.0987 - val_loss: 27.3893 - val_acc: 0.1006\n",
            "Epoch 83/100\n",
            "1313/1313 [==============================] - 4s 3ms/step - loss: 27.2682 - acc: 0.1001 - val_loss: 27.3893 - val_acc: 0.1006\n",
            "Epoch 84/100\n",
            "1313/1313 [==============================] - 4s 3ms/step - loss: 27.2682 - acc: 0.0985 - val_loss: 27.3893 - val_acc: 0.0966\n",
            "Epoch 85/100\n",
            "1313/1313 [==============================] - 4s 3ms/step - loss: 27.2682 - acc: 0.1000 - val_loss: 27.3893 - val_acc: 0.0989\n",
            "Epoch 86/100\n",
            "1313/1313 [==============================] - 4s 3ms/step - loss: 27.2682 - acc: 0.1015 - val_loss: 27.3893 - val_acc: 0.1006\n",
            "Epoch 87/100\n",
            "1313/1313 [==============================] - 4s 3ms/step - loss: 27.2682 - acc: 0.1010 - val_loss: 27.3893 - val_acc: 0.0989\n",
            "Epoch 88/100\n",
            "1313/1313 [==============================] - 4s 3ms/step - loss: 27.2682 - acc: 0.1017 - val_loss: 27.3893 - val_acc: 0.1006\n",
            "Epoch 89/100\n",
            "1313/1313 [==============================] - 4s 3ms/step - loss: 27.2682 - acc: 0.1017 - val_loss: 27.3893 - val_acc: 0.1079\n",
            "Epoch 90/100\n",
            "1313/1313 [==============================] - 4s 3ms/step - loss: 27.2682 - acc: 0.1033 - val_loss: 27.3893 - val_acc: 0.1079\n",
            "Epoch 91/100\n",
            "1313/1313 [==============================] - 4s 3ms/step - loss: 27.2682 - acc: 0.1012 - val_loss: 27.3893 - val_acc: 0.1079\n",
            "Epoch 92/100\n",
            "1313/1313 [==============================] - 4s 3ms/step - loss: 27.2682 - acc: 0.0987 - val_loss: 27.3893 - val_acc: 0.1006\n",
            "Epoch 93/100\n",
            "1313/1313 [==============================] - 4s 3ms/step - loss: 27.2682 - acc: 0.0978 - val_loss: 27.3893 - val_acc: 0.1035\n",
            "Epoch 94/100\n",
            "1313/1313 [==============================] - 4s 3ms/step - loss: 27.2682 - acc: 0.0997 - val_loss: 27.3893 - val_acc: 0.0909\n",
            "Epoch 95/100\n",
            "1313/1313 [==============================] - 4s 3ms/step - loss: 27.2682 - acc: 0.0979 - val_loss: 27.3893 - val_acc: 0.1006\n",
            "Epoch 96/100\n",
            "1313/1313 [==============================] - 4s 3ms/step - loss: 27.2682 - acc: 0.1018 - val_loss: 27.3893 - val_acc: 0.0968\n",
            "Epoch 97/100\n",
            "1313/1313 [==============================] - 4s 3ms/step - loss: 27.2682 - acc: 0.0995 - val_loss: 27.3893 - val_acc: 0.1035\n",
            "Epoch 98/100\n",
            "1313/1313 [==============================] - 4s 3ms/step - loss: 27.2682 - acc: 0.1007 - val_loss: 27.3893 - val_acc: 0.1006\n",
            "Epoch 99/100\n",
            "1313/1313 [==============================] - 4s 3ms/step - loss: 27.2682 - acc: 0.1011 - val_loss: 27.3893 - val_acc: 0.0968\n",
            "Epoch 100/100\n",
            "1313/1313 [==============================] - 4s 3ms/step - loss: 27.2682 - acc: 0.1009 - val_loss: 27.3893 - val_acc: 0.0989\n"
          ],
          "name": "stdout"
        },
        {
          "output_type": "execute_result",
          "data": {
            "text/plain": [
              "<tensorflow.python.keras.callbacks.History at 0x7f7497e19790>"
            ]
          },
          "metadata": {
            "tags": []
          },
          "execution_count": 40
        }
      ]
    },
    {
      "cell_type": "code",
      "metadata": {
        "colab": {
          "base_uri": "https://localhost:8080/"
        },
        "id": "SFHhTKy-_db5",
        "outputId": "8995458a-4d0e-4577-9b8c-49ff0d64cc41"
      },
      "source": [
        " hist.history.keys()"
      ],
      "execution_count": 41,
      "outputs": [
        {
          "output_type": "execute_result",
          "data": {
            "text/plain": [
              "dict_keys(['loss', 'acc'])"
            ]
          },
          "metadata": {
            "tags": []
          },
          "execution_count": 41
        }
      ]
    },
    {
      "cell_type": "code",
      "metadata": {
        "colab": {
          "base_uri": "https://localhost:8080/",
          "height": 482
        },
        "id": "WbcxdO0xLbEd",
        "outputId": "1298e9fd-4723-4169-aed4-7bec1d115684"
      },
      "source": [
        "import matplotlib.pyplot as plt\n",
        "\n",
        "\n",
        "plt.plot(hist.history['loss'])\n",
        "plt.plot(hist.history['val_loss'])\n",
        "plt.show()\n"
      ],
      "execution_count": 42,
      "outputs": [
        {
          "output_type": "error",
          "ename": "KeyError",
          "evalue": "ignored",
          "traceback": [
            "\u001b[0;31m---------------------------------------------------------------------------\u001b[0m",
            "\u001b[0;31mKeyError\u001b[0m                                  Traceback (most recent call last)",
            "\u001b[0;32m<ipython-input-42-4bc653e7abae>\u001b[0m in \u001b[0;36m<module>\u001b[0;34m()\u001b[0m\n\u001b[1;32m      3\u001b[0m \u001b[0;34m\u001b[0m\u001b[0m\n\u001b[1;32m      4\u001b[0m \u001b[0mplt\u001b[0m\u001b[0;34m.\u001b[0m\u001b[0mplot\u001b[0m\u001b[0;34m(\u001b[0m\u001b[0mhist\u001b[0m\u001b[0;34m.\u001b[0m\u001b[0mhistory\u001b[0m\u001b[0;34m[\u001b[0m\u001b[0;34m'loss'\u001b[0m\u001b[0;34m]\u001b[0m\u001b[0;34m)\u001b[0m\u001b[0;34m\u001b[0m\u001b[0;34m\u001b[0m\u001b[0m\n\u001b[0;32m----> 5\u001b[0;31m \u001b[0mplt\u001b[0m\u001b[0;34m.\u001b[0m\u001b[0mplot\u001b[0m\u001b[0;34m(\u001b[0m\u001b[0mhist\u001b[0m\u001b[0;34m.\u001b[0m\u001b[0mhistory\u001b[0m\u001b[0;34m[\u001b[0m\u001b[0;34m'val_loss'\u001b[0m\u001b[0;34m]\u001b[0m\u001b[0;34m)\u001b[0m\u001b[0;34m\u001b[0m\u001b[0;34m\u001b[0m\u001b[0m\n\u001b[0m\u001b[1;32m      6\u001b[0m \u001b[0mplt\u001b[0m\u001b[0;34m.\u001b[0m\u001b[0mshow\u001b[0m\u001b[0;34m(\u001b[0m\u001b[0;34m)\u001b[0m\u001b[0;34m\u001b[0m\u001b[0;34m\u001b[0m\u001b[0m\n",
            "\u001b[0;31mKeyError\u001b[0m: 'val_loss'"
          ]
        },
        {
          "output_type": "display_data",
          "data": {
            "image/png": "[encoded data removed]",
            "text/plain": [
              "<Figure size 432x288 with 1 Axes>"
            ]
          },
          "metadata": {
            "tags": [],
            "needs_background": "light"
          }
        }
      ]
    },
    {
      "cell_type": "code",
      "metadata": {
        "id": "r4dlTyYVLv1a"
      },
      "source": [
        "plt.plot(hist.history['acc'])\n",
        "plt.pot(hist.history['val_acc'],'r-')\n",
        "plt.show()"
      ],
      "execution_count": null,
      "outputs": []
    },
    {
      "cell_type": "markdown",
      "metadata": {
        "id": "hG4LoGcPMxeQ"
      },
      "source": [
        "# service\n"
      ]
    },
    {
      "cell_type": "code",
      "metadata": {
        "id": "514wDkICMoqT",
        "colab": {
          "base_uri": "https://localhost:8080/"
        },
        "outputId": "b3f35be2-6a87-4949-bb99-0efca4d62569"
      },
      "source": [
        "import numpy as np\n",
        "np.set_printoptions(precision=8)\n",
        "\n",
        "pred = model.predict(x_test[30:31])\n",
        "pred,np.argmax(pred)\n",
        "pred"
      ],
      "execution_count": 47,
      "outputs": [
        {
          "output_type": "execute_result",
          "data": {
            "text/plain": [
              "array([[0.10000028, 0.09999981, 0.10000014, 0.10000009, 0.09999952,\n",
              "        0.09999976, 0.1000001 , 0.10000015, 0.10000015, 0.09999999]],\n",
              "      dtype=float32)"
            ]
          },
          "metadata": {
            "tags": []
          },
          "execution_count": 47
        }
      ]
    },
    {
      "cell_type": "code",
      "metadata": {
        "colab": {
          "base_uri": "https://localhost:8080/"
        },
        "id": "Gar26w5e6E_h",
        "outputId": "5d9463d6-655e-41b3-dd35-d7ddc25a1e5f"
      },
      "source": [
        "model.save('./model_save')"
      ],
      "execution_count": 43,
      "outputs": [
        {
          "output_type": "stream",
          "text": [
            "INFO:tensorflow:Assets written to: ./model_save/assets\n"
          ],
          "name": "stdout"
        }
      ]
    },
    {
      "cell_type": "code",
      "metadata": {
        "id": "lm1LfNOO6960"
      },
      "source": [
        "model.save('./model_save01.h5')"
      ],
      "execution_count": 48,
      "outputs": []
    },
    {
      "cell_type": "code",
      "metadata": {
        "colab": {
          "base_uri": "https://localhost:8080/"
        },
        "id": "Z_DLTSff7x7q",
        "outputId": "612972fb-ce84-47bd-cb2c-a6f63eb6e919"
      },
      "source": [
        "model_load = tf.keras.models.load_model('./model_save01.h5')\n",
        "model_load"
      ],
      "execution_count": 46,
      "outputs": [
        {
          "output_type": "execute_result",
          "data": {
            "text/plain": [
              "<tensorflow.python.keras.engine.sequential.Sequential at 0x7f7491544b90>"
            ]
          },
          "metadata": {
            "tags": []
          },
          "execution_count": 46
        }
      ]
    },
    {
      "cell_type": "code",
      "metadata": {
        "colab": {
          "base_uri": "https://localhost:8080/"
        },
        "id": "YstyBW529Cfz",
        "outputId": "c614b36c-58d6-4e5b-84f6-1ce179599df2"
      },
      "source": [
        "load_pred = model_load.predict(x_test[30:31])\n",
        "load_pred, np.argmax(load_pred)\n"
      ],
      "execution_count": 51,
      "outputs": [
        {
          "output_type": "execute_result",
          "data": {
            "text/plain": [
              "(array([[0.10000028, 0.09999981, 0.10000014, 0.10000009, 0.09999952,\n",
              "         0.09999976, 0.1000001 , 0.10000015, 0.10000015, 0.09999999]],\n",
              "       dtype=float32), 0)"
            ]
          },
          "metadata": {
            "tags": []
          },
          "execution_count": 51
        }
      ]
    },
    {
      "cell_type": "code",
      "metadata": {
        "id": "IYOi60byoALp"
      },
      "source": [
        "np.argmax(pred,axis=1)"
      ],
      "execution_count": null,
      "outputs": []
    },
    {
      "cell_type": "code",
      "metadata": {
        "id": "WJ1StDdToLeQ"
      },
      "source": [
        "y_test[30]"
      ],
      "execution_count": null,
      "outputs": []
    },
    {
      "cell_type": "code",
      "metadata": {
        "id": "IzwGZlMwiWG5"
      },
      "source": [
        "a = np.arange(6).reshape(2,3) + 10\n",
        "print(a)\n",
        "np.argmax(a,axis=0)"
      ],
      "execution_count": null,
      "outputs": []
    },
    {
      "cell_type": "code",
      "metadata": {
        "id": "tl1zUX_DlrCp"
      },
      "source": [
        "np.argmax(np.array[[10,11,12]]), axis=1)"
      ],
      "execution_count": null,
      "outputs": []
    },
    {
      "cell_type": "code",
      "metadata": {
        "id": "-CWzDWtpno9i"
      },
      "source": [
        ""
      ],
      "execution_count": null,
      "outputs": []
    }
  ]
}