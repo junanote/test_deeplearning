{
  "nbformat": 4,
  "nbformat_minor": 0,
  "metadata": {
    "colab": {
      "name": "mnist_classification",
      "provenance": [],
      "collapsed_sections": [],
      "authorship_tag": "ABX9TyMHhiKSpL64M806V8UgPDqU",
      "include_colab_link": true
    },
    "kernelspec": {
      "name": "python3",
      "display_name": "Python 3"
    },
    "language_info": {
      "name": "python"
    }
  },
  "cells": [
    {
      "cell_type": "markdown",
      "metadata": {
        "id": "view-in-github",
        "colab_type": "text"
      },
      "source": [
        "<a href=\"https://colab.research.google.com/github/junanote/test_deeplearning/blob/master/mnist_classification.ipynb\" target=\"_parent\"><img src=\"https://colab.research.google.com/assets/colab-badge.svg\" alt=\"Open In Colab\"/></a>"
      ]
    },
    {
      "cell_type": "code",
      "metadata": {
        "id": "EWRB1Hi3lu_G"
      },
      "source": [
        "from tensorflow.keras.datasets.mnist import load_data"
      ],
      "execution_count": null,
      "outputs": []
    },
    {
      "cell_type": "code",
      "metadata": {
        "colab": {
          "base_uri": "https://localhost:8080/"
        },
        "id": "19w9n6jgmwJa",
        "outputId": "dbd410c2-74ee-4389-fa55-b5d721df8653"
      },
      "source": [
        "(x_train, y_train), (x_test, y_test) = load_data(path='mnist,npz')\n",
        "x_train.shape, y_train.shape, x_test.shape, y_test.shape"
      ],
      "execution_count": null,
      "outputs": [
        {
          "output_type": "execute_result",
          "data": {
            "text/plain": [
              "((60000, 28, 28), (60000,), (10000, 28, 28), (10000,))"
            ]
          },
          "metadata": {
            "tags": []
          },
          "execution_count": 4
        }
      ]
    },
    {
      "cell_type": "code",
      "metadata": {
        "colab": {
          "base_uri": "https://localhost:8080/"
        },
        "id": "HEVn8KZusMyM",
        "outputId": "ea685e27-16e2-4370-9383-b7b86923cdb4"
      },
      "source": [
        "y_train[4], x_train[4],\n",
        "y_train[50000], x_train[50000]"
      ],
      "execution_count": null,
      "outputs": [
        {
          "output_type": "execute_result",
          "data": {
            "text/plain": [
              "(3, array([[  0,   0,   0,   0,   0,   0,   0,   0,   0,   0,   0,   0,   0,\n",
              "           0,   0,   0,   0,   0,   0,   0,   0,   0,   0,   0,   0,   0,\n",
              "           0,   0],\n",
              "        [  0,   0,   0,   0,   0,   0,   0,   0,   0,   0,   0,   0,   0,\n",
              "           0,   0,   0,   0,   0,   0,   0,   0,   0,   0,   0,   0,   0,\n",
              "           0,   0],\n",
              "        [  0,   0,   0,   0,   0,   0,   0,   0,   0,   0,   0,   0,   0,\n",
              "           0,   0,   0,   0,   0,   0,   0,   0,   0,   0,   0,   0,   0,\n",
              "           0,   0],\n",
              "        [  0,   0,   0,   0,   0,   0,   0,   0,   0,   0,   0,   0,   0,\n",
              "           0,   0,   0,   0,   0,   0,   0,   0,   0,   0,   0,   0,   0,\n",
              "           0,   0],\n",
              "        [  0,   0,   0,   0,   0,   0,   0,   0,   0,   0,  47, 160, 195,\n",
              "         205,  71,  86,  13,   0,   0,   0,   0,   0,   0,   0,   0,   0,\n",
              "           0,   0],\n",
              "        [  0,   0,   0,   0,   0,   0,   0,   0,   0,  12, 238, 254, 254,\n",
              "         254, 254, 254, 227,  84,   0,   0,   0,   0,   0,   0,   0,   0,\n",
              "           0,   0],\n",
              "        [  0,   0,   0,   0,   0,   0,   0,   0,   0,  13, 196, 176, 127,\n",
              "         176, 207, 236, 245, 222,  23,   0,   0,   0,   0,   0,   0,   0,\n",
              "           0,   0],\n",
              "        [  0,   0,   0,   0,   0,   0,   0,   0,   0,   0,   0,   0,   0,\n",
              "           0,   0,  20, 137, 254,  95,   0,   0,   0,   0,   0,   0,   0,\n",
              "           0,   0],\n",
              "        [  0,   0,   0,   0,   0,   0,   0,   0,   0,   0,   0,   0,   0,\n",
              "           0,   0,   0,  78, 254, 144,   0,   0,   0,   0,   0,   0,   0,\n",
              "           0,   0],\n",
              "        [  0,   0,   0,   0,   0,   0,   0,   0,   0,   0,   0,   0,   0,\n",
              "           0,   0,  17, 200, 254, 170,   0,   0,   0,   0,   0,   0,   0,\n",
              "           0,   0],\n",
              "        [  0,   0,   0,   0,   0,   0,   0,   0,   0,   0,   0,   0,   0,\n",
              "           0,  47, 218, 254, 216,  29,   0,   0,   0,   0,   0,   0,   0,\n",
              "           0,   0],\n",
              "        [  0,   0,   0,   0,   0,   0,   0,   0,   0,   0,   0,   0,   0,\n",
              "          95, 225, 254, 245,  65,   0,   0,   0,   0,   0,   0,   0,   0,\n",
              "           0,   0],\n",
              "        [  0,   0,   0,   0,   0,   0,   0,   0,   0,   0,   0,  12, 128,\n",
              "         252, 254, 236,  40,   0,   0,   0,   0,   0,   0,   0,   0,   0,\n",
              "           0,   0],\n",
              "        [  0,   0,   0,   0,   0,   0,   0,   0,   0,   0,   0, 172, 254,\n",
              "         254, 170,  58,   0,   0,   0,   0,   0,   0,   0,   0,   0,   0,\n",
              "           0,   0],\n",
              "        [  0,   0,   0,   0,   0,   0,   0,   0,   0,   0,   0, 207, 254,\n",
              "         254,  65,   0,   0,   0,   0,   0,   0,   0,   0,   0,   0,   0,\n",
              "           0,   0],\n",
              "        [  0,   0,   0,   0,   0,   0,   0,   0,   0,   0,   0, 137, 254,\n",
              "         254, 251, 146,  26,   0,   0,   0,   0,   0,   0,   0,   0,   0,\n",
              "           0,   0],\n",
              "        [  0,   0,   0,   0,   0,   0,   0,   0,   0,   0,   0,   9, 173,\n",
              "         224, 254, 254, 230,  71,   0,   0,   0,   0,   0,   0,   0,   0,\n",
              "           0,   0],\n",
              "        [  0,   0,   0,   0,   0,   0,   0,   0,   0,   0,   0,   0,   8,\n",
              "          12, 254, 254, 254, 246, 104,   0,   0,   0,   0,   0,   0,   0,\n",
              "           0,   0],\n",
              "        [  0,   0,   0,   0,   0,   0,   0,   0,   0,   0,   0,   0,   0,\n",
              "           0,  46, 189, 254, 254, 224,   0,   0,   0,   0,   0,   0,   0,\n",
              "           0,   0],\n",
              "        [  0,   0,   0,   0,   0,   0,   0,   0,   0,  10,   0,   0,   0,\n",
              "           0,   0,  17, 175, 254, 254,  25,   0,   0,   0,   0,   0,   0,\n",
              "           0,   0],\n",
              "        [  0,   0,   0,   0,   0,   0,   0,   0,  35, 231, 156, 112,  87,\n",
              "         186, 191, 218, 254, 254, 219,   0,   0,   0,   0,   0,   0,   0,\n",
              "           0,   0],\n",
              "        [  0,   0,   0,   0,   0,   0,   0,   0, 120, 255, 254, 254, 254,\n",
              "         254, 255, 254, 254, 242,  67,   0,   0,   0,   0,   0,   0,   0,\n",
              "           0,   0],\n",
              "        [  0,   0,   0,   0,   0,   0,   0,   0, 139, 255, 254, 254, 254,\n",
              "         254, 255, 171,  46,  24,   0,   0,   0,   0,   0,   0,   0,   0,\n",
              "           0,   0],\n",
              "        [  0,   0,   0,   0,   0,   0,   0,   0,   5,  71, 164, 189, 174,\n",
              "         174,  66,   4,   0,   0,   0,   0,   0,   0,   0,   0,   0,   0,\n",
              "           0,   0],\n",
              "        [  0,   0,   0,   0,   0,   0,   0,   0,   0,   0,   0,   0,   0,\n",
              "           0,   0,   0,   0,   0,   0,   0,   0,   0,   0,   0,   0,   0,\n",
              "           0,   0],\n",
              "        [  0,   0,   0,   0,   0,   0,   0,   0,   0,   0,   0,   0,   0,\n",
              "           0,   0,   0,   0,   0,   0,   0,   0,   0,   0,   0,   0,   0,\n",
              "           0,   0],\n",
              "        [  0,   0,   0,   0,   0,   0,   0,   0,   0,   0,   0,   0,   0,\n",
              "           0,   0,   0,   0,   0,   0,   0,   0,   0,   0,   0,   0,   0,\n",
              "           0,   0],\n",
              "        [  0,   0,   0,   0,   0,   0,   0,   0,   0,   0,   0,   0,   0,\n",
              "           0,   0,   0,   0,   0,   0,   0,   0,   0,   0,   0,   0,   0,\n",
              "           0,   0]], dtype=uint8))"
            ]
          },
          "metadata": {
            "tags": []
          },
          "execution_count": 9
        }
      ]
    },
    {
      "cell_type": "code",
      "metadata": {
        "colab": {
          "base_uri": "https://localhost:8080/",
          "height": 283
        },
        "id": "Y4W96n0krADo",
        "outputId": "69752c17-9b27-47be-d3ef-39098c6c5124"
      },
      "source": [
        "import matplotlib.pyplot as plt\n",
        "plt.imshow(x_train[50000])\n",
        "print(y_train[50000], type(y_train[50000]))"
      ],
      "execution_count": null,
      "outputs": [
        {
          "output_type": "stream",
          "text": [
            "3 <class 'numpy.uint8'>\n"
          ],
          "name": "stdout"
        },
        {
          "output_type": "display_data",
          "data": {
            "image/png": "[encoded data removed]",
            "text/plain": [
              "<Figure size 432x288 with 1 Axes>"
            ]
          },
          "metadata": {
            "tags": [],
            "needs_background": "light"
          }
        }
      ]
    },
    {
      "cell_type": "code",
      "metadata": {
        "colab": {
          "base_uri": "https://localhost:8080/"
        },
        "id": "cVwiN_GasKVN",
        "outputId": "608f7728-31fc-4104-cfa4-bcf41daa430a"
      },
      "source": [
        "x_train = x_train.reshape(-1,28*28)\n",
        "x_train.shape"
      ],
      "execution_count": null,
      "outputs": [
        {
          "output_type": "execute_result",
          "data": {
            "text/plain": [
              "(60000, 784)"
            ]
          },
          "metadata": {
            "tags": []
          },
          "execution_count": 15
        }
      ]
    },
    {
      "cell_type": "code",
      "metadata": {
        "colab": {
          "base_uri": "https://localhost:8080/"
        },
        "id": "l7QVYdhou7J7",
        "outputId": "134898cf-325c-4c9c-9465-f49d315d74c4"
      },
      "source": [
        "x_test = x_test.reshape(-1,28*28)\n",
        "x_test.shape"
      ],
      "execution_count": null,
      "outputs": [
        {
          "output_type": "execute_result",
          "data": {
            "text/plain": [
              "(10000, 784)"
            ]
          },
          "metadata": {
            "tags": []
          },
          "execution_count": 16
        }
      ]
    },
    {
      "cell_type": "code",
      "metadata": {
        "colab": {
          "base_uri": "https://localhost:8080/"
        },
        "id": "PDGYAkEVvdr0",
        "outputId": "0dd49b8f-de73-47ee-e6f7-d7447f194496"
      },
      "source": [
        "y_train[2:10],y_train.shape"
      ],
      "execution_count": null,
      "outputs": [
        {
          "output_type": "execute_result",
          "data": {
            "text/plain": [
              "(array([4, 1, 9, 2, 1, 3, 1, 4], dtype=uint8), (60000,))"
            ]
          },
          "metadata": {
            "tags": []
          },
          "execution_count": 21
        }
      ]
    },
    {
      "cell_type": "code",
      "metadata": {
        "colab": {
          "base_uri": "https://localhost:8080/"
        },
        "id": "OTl8jmuFxhPq",
        "outputId": "4236d9ab-7519-46db-ae1d-1dd808b676e6"
      },
      "source": [
        "import numpy as np\n",
        "np.unique(y_train)"
      ],
      "execution_count": null,
      "outputs": [
        {
          "output_type": "execute_result",
          "data": {
            "text/plain": [
              "array([0, 1, 2, 3, 4, 5, 6, 7, 8, 9], dtype=uint8)"
            ]
          },
          "metadata": {
            "tags": []
          },
          "execution_count": 22
        }
      ]
    },
    {
      "cell_type": "markdown",
      "metadata": {
        "id": "r0Zze2ZSwHjR"
      },
      "source": [
        "# apply model\n"
      ]
    },
    {
      "cell_type": "code",
      "metadata": {
        "id": "D9UQHmC_vkHe"
      },
      "source": [
        "import tensorflow as tf"
      ],
      "execution_count": null,
      "outputs": []
    },
    {
      "cell_type": "code",
      "metadata": {
        "colab": {
          "base_uri": "https://localhost:8080/"
        },
        "id": "5Jti3Qd1wTDo",
        "outputId": "83a7cb0a-b6de-429f-f41f-817ada14101e"
      },
      "source": [
        "model = tf.keras.models.Sequential()\n",
        "\n",
        "model.add(tf.keras.Input (shape=(784,))) # input layer\n",
        "model.add(tf.keras.layers.Dense(64, activation='relu')) # hidden layer\n",
        "model.add(tf.keras.layers.Dense(64, activation='relu')) # hidden layer\n",
        "# 3이상 -->  softmax, binary --> sigmoid\n",
        "model.add(tf.keras.layers.Dense(10, activation='softmax')) # output layer\n",
        "\n",
        "#regession --> loss : mse\n",
        "#  binary classification --> loss : binary crossentropy\n",
        "# over 3 classification  --> loss : categorical crossentropy () sparse_categorical_crossentropy)\n",
        "\n",
        "model.compile(optimizer='adam', loss='mse', metrics=['acc'])\n",
        "\n",
        "hist = model.fit(x_train, y_train, epochs=100)\n"
      ],
      "execution_count": 30,
      "outputs": [
        {
          "output_type": "stream",
          "text": [
            "WARNING:tensorflow:Please add `keras.layers.InputLayer` instead of `keras.Input` to Sequential model. `keras.Input` is intended to be used by Functional model.\n",
            "Epoch 1/100\n",
            "1875/1875 [==============================] - 3s 1ms/step - loss: 27.3944 - acc: 0.0977\n",
            "Epoch 2/100\n",
            "1875/1875 [==============================] - 2s 1ms/step - loss: 27.3945 - acc: 0.0987\n",
            "Epoch 3/100\n",
            "1875/1875 [==============================] - 2s 1ms/step - loss: 27.3945 - acc: 0.0987\n",
            "Epoch 4/100\n",
            "1875/1875 [==============================] - 2s 1ms/step - loss: 27.3945 - acc: 0.0987\n",
            "Epoch 5/100\n",
            "1875/1875 [==============================] - 2s 1ms/step - loss: 27.3945 - acc: 0.0987\n",
            "Epoch 6/100\n",
            "1875/1875 [==============================] - 2s 1ms/step - loss: 27.3945 - acc: 0.0987\n",
            "Epoch 7/100\n",
            "1875/1875 [==============================] - 2s 1ms/step - loss: 27.3945 - acc: 0.0987\n",
            "Epoch 8/100\n",
            "1875/1875 [==============================] - 2s 1ms/step - loss: 27.3945 - acc: 0.0987\n",
            "Epoch 9/100\n",
            "1875/1875 [==============================] - 2s 1ms/step - loss: 27.3945 - acc: 0.0987\n",
            "Epoch 10/100\n",
            "1875/1875 [==============================] - 3s 1ms/step - loss: 27.3945 - acc: 0.0987\n",
            "Epoch 11/100\n",
            "1875/1875 [==============================] - 2s 1ms/step - loss: 27.3945 - acc: 0.0987\n",
            "Epoch 12/100\n",
            "1875/1875 [==============================] - 2s 1ms/step - loss: 27.3945 - acc: 0.0987\n",
            "Epoch 13/100\n",
            "1875/1875 [==============================] - 2s 1ms/step - loss: 27.3945 - acc: 0.0987\n",
            "Epoch 14/100\n",
            "1875/1875 [==============================] - 2s 1ms/step - loss: 27.3945 - acc: 0.0987\n",
            "Epoch 15/100\n",
            "1875/1875 [==============================] - 2s 1ms/step - loss: 27.3945 - acc: 0.0987\n",
            "Epoch 16/100\n",
            "1875/1875 [==============================] - 2s 1ms/step - loss: 27.3945 - acc: 0.0987\n",
            "Epoch 17/100\n",
            "1875/1875 [==============================] - 2s 1ms/step - loss: 27.3945 - acc: 0.0987\n",
            "Epoch 18/100\n",
            "1875/1875 [==============================] - 3s 1ms/step - loss: 27.3945 - acc: 0.0987\n",
            "Epoch 19/100\n",
            "1875/1875 [==============================] - 2s 1ms/step - loss: 27.3944 - acc: 0.0987\n",
            "Epoch 20/100\n",
            "1875/1875 [==============================] - 2s 1ms/step - loss: 27.3945 - acc: 0.0987\n",
            "Epoch 21/100\n",
            "1875/1875 [==============================] - 2s 1ms/step - loss: 27.3945 - acc: 0.0987\n",
            "Epoch 22/100\n",
            "1875/1875 [==============================] - 2s 1ms/step - loss: 27.3945 - acc: 0.0987\n",
            "Epoch 23/100\n",
            "1875/1875 [==============================] - 2s 1ms/step - loss: 27.3945 - acc: 0.0987\n",
            "Epoch 24/100\n",
            "1875/1875 [==============================] - 2s 1ms/step - loss: 27.3945 - acc: 0.0987\n",
            "Epoch 25/100\n",
            "1875/1875 [==============================] - 2s 1ms/step - loss: 27.3945 - acc: 0.0987\n",
            "Epoch 26/100\n",
            "1875/1875 [==============================] - 2s 1ms/step - loss: 27.3944 - acc: 0.0987\n",
            "Epoch 27/100\n",
            "1875/1875 [==============================] - 2s 1ms/step - loss: 27.3945 - acc: 0.0987\n",
            "Epoch 28/100\n",
            "1875/1875 [==============================] - 2s 1ms/step - loss: 27.3945 - acc: 0.0987\n",
            "Epoch 29/100\n",
            "1875/1875 [==============================] - 3s 1ms/step - loss: 27.3945 - acc: 0.0987\n",
            "Epoch 30/100\n",
            "1875/1875 [==============================] - 2s 1ms/step - loss: 27.3945 - acc: 0.0987\n",
            "Epoch 31/100\n",
            "1875/1875 [==============================] - 2s 1ms/step - loss: 27.3945 - acc: 0.0987\n",
            "Epoch 32/100\n",
            "1875/1875 [==============================] - 2s 1ms/step - loss: 27.3945 - acc: 0.0987\n",
            "Epoch 33/100\n",
            "1875/1875 [==============================] - 2s 1ms/step - loss: 27.3945 - acc: 0.0987\n",
            "Epoch 34/100\n",
            "1875/1875 [==============================] - 2s 1ms/step - loss: 27.3945 - acc: 0.0987\n",
            "Epoch 35/100\n",
            "1875/1875 [==============================] - 2s 1ms/step - loss: 27.3945 - acc: 0.0987\n",
            "Epoch 36/100\n",
            "1875/1875 [==============================] - 2s 1ms/step - loss: 27.3945 - acc: 0.0987\n",
            "Epoch 37/100\n",
            "1875/1875 [==============================] - 2s 1ms/step - loss: 27.3945 - acc: 0.0987\n",
            "Epoch 38/100\n",
            "1875/1875 [==============================] - 2s 1ms/step - loss: 27.3945 - acc: 0.0987\n",
            "Epoch 39/100\n",
            "1875/1875 [==============================] - 2s 1ms/step - loss: 27.3945 - acc: 0.0987\n",
            "Epoch 40/100\n",
            "1875/1875 [==============================] - 2s 1ms/step - loss: 27.3945 - acc: 0.0987\n",
            "Epoch 41/100\n",
            "1875/1875 [==============================] - 2s 1ms/step - loss: 27.3945 - acc: 0.0987\n",
            "Epoch 42/100\n",
            "1875/1875 [==============================] - 2s 1ms/step - loss: 27.3945 - acc: 0.0987\n",
            "Epoch 43/100\n",
            "1875/1875 [==============================] - 3s 1ms/step - loss: 27.3945 - acc: 0.0987\n",
            "Epoch 44/100\n",
            "1875/1875 [==============================] - 3s 1ms/step - loss: 27.3945 - acc: 0.0987\n",
            "Epoch 45/100\n",
            "1875/1875 [==============================] - 2s 1ms/step - loss: 27.3944 - acc: 0.0987\n",
            "Epoch 46/100\n",
            "1875/1875 [==============================] - 2s 1ms/step - loss: 27.3945 - acc: 0.0987\n",
            "Epoch 47/100\n",
            "1875/1875 [==============================] - 2s 1ms/step - loss: 27.3945 - acc: 0.0987\n",
            "Epoch 48/100\n",
            "1875/1875 [==============================] - 2s 1ms/step - loss: 27.3945 - acc: 0.0987\n",
            "Epoch 49/100\n",
            "1875/1875 [==============================] - 2s 1ms/step - loss: 27.3945 - acc: 0.0987\n",
            "Epoch 50/100\n",
            "1875/1875 [==============================] - 2s 1ms/step - loss: 27.3945 - acc: 0.0987\n",
            "Epoch 51/100\n",
            "1875/1875 [==============================] - 3s 1ms/step - loss: 27.3945 - acc: 0.0987\n",
            "Epoch 52/100\n",
            "1875/1875 [==============================] - 3s 1ms/step - loss: 27.3945 - acc: 0.0987\n",
            "Epoch 53/100\n",
            "1875/1875 [==============================] - 3s 1ms/step - loss: 27.3945 - acc: 0.0987\n",
            "Epoch 54/100\n",
            "1875/1875 [==============================] - 3s 1ms/step - loss: 27.3945 - acc: 0.0987\n",
            "Epoch 55/100\n",
            "1875/1875 [==============================] - 3s 1ms/step - loss: 27.3945 - acc: 0.0987\n",
            "Epoch 56/100\n",
            "1875/1875 [==============================] - 3s 1ms/step - loss: 27.3945 - acc: 0.0987\n",
            "Epoch 57/100\n",
            "1875/1875 [==============================] - 3s 1ms/step - loss: 27.3945 - acc: 0.0987\n",
            "Epoch 58/100\n",
            "1875/1875 [==============================] - 3s 1ms/step - loss: 27.3945 - acc: 0.0987\n",
            "Epoch 59/100\n",
            "1875/1875 [==============================] - 2s 1ms/step - loss: 27.3945 - acc: 0.0987\n",
            "Epoch 60/100\n",
            "1875/1875 [==============================] - 2s 1ms/step - loss: 27.3945 - acc: 0.0987\n",
            "Epoch 61/100\n",
            "1875/1875 [==============================] - 2s 1ms/step - loss: 27.3945 - acc: 0.0987\n",
            "Epoch 62/100\n",
            "1875/1875 [==============================] - 2s 1ms/step - loss: 27.3945 - acc: 0.0987\n",
            "Epoch 63/100\n",
            "1875/1875 [==============================] - 2s 1ms/step - loss: 27.3945 - acc: 0.0987\n",
            "Epoch 64/100\n",
            "1875/1875 [==============================] - 2s 1ms/step - loss: 27.3945 - acc: 0.0987\n",
            "Epoch 65/100\n",
            "1875/1875 [==============================] - 2s 1ms/step - loss: 27.3945 - acc: 0.0987\n",
            "Epoch 66/100\n",
            "1875/1875 [==============================] - 2s 1ms/step - loss: 27.3945 - acc: 0.0987\n",
            "Epoch 67/100\n",
            "1875/1875 [==============================] - 2s 1ms/step - loss: 27.3945 - acc: 0.0987\n",
            "Epoch 68/100\n",
            "1875/1875 [==============================] - 2s 1ms/step - loss: 27.3945 - acc: 0.0987\n",
            "Epoch 69/100\n",
            "1875/1875 [==============================] - 2s 1ms/step - loss: 27.3945 - acc: 0.0987\n",
            "Epoch 70/100\n",
            "1875/1875 [==============================] - 2s 1ms/step - loss: 27.3945 - acc: 0.0987\n",
            "Epoch 71/100\n",
            "1875/1875 [==============================] - 2s 1ms/step - loss: 27.3945 - acc: 0.0987\n",
            "Epoch 72/100\n",
            "1875/1875 [==============================] - 2s 1ms/step - loss: 27.3945 - acc: 0.0987\n",
            "Epoch 73/100\n",
            "1875/1875 [==============================] - 2s 1ms/step - loss: 27.3945 - acc: 0.0987\n",
            "Epoch 74/100\n",
            "1875/1875 [==============================] - 2s 1ms/step - loss: 27.3945 - acc: 0.0987\n",
            "Epoch 75/100\n",
            "1875/1875 [==============================] - 2s 1ms/step - loss: 27.3945 - acc: 0.0987\n",
            "Epoch 76/100\n",
            "1875/1875 [==============================] - 2s 1ms/step - loss: 27.3945 - acc: 0.0987\n",
            "Epoch 77/100\n",
            "1875/1875 [==============================] - 2s 1ms/step - loss: 27.3945 - acc: 0.0987\n",
            "Epoch 78/100\n",
            "1875/1875 [==============================] - 2s 1ms/step - loss: 27.3945 - acc: 0.0987\n",
            "Epoch 79/100\n",
            "1875/1875 [==============================] - 2s 1ms/step - loss: 27.3945 - acc: 0.0987\n",
            "Epoch 80/100\n",
            "1875/1875 [==============================] - 3s 1ms/step - loss: 27.3945 - acc: 0.0987\n",
            "Epoch 81/100\n",
            "1875/1875 [==============================] - 2s 1ms/step - loss: 27.3944 - acc: 0.0987\n",
            "Epoch 82/100\n",
            "1875/1875 [==============================] - 2s 1ms/step - loss: 27.3945 - acc: 0.0987\n",
            "Epoch 83/100\n",
            "1875/1875 [==============================] - 2s 1ms/step - loss: 27.3945 - acc: 0.0987\n",
            "Epoch 84/100\n",
            "1875/1875 [==============================] - 3s 1ms/step - loss: 27.3945 - acc: 0.0987\n",
            "Epoch 85/100\n",
            "1875/1875 [==============================] - 3s 1ms/step - loss: 27.3944 - acc: 0.0987\n",
            "Epoch 86/100\n",
            "1875/1875 [==============================] - 3s 1ms/step - loss: 27.3945 - acc: 0.0987\n",
            "Epoch 87/100\n",
            "1875/1875 [==============================] - 2s 1ms/step - loss: 27.3945 - acc: 0.0987\n",
            "Epoch 88/100\n",
            "1875/1875 [==============================] - 2s 1ms/step - loss: 27.3944 - acc: 0.0987\n",
            "Epoch 89/100\n",
            "1875/1875 [==============================] - 2s 1ms/step - loss: 27.3945 - acc: 0.0987\n",
            "Epoch 90/100\n",
            "1875/1875 [==============================] - 2s 1ms/step - loss: 27.3945 - acc: 0.0987\n",
            "Epoch 91/100\n",
            "1875/1875 [==============================] - 3s 1ms/step - loss: 27.3945 - acc: 0.0987\n",
            "Epoch 92/100\n",
            "1875/1875 [==============================] - 3s 1ms/step - loss: 27.3945 - acc: 0.0987\n",
            "Epoch 93/100\n",
            "1875/1875 [==============================] - 2s 1ms/step - loss: 27.3945 - acc: 0.0987\n",
            "Epoch 94/100\n",
            "1875/1875 [==============================] - 3s 1ms/step - loss: 27.3944 - acc: 0.0987\n",
            "Epoch 95/100\n",
            "1875/1875 [==============================] - 2s 1ms/step - loss: 27.3945 - acc: 0.0987\n",
            "Epoch 96/100\n",
            "1875/1875 [==============================] - 2s 1ms/step - loss: 27.3945 - acc: 0.0987\n",
            "Epoch 97/100\n",
            "1875/1875 [==============================] - 2s 1ms/step - loss: 27.3945 - acc: 0.0987\n",
            "Epoch 98/100\n",
            "1875/1875 [==============================] - 2s 1ms/step - loss: 27.3945 - acc: 0.0987\n",
            "Epoch 99/100\n",
            "1875/1875 [==============================] - 2s 1ms/step - loss: 27.3945 - acc: 0.0987\n",
            "Epoch 100/100\n",
            "1875/1875 [==============================] - 2s 1ms/step - loss: 27.3945 - acc: 0.0987\n"
          ],
          "name": "stdout"
        }
      ]
    },
    {
      "cell_type": "code",
      "metadata": {
        "id": "PLPwtxzAwdns",
        "colab": {
          "base_uri": "https://localhost:8080/"
        },
        "outputId": "e4289a6e-8c15-49a9-df59-ac749f439772"
      },
      "source": [
        "model.fit(x_train,y_train, epochs=100, validation_split=0.3)"
      ],
      "execution_count": 28,
      "outputs": [
        {
          "output_type": "stream",
          "text": [
            "Epoch 1/100\n",
            "1313/1313 [==============================] - 3s 2ms/step - loss: 27.3581 - acc: 0.1009 - val_loss: 27.4794 - val_acc: 0.0966\n",
            "Epoch 2/100\n",
            "1313/1313 [==============================] - 2s 2ms/step - loss: 27.3581 - acc: 0.1002 - val_loss: 27.4794 - val_acc: 0.0966\n",
            "Epoch 3/100\n",
            "1313/1313 [==============================] - 2s 2ms/step - loss: 27.3581 - acc: 0.1002 - val_loss: 27.4794 - val_acc: 0.0966\n",
            "Epoch 4/100\n",
            "1313/1313 [==============================] - 2s 2ms/step - loss: 27.3581 - acc: 0.1002 - val_loss: 27.4794 - val_acc: 0.0966\n",
            "Epoch 5/100\n",
            "1313/1313 [==============================] - 2s 2ms/step - loss: 27.3581 - acc: 0.1002 - val_loss: 27.4794 - val_acc: 0.0966\n",
            "Epoch 6/100\n",
            "1313/1313 [==============================] - 2s 2ms/step - loss: 27.3581 - acc: 0.1002 - val_loss: 27.4794 - val_acc: 0.0966\n",
            "Epoch 7/100\n",
            "1313/1313 [==============================] - 2s 2ms/step - loss: 27.3581 - acc: 0.1002 - val_loss: 27.4794 - val_acc: 0.0966\n",
            "Epoch 8/100\n",
            "1313/1313 [==============================] - 2s 2ms/step - loss: 27.3581 - acc: 0.1002 - val_loss: 27.4794 - val_acc: 0.0966\n",
            "Epoch 9/100\n",
            "1313/1313 [==============================] - 2s 2ms/step - loss: 27.3581 - acc: 0.1002 - val_loss: 27.4794 - val_acc: 0.0966\n",
            "Epoch 10/100\n",
            "1313/1313 [==============================] - 2s 2ms/step - loss: 27.3581 - acc: 0.1002 - val_loss: 27.4794 - val_acc: 0.0966\n",
            "Epoch 11/100\n",
            "1313/1313 [==============================] - 2s 2ms/step - loss: 27.3581 - acc: 0.1002 - val_loss: 27.4794 - val_acc: 0.0966\n",
            "Epoch 12/100\n",
            "1313/1313 [==============================] - 2s 2ms/step - loss: 27.3581 - acc: 0.1002 - val_loss: 27.4794 - val_acc: 0.0966\n",
            "Epoch 13/100\n",
            "1313/1313 [==============================] - 2s 2ms/step - loss: 27.3581 - acc: 0.1002 - val_loss: 27.4794 - val_acc: 0.0966\n",
            "Epoch 14/100\n",
            "1313/1313 [==============================] - 2s 2ms/step - loss: 27.3581 - acc: 0.1002 - val_loss: 27.4794 - val_acc: 0.0966\n",
            "Epoch 15/100\n",
            "1313/1313 [==============================] - 2s 2ms/step - loss: 27.3581 - acc: 0.1002 - val_loss: 27.4794 - val_acc: 0.0966\n",
            "Epoch 16/100\n",
            "1313/1313 [==============================] - 2s 2ms/step - loss: 27.3581 - acc: 0.1002 - val_loss: 27.4794 - val_acc: 0.0966\n",
            "Epoch 17/100\n",
            "1313/1313 [==============================] - 2s 2ms/step - loss: 27.3581 - acc: 0.1002 - val_loss: 27.4794 - val_acc: 0.0966\n",
            "Epoch 18/100\n",
            "1313/1313 [==============================] - 2s 2ms/step - loss: 27.3581 - acc: 0.1002 - val_loss: 27.4794 - val_acc: 0.0966\n",
            "Epoch 19/100\n",
            "1313/1313 [==============================] - 2s 2ms/step - loss: 27.3581 - acc: 0.1002 - val_loss: 27.4794 - val_acc: 0.0966\n",
            "Epoch 20/100\n",
            "1313/1313 [==============================] - 2s 2ms/step - loss: 27.3581 - acc: 0.1002 - val_loss: 27.4794 - val_acc: 0.0966\n",
            "Epoch 21/100\n",
            "1313/1313 [==============================] - 2s 2ms/step - loss: 27.3581 - acc: 0.1002 - val_loss: 27.4794 - val_acc: 0.0966\n",
            "Epoch 22/100\n",
            "1313/1313 [==============================] - 2s 2ms/step - loss: 27.3581 - acc: 0.1002 - val_loss: 27.4794 - val_acc: 0.0966\n",
            "Epoch 23/100\n",
            "1313/1313 [==============================] - 2s 2ms/step - loss: 27.3581 - acc: 0.1002 - val_loss: 27.4794 - val_acc: 0.0966\n",
            "Epoch 24/100\n",
            "1313/1313 [==============================] - 3s 2ms/step - loss: 27.3581 - acc: 0.1002 - val_loss: 27.4794 - val_acc: 0.0966\n",
            "Epoch 25/100\n",
            "1313/1313 [==============================] - 2s 2ms/step - loss: 27.3581 - acc: 0.1002 - val_loss: 27.4794 - val_acc: 0.0966\n",
            "Epoch 26/100\n",
            "1313/1313 [==============================] - 2s 2ms/step - loss: 27.3581 - acc: 0.1002 - val_loss: 27.4794 - val_acc: 0.0966\n",
            "Epoch 27/100\n",
            "1313/1313 [==============================] - 2s 2ms/step - loss: 27.3581 - acc: 0.1002 - val_loss: 27.4794 - val_acc: 0.0966\n",
            "Epoch 28/100\n",
            "1313/1313 [==============================] - 3s 2ms/step - loss: 27.3581 - acc: 0.1002 - val_loss: 27.4794 - val_acc: 0.0966\n",
            "Epoch 29/100\n",
            "1313/1313 [==============================] - 2s 2ms/step - loss: 27.3581 - acc: 0.1002 - val_loss: 27.4794 - val_acc: 0.0966\n",
            "Epoch 30/100\n",
            "1313/1313 [==============================] - 2s 2ms/step - loss: 27.3581 - acc: 0.1002 - val_loss: 27.4794 - val_acc: 0.0966\n",
            "Epoch 31/100\n",
            "1313/1313 [==============================] - 2s 2ms/step - loss: 27.3581 - acc: 0.1002 - val_loss: 27.4794 - val_acc: 0.0966\n",
            "Epoch 32/100\n",
            "1313/1313 [==============================] - 2s 2ms/step - loss: 27.3581 - acc: 0.1002 - val_loss: 27.4794 - val_acc: 0.0966\n",
            "Epoch 33/100\n",
            "1313/1313 [==============================] - 2s 2ms/step - loss: 27.3581 - acc: 0.1002 - val_loss: 27.4794 - val_acc: 0.0966\n",
            "Epoch 34/100\n",
            "1313/1313 [==============================] - 2s 2ms/step - loss: 27.3581 - acc: 0.1002 - val_loss: 27.4794 - val_acc: 0.0966\n",
            "Epoch 35/100\n",
            "1313/1313 [==============================] - 2s 2ms/step - loss: 27.3581 - acc: 0.1002 - val_loss: 27.4794 - val_acc: 0.0966\n",
            "Epoch 36/100\n",
            "1313/1313 [==============================] - 2s 2ms/step - loss: 27.3581 - acc: 0.1002 - val_loss: 27.4794 - val_acc: 0.0966\n",
            "Epoch 37/100\n",
            "1313/1313 [==============================] - 2s 2ms/step - loss: 27.3581 - acc: 0.1002 - val_loss: 27.4794 - val_acc: 0.0966\n",
            "Epoch 38/100\n",
            "1313/1313 [==============================] - 2s 2ms/step - loss: 27.3581 - acc: 0.1002 - val_loss: 27.4794 - val_acc: 0.0966\n",
            "Epoch 39/100\n",
            "1313/1313 [==============================] - 2s 2ms/step - loss: 27.3581 - acc: 0.1002 - val_loss: 27.4794 - val_acc: 0.0966\n",
            "Epoch 40/100\n",
            "1313/1313 [==============================] - 2s 2ms/step - loss: 27.3581 - acc: 0.1002 - val_loss: 27.4794 - val_acc: 0.0966\n",
            "Epoch 41/100\n",
            "1313/1313 [==============================] - 2s 2ms/step - loss: 27.3581 - acc: 0.1002 - val_loss: 27.4794 - val_acc: 0.0966\n",
            "Epoch 42/100\n",
            "1313/1313 [==============================] - 2s 2ms/step - loss: 27.3581 - acc: 0.1002 - val_loss: 27.4794 - val_acc: 0.0966\n",
            "Epoch 43/100\n",
            "1313/1313 [==============================] - 2s 2ms/step - loss: 27.3581 - acc: 0.1002 - val_loss: 27.4794 - val_acc: 0.0966\n",
            "Epoch 44/100\n",
            "1313/1313 [==============================] - 2s 2ms/step - loss: 27.3581 - acc: 0.1002 - val_loss: 27.4794 - val_acc: 0.0966\n",
            "Epoch 45/100\n",
            "1313/1313 [==============================] - 3s 2ms/step - loss: 27.3581 - acc: 0.1002 - val_loss: 27.4794 - val_acc: 0.0966\n",
            "Epoch 46/100\n",
            "1313/1313 [==============================] - 3s 2ms/step - loss: 27.3581 - acc: 0.1002 - val_loss: 27.4794 - val_acc: 0.0966\n",
            "Epoch 47/100\n",
            "1313/1313 [==============================] - 2s 2ms/step - loss: 27.3581 - acc: 0.1002 - val_loss: 27.4794 - val_acc: 0.0966\n",
            "Epoch 48/100\n",
            "1313/1313 [==============================] - 2s 2ms/step - loss: 27.3581 - acc: 0.1002 - val_loss: 27.4794 - val_acc: 0.0966\n",
            "Epoch 49/100\n",
            "1313/1313 [==============================] - 3s 2ms/step - loss: 27.3581 - acc: 0.1002 - val_loss: 27.4794 - val_acc: 0.0966\n",
            "Epoch 50/100\n",
            "1313/1313 [==============================] - 2s 2ms/step - loss: 27.3581 - acc: 0.1002 - val_loss: 27.4794 - val_acc: 0.0966\n",
            "Epoch 51/100\n",
            "1313/1313 [==============================] - 2s 2ms/step - loss: 27.3581 - acc: 0.1002 - val_loss: 27.4794 - val_acc: 0.0966\n",
            "Epoch 52/100\n",
            "1313/1313 [==============================] - 3s 2ms/step - loss: 27.3581 - acc: 0.1002 - val_loss: 27.4794 - val_acc: 0.0966\n",
            "Epoch 53/100\n",
            "1313/1313 [==============================] - 2s 2ms/step - loss: 27.3581 - acc: 0.1002 - val_loss: 27.4794 - val_acc: 0.0966\n",
            "Epoch 54/100\n",
            "1313/1313 [==============================] - 2s 2ms/step - loss: 27.3581 - acc: 0.1002 - val_loss: 27.4794 - val_acc: 0.0966\n",
            "Epoch 55/100\n",
            "1313/1313 [==============================] - 2s 2ms/step - loss: 27.3581 - acc: 0.1002 - val_loss: 27.4794 - val_acc: 0.0966\n",
            "Epoch 56/100\n",
            "1313/1313 [==============================] - 2s 2ms/step - loss: 27.3581 - acc: 0.1002 - val_loss: 27.4794 - val_acc: 0.0966\n",
            "Epoch 57/100\n",
            "1313/1313 [==============================] - 2s 2ms/step - loss: 27.3581 - acc: 0.1002 - val_loss: 27.4794 - val_acc: 0.0966\n",
            "Epoch 58/100\n",
            "1313/1313 [==============================] - 2s 2ms/step - loss: 27.3581 - acc: 0.1002 - val_loss: 27.4794 - val_acc: 0.0966\n",
            "Epoch 59/100\n",
            "1313/1313 [==============================] - 2s 2ms/step - loss: 27.3581 - acc: 0.1002 - val_loss: 27.4794 - val_acc: 0.0966\n",
            "Epoch 60/100\n",
            "1313/1313 [==============================] - 3s 2ms/step - loss: 27.3581 - acc: 0.1002 - val_loss: 27.4794 - val_acc: 0.0966\n",
            "Epoch 61/100\n",
            "1313/1313 [==============================] - 2s 2ms/step - loss: 27.3581 - acc: 0.1002 - val_loss: 27.4794 - val_acc: 0.0966\n",
            "Epoch 62/100\n",
            "1313/1313 [==============================] - 2s 2ms/step - loss: 27.3581 - acc: 0.1002 - val_loss: 27.4794 - val_acc: 0.0966\n",
            "Epoch 63/100\n",
            "1313/1313 [==============================] - 2s 2ms/step - loss: 27.3581 - acc: 0.1002 - val_loss: 27.4794 - val_acc: 0.0966\n",
            "Epoch 64/100\n",
            "1313/1313 [==============================] - 3s 2ms/step - loss: 27.3581 - acc: 0.1002 - val_loss: 27.4794 - val_acc: 0.0966\n",
            "Epoch 65/100\n",
            "1313/1313 [==============================] - 3s 2ms/step - loss: 27.3581 - acc: 0.1002 - val_loss: 27.4794 - val_acc: 0.0966\n",
            "Epoch 66/100\n",
            "1313/1313 [==============================] - 2s 2ms/step - loss: 27.3581 - acc: 0.1002 - val_loss: 27.4794 - val_acc: 0.0966\n",
            "Epoch 67/100\n",
            "1313/1313 [==============================] - 3s 2ms/step - loss: 27.3581 - acc: 0.1002 - val_loss: 27.4794 - val_acc: 0.0966\n",
            "Epoch 68/100\n",
            "1313/1313 [==============================] - 3s 2ms/step - loss: 27.3581 - acc: 0.1002 - val_loss: 27.4794 - val_acc: 0.0966\n",
            "Epoch 69/100\n",
            "1313/1313 [==============================] - 2s 2ms/step - loss: 27.3581 - acc: 0.1002 - val_loss: 27.4794 - val_acc: 0.0966\n",
            "Epoch 70/100\n",
            "1313/1313 [==============================] - 2s 2ms/step - loss: 27.3581 - acc: 0.1002 - val_loss: 27.4794 - val_acc: 0.0966\n",
            "Epoch 71/100\n",
            "1313/1313 [==============================] - 2s 2ms/step - loss: 27.3581 - acc: 0.1002 - val_loss: 27.4794 - val_acc: 0.0966\n",
            "Epoch 72/100\n",
            "1313/1313 [==============================] - 2s 2ms/step - loss: 27.3581 - acc: 0.1002 - val_loss: 27.4794 - val_acc: 0.0966\n",
            "Epoch 73/100\n",
            "1313/1313 [==============================] - 3s 2ms/step - loss: 27.3581 - acc: 0.1002 - val_loss: 27.4794 - val_acc: 0.0966\n",
            "Epoch 74/100\n",
            "1313/1313 [==============================] - 2s 2ms/step - loss: 27.3581 - acc: 0.1002 - val_loss: 27.4794 - val_acc: 0.0966\n",
            "Epoch 75/100\n",
            "1313/1313 [==============================] - 2s 2ms/step - loss: 27.3581 - acc: 0.1002 - val_loss: 27.4794 - val_acc: 0.0966\n",
            "Epoch 76/100\n",
            "1313/1313 [==============================] - 2s 2ms/step - loss: 27.3581 - acc: 0.1002 - val_loss: 27.4794 - val_acc: 0.0966\n",
            "Epoch 77/100\n",
            "1313/1313 [==============================] - 2s 2ms/step - loss: 27.3581 - acc: 0.1002 - val_loss: 27.4794 - val_acc: 0.0966\n",
            "Epoch 78/100\n",
            "1313/1313 [==============================] - 2s 2ms/step - loss: 27.3581 - acc: 0.1002 - val_loss: 27.4794 - val_acc: 0.0966\n",
            "Epoch 79/100\n",
            "1313/1313 [==============================] - 2s 2ms/step - loss: 27.3581 - acc: 0.1002 - val_loss: 27.4794 - val_acc: 0.0966\n",
            "Epoch 80/100\n",
            "1313/1313 [==============================] - 2s 2ms/step - loss: 27.3581 - acc: 0.1002 - val_loss: 27.4794 - val_acc: 0.0966\n",
            "Epoch 81/100\n",
            "1313/1313 [==============================] - 2s 2ms/step - loss: 27.3581 - acc: 0.1002 - val_loss: 27.4794 - val_acc: 0.0966\n",
            "Epoch 82/100\n",
            "1313/1313 [==============================] - 2s 2ms/step - loss: 27.3581 - acc: 0.1002 - val_loss: 27.4794 - val_acc: 0.0966\n",
            "Epoch 83/100\n",
            "1313/1313 [==============================] - 3s 2ms/step - loss: 27.3581 - acc: 0.1002 - val_loss: 27.4794 - val_acc: 0.0966\n",
            "Epoch 84/100\n",
            "1313/1313 [==============================] - 2s 2ms/step - loss: 27.3581 - acc: 0.1002 - val_loss: 27.4794 - val_acc: 0.0966\n",
            "Epoch 85/100\n",
            "1313/1313 [==============================] - 2s 2ms/step - loss: 27.3581 - acc: 0.1002 - val_loss: 27.4794 - val_acc: 0.0966\n",
            "Epoch 86/100\n",
            "1313/1313 [==============================] - 2s 2ms/step - loss: 27.3581 - acc: 0.1002 - val_loss: 27.4794 - val_acc: 0.0966\n",
            "Epoch 87/100\n",
            "1313/1313 [==============================] - 2s 2ms/step - loss: 27.3581 - acc: 0.1002 - val_loss: 27.4794 - val_acc: 0.0966\n",
            "Epoch 88/100\n",
            "1313/1313 [==============================] - 3s 2ms/step - loss: 27.3581 - acc: 0.1002 - val_loss: 27.4794 - val_acc: 0.0966\n",
            "Epoch 89/100\n",
            "1313/1313 [==============================] - 2s 2ms/step - loss: 27.3581 - acc: 0.1002 - val_loss: 27.4794 - val_acc: 0.0966\n",
            "Epoch 90/100\n",
            "1313/1313 [==============================] - 3s 2ms/step - loss: 27.3581 - acc: 0.1002 - val_loss: 27.4794 - val_acc: 0.0966\n",
            "Epoch 91/100\n",
            "1313/1313 [==============================] - 3s 2ms/step - loss: 27.3581 - acc: 0.1002 - val_loss: 27.4794 - val_acc: 0.0966\n",
            "Epoch 92/100\n",
            "1313/1313 [==============================] - 3s 2ms/step - loss: 27.3581 - acc: 0.1002 - val_loss: 27.4794 - val_acc: 0.0966\n",
            "Epoch 93/100\n",
            "1313/1313 [==============================] - 2s 2ms/step - loss: 27.3581 - acc: 0.1002 - val_loss: 27.4794 - val_acc: 0.0966\n",
            "Epoch 94/100\n",
            "1313/1313 [==============================] - 2s 2ms/step - loss: 27.3581 - acc: 0.1002 - val_loss: 27.4794 - val_acc: 0.0966\n",
            "Epoch 95/100\n",
            "1313/1313 [==============================] - 3s 2ms/step - loss: 27.3581 - acc: 0.1002 - val_loss: 27.4794 - val_acc: 0.0966\n",
            "Epoch 96/100\n",
            "1313/1313 [==============================] - 2s 2ms/step - loss: 27.3581 - acc: 0.1002 - val_loss: 27.4794 - val_acc: 0.0966\n",
            "Epoch 97/100\n",
            "1313/1313 [==============================] - 2s 2ms/step - loss: 27.3581 - acc: 0.1002 - val_loss: 27.4794 - val_acc: 0.0966\n",
            "Epoch 98/100\n",
            "1313/1313 [==============================] - 2s 2ms/step - loss: 27.3581 - acc: 0.1002 - val_loss: 27.4794 - val_acc: 0.0966\n",
            "Epoch 99/100\n",
            "1313/1313 [==============================] - 3s 2ms/step - loss: 27.3581 - acc: 0.1002 - val_loss: 27.4794 - val_acc: 0.0966\n",
            "Epoch 100/100\n",
            "1313/1313 [==============================] - 2s 2ms/step - loss: 27.3581 - acc: 0.1002 - val_loss: 27.4794 - val_acc: 0.0966\n"
          ],
          "name": "stdout"
        },
        {
          "output_type": "execute_result",
          "data": {
            "text/plain": [
              "<tensorflow.python.keras.callbacks.History at 0x7f3f10263310>"
            ]
          },
          "metadata": {
            "tags": []
          },
          "execution_count": 28
        }
      ]
    },
    {
      "cell_type": "code",
      "metadata": {
        "colab": {
          "base_uri": "https://localhost:8080/"
        },
        "id": "SFHhTKy-_db5",
        "outputId": "6531d6fa-e8eb-4016-fc6b-559f4e53433f"
      },
      "source": [
        " hist.history.keys()"
      ],
      "execution_count": 31,
      "outputs": [
        {
          "output_type": "execute_result",
          "data": {
            "text/plain": [
              "dict_keys(['loss', 'acc'])"
            ]
          },
          "metadata": {
            "tags": []
          },
          "execution_count": 31
        }
      ]
    },
    {
      "cell_type": "code",
      "metadata": {
        "colab": {
          "base_uri": "https://localhost:8080/",
          "height": 482
        },
        "id": "WbcxdO0xLbEd",
        "outputId": "e719d483-ce19-4220-a410-23471aecb002"
      },
      "source": [
        "import matplotlib.pyplot as plt\n",
        "\n",
        "\n",
        "plt.plot(hist.history['loss'])\n",
        "plt.plot(hist.history['val_loss'])\n",
        "plt.show()\n"
      ],
      "execution_count": 33,
      "outputs": [
        {
          "output_type": "error",
          "ename": "KeyError",
          "evalue": "ignored",
          "traceback": [
            "\u001b[0;31m---------------------------------------------------------------------------\u001b[0m",
            "\u001b[0;31mKeyError\u001b[0m                                  Traceback (most recent call last)",
            "\u001b[0;32m<ipython-input-33-4bc653e7abae>\u001b[0m in \u001b[0;36m<module>\u001b[0;34m()\u001b[0m\n\u001b[1;32m      3\u001b[0m \u001b[0;34m\u001b[0m\u001b[0m\n\u001b[1;32m      4\u001b[0m \u001b[0mplt\u001b[0m\u001b[0;34m.\u001b[0m\u001b[0mplot\u001b[0m\u001b[0;34m(\u001b[0m\u001b[0mhist\u001b[0m\u001b[0;34m.\u001b[0m\u001b[0mhistory\u001b[0m\u001b[0;34m[\u001b[0m\u001b[0;34m'loss'\u001b[0m\u001b[0;34m]\u001b[0m\u001b[0;34m)\u001b[0m\u001b[0;34m\u001b[0m\u001b[0;34m\u001b[0m\u001b[0m\n\u001b[0;32m----> 5\u001b[0;31m \u001b[0mplt\u001b[0m\u001b[0;34m.\u001b[0m\u001b[0mplot\u001b[0m\u001b[0;34m(\u001b[0m\u001b[0mhist\u001b[0m\u001b[0;34m.\u001b[0m\u001b[0mhistory\u001b[0m\u001b[0;34m[\u001b[0m\u001b[0;34m'val_loss'\u001b[0m\u001b[0;34m]\u001b[0m\u001b[0;34m)\u001b[0m\u001b[0;34m\u001b[0m\u001b[0;34m\u001b[0m\u001b[0m\n\u001b[0m\u001b[1;32m      6\u001b[0m \u001b[0mplt\u001b[0m\u001b[0;34m.\u001b[0m\u001b[0mshow\u001b[0m\u001b[0;34m(\u001b[0m\u001b[0;34m)\u001b[0m\u001b[0;34m\u001b[0m\u001b[0;34m\u001b[0m\u001b[0m\n",
            "\u001b[0;31mKeyError\u001b[0m: 'val_loss'"
          ]
        },
        {
          "output_type": "display_data",
          "data": {
            "image/png": "[encoded data removed]",
            "text/plain": [
              "<Figure size 432x288 with 1 Axes>"
            ]
          },
          "metadata": {
            "tags": [],
            "needs_background": "light"
          }
        }
      ]
    },
    {
      "cell_type": "code",
      "metadata": {
        "colab": {
          "base_uri": "https://localhost:8080/",
          "height": 454
        },
        "id": "r4dlTyYVLv1a",
        "outputId": "37b9d792-2c6e-439f-fe1e-53bb0bb1f091"
      },
      "source": [
        "plt.plot(hist.history['acc'])\n",
        "plt.pot(hist.history['val_acc'],'r-')\n",
        "plt.show()"
      ],
      "execution_count": 35,
      "outputs": [
        {
          "output_type": "error",
          "ename": "AttributeError",
          "evalue": "ignored",
          "traceback": [
            "\u001b[0;31m---------------------------------------------------------------------------\u001b[0m",
            "\u001b[0;31mAttributeError\u001b[0m                            Traceback (most recent call last)",
            "\u001b[0;32m<ipython-input-35-54fb1db92c7a>\u001b[0m in \u001b[0;36m<module>\u001b[0;34m()\u001b[0m\n\u001b[1;32m      1\u001b[0m \u001b[0mplt\u001b[0m\u001b[0;34m.\u001b[0m\u001b[0mplot\u001b[0m\u001b[0;34m(\u001b[0m\u001b[0mhist\u001b[0m\u001b[0;34m.\u001b[0m\u001b[0mhistory\u001b[0m\u001b[0;34m[\u001b[0m\u001b[0;34m'acc'\u001b[0m\u001b[0;34m]\u001b[0m\u001b[0;34m)\u001b[0m\u001b[0;34m\u001b[0m\u001b[0;34m\u001b[0m\u001b[0m\n\u001b[0;32m----> 2\u001b[0;31m \u001b[0mplt\u001b[0m\u001b[0;34m.\u001b[0m\u001b[0mpot\u001b[0m\u001b[0;34m(\u001b[0m\u001b[0mhist\u001b[0m\u001b[0;34m.\u001b[0m\u001b[0mhistory\u001b[0m\u001b[0;34m[\u001b[0m\u001b[0;34m'val_acc'\u001b[0m\u001b[0;34m]\u001b[0m\u001b[0;34m,\u001b[0m\u001b[0;34m'r-'\u001b[0m\u001b[0;34m)\u001b[0m\u001b[0;34m\u001b[0m\u001b[0;34m\u001b[0m\u001b[0m\n\u001b[0m\u001b[1;32m      3\u001b[0m \u001b[0mplt\u001b[0m\u001b[0;34m.\u001b[0m\u001b[0mshow\u001b[0m\u001b[0;34m(\u001b[0m\u001b[0;34m)\u001b[0m\u001b[0;34m\u001b[0m\u001b[0;34m\u001b[0m\u001b[0m\n",
            "\u001b[0;31mAttributeError\u001b[0m: module 'matplotlib.pyplot' has no attribute 'pot'"
          ]
        },
        {
          "output_type": "display_data",
          "data": {
            "image/png": "[encoded data removed]",
            "text/plain": [
              "<Figure size 432x288 with 1 Axes>"
            ]
          },
          "metadata": {
            "tags": [],
            "needs_background": "light"
          }
        }
      ]
    },
    {
      "cell_type": "markdown",
      "metadata": {
        "id": "hG4LoGcPMxeQ"
      },
      "source": [
        "# service\n"
      ]
    },
    {
      "cell_type": "code",
      "metadata": {
        "id": "514wDkICMoqT"
      },
      "source": [
        "model.predict(x_test[30])"
      ],
      "execution_count": null,
      "outputs": []
    }
  ]
}